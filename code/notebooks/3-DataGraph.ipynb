{
 "cells": [
  {
   "cell_type": "code",
   "execution_count": 2,
   "metadata": {},
   "outputs": [],
   "source": [
    "from py2neo import Graph, Node, Relationship\n",
    "import pandas as pd\n",
    "from IPython.display import Javascript\n",
    "# from fuzzywuzzy import process, fuzz"
   ]
  },
  {
   "cell_type": "code",
   "execution_count": 3,
   "metadata": {},
   "outputs": [],
   "source": [
    "import platform\n",
    "import psutil\n",
    "import os"
   ]
  },
  {
   "cell_type": "code",
   "execution_count": 4,
   "metadata": {},
   "outputs": [
    {
     "name": "stdout",
     "output_type": "stream",
     "text": [
      "conda : 4.9.2\n",
      "pip   : 20.2.4\n",
      "python: 3.8.6\n",
      "pandas: 1.1.4\n",
      "py2neo: 4.2.0\n"
     ]
    }
   ],
   "source": [
    "conda_version = ! conda -V\n",
    "print(f\"conda : {conda_version[0].split()[1]}\")\n",
    "pip_version = ! pip -V\n",
    "print(f\"pip   : {pip_version[0].split()[1]}\")\n",
    "python_version = ! python -V\n",
    "print(f\"python: {python_version[0].split()[1]}\")\n",
    "pandas_version = ! pip list |grep -i pandas\n",
    "print(f\"pandas: {pandas_version[0].split()[1]}\")\n",
    "py2neo_version = ! pip list |grep -i py2neo\n",
    "print(f\"py2neo: {py2neo_version[0].split()[1]}\")"
   ]
  },
  {
   "cell_type": "code",
   "execution_count": 34,
   "metadata": {},
   "outputs": [],
   "source": [
    "server  = \"13.93.37.217\"\n",
    "port    = \"7687\"\n",
    "user    = \"neo4j\"\n",
    "passw   = \"digityser\"\n",
    "db_name = \"neo4j\"        # default name (v4.x)"
   ]
  },
  {
   "cell_type": "code",
   "execution_count": 35,
   "metadata": {},
   "outputs": [],
   "source": [
    "# load graph connection instance\n",
    "graph = Graph(host=server, auth=(user, passw), name=db_name, encrypted=False)"
   ]
  },
  {
   "cell_type": "code",
   "execution_count": 33,
   "metadata": {},
   "outputs": [],
   "source": [
    "# import the dataset\n",
    "synthetic_df = pd.read_csv(\"../../data/bronze/synthetic_data.csv\")"
   ]
  },
  {
   "cell_type": "markdown",
   "metadata": {},
   "source": [
    "### data cleaning prep"
   ]
  },
  {
   "cell_type": "code",
   "execution_count": 16,
   "metadata": {},
   "outputs": [],
   "source": [
    "synthetic_df[\"id\"] = synthetic_df.index"
   ]
  },
  {
   "cell_type": "markdown",
   "metadata": {},
   "source": [
    "### data loading Graph DB"
   ]
  },
  {
   "cell_type": "code",
   "execution_count": 17,
   "metadata": {},
   "outputs": [],
   "source": [
    "# save file to /import\n",
    "file = \"synthetic_data.csv\"\n",
    "synthetic_df.to_csv(\"../../neo4j/import/\"+file, sep=',', index=False)"
   ]
  },
  {
   "cell_type": "code",
   "execution_count": 12,
   "metadata": {},
   "outputs": [],
   "source": []
  },
  {
   "cell_type": "code",
   "execution_count": 7,
   "metadata": {},
   "outputs": [
    {
     "data": {
      "text/plain": [
       "<py2neo.database.Cursor at 0x7fab88d0fa30>"
      ]
     },
     "execution_count": 7,
     "metadata": {},
     "output_type": "execute_result"
    }
   ],
   "source": [
    "graph.run(\"CREATE CONSTRAINT ON (p:Patient) ASSERT p.id IS UNIQUE\")"
   ]
  },
  {
   "cell_type": "code",
   "execution_count": 8,
   "metadata": {},
   "outputs": [
    {
     "data": {
      "text/plain": [
       "<py2neo.database.Cursor at 0x7fab88cc7a30>"
      ]
     },
     "execution_count": 8,
     "metadata": {},
     "output_type": "execute_result"
    }
   ],
   "source": [
    "graph.run(\"CREATE CONSTRAINT ON (r:Race) ASSERT r.value IS UNIQUE\")"
   ]
  },
  {
   "cell_type": "code",
   "execution_count": 29,
   "metadata": {},
   "outputs": [
    {
     "data": {
      "text/plain": [
       "constraints_added: 0\n",
       "constraints_removed: 0\n",
       "contains_updates: True\n",
       "indexes_added: 0\n",
       "indexes_removed: 0\n",
       "labels_added: 78446\n",
       "labels_removed: 0\n",
       "nodes_created: 78446\n",
       "nodes_deleted: 0\n",
       "properties_set: 78446\n",
       "relationships_created: 78441\n",
       "relationships_deleted: 0"
      ]
     },
     "metadata": {},
     "output_type": "display_data"
    }
   ],
   "source": [
    "query = \"\"\"\n",
    "USING PERIODIC COMMIT 1000\n",
    "LOAD CSV WITH HEADERS FROM 'file:///\"\"\"+file+\"\"\"' AS line FIELDTERMINATOR ','\n",
    "MERGE (p:Patient {id:(line.id)})\n",
    "MERGE (r:Race {value:(line.race)})\n",
    "MERGE (p)-[:IS_RACE]->(r)\n",
    "\"\"\"\n",
    "display(graph.run(query).stats())"
   ]
  },
  {
   "cell_type": "code",
   "execution_count": 36,
   "metadata": {},
   "outputs": [
    {
     "data": {
      "text/plain": [
       "<py2neo.database.Cursor at 0x7fab67fe3700>"
      ]
     },
     "execution_count": 36,
     "metadata": {},
     "output_type": "execute_result"
    }
   ],
   "source": [
    "graph.run(\"CREATE CONSTRAINT ON (g:Gender) ASSERT g.value IS UNIQUE\")"
   ]
  },
  {
   "cell_type": "code",
   "execution_count": 39,
   "metadata": {},
   "outputs": [
    {
     "data": {
      "text/html": [
       "<div>\n",
       "<style scoped>\n",
       "    .dataframe tbody tr th:only-of-type {\n",
       "        vertical-align: middle;\n",
       "    }\n",
       "\n",
       "    .dataframe tbody tr th {\n",
       "        vertical-align: top;\n",
       "    }\n",
       "\n",
       "    .dataframe thead th {\n",
       "        text-align: right;\n",
       "    }\n",
       "</style>\n",
       "<table border=\"1\" class=\"dataframe\">\n",
       "  <thead>\n",
       "    <tr style=\"text-align: right;\">\n",
       "      <th></th>\n",
       "      <th>0</th>\n",
       "      <th>1</th>\n",
       "      <th>2</th>\n",
       "    </tr>\n",
       "  </thead>\n",
       "  <tbody>\n",
       "    <tr>\n",
       "      <th>queryId</th>\n",
       "      <td>query-3270</td>\n",
       "      <td>query-3279</td>\n",
       "      <td>query-3238</td>\n",
       "    </tr>\n",
       "    <tr>\n",
       "      <th>query</th>\n",
       "      <td>\\nUSING PERIODIC COMMIT 1000\\nLOAD CSV WITH HE...</td>\n",
       "      <td>CALL dbms.listQueries()</td>\n",
       "      <td>\\nUSING PERIODIC COMMIT 1000\\nLOAD CSV WITH HE...</td>\n",
       "    </tr>\n",
       "    <tr>\n",
       "      <th>status</th>\n",
       "      <td>waiting</td>\n",
       "      <td>running</td>\n",
       "      <td>running</td>\n",
       "    </tr>\n",
       "    <tr>\n",
       "      <th>elapsedTimeMillis</th>\n",
       "      <td>52988</td>\n",
       "      <td>54</td>\n",
       "      <td>166961</td>\n",
       "    </tr>\n",
       "  </tbody>\n",
       "</table>\n",
       "</div>"
      ],
      "text/plain": [
       "                                                                   0  \\\n",
       "queryId                                                   query-3270   \n",
       "query              \\nUSING PERIODIC COMMIT 1000\\nLOAD CSV WITH HE...   \n",
       "status                                                       waiting   \n",
       "elapsedTimeMillis                                              52988   \n",
       "\n",
       "                                         1  \\\n",
       "queryId                         query-3279   \n",
       "query              CALL dbms.listQueries()   \n",
       "status                             running   \n",
       "elapsedTimeMillis                       54   \n",
       "\n",
       "                                                                   2  \n",
       "queryId                                                   query-3238  \n",
       "query              \\nUSING PERIODIC COMMIT 1000\\nLOAD CSV WITH HE...  \n",
       "status                                                       running  \n",
       "elapsedTimeMillis                                             166961  "
      ]
     },
     "execution_count": 39,
     "metadata": {},
     "output_type": "execute_result"
    }
   ],
   "source": [
    "#status queries\n",
    "graph.run(\"\"\"CALL dbms.listQueries()\"\"\").to_data_frame()[[\"queryId\", \"query\", \"status\", \"elapsedTimeMillis\"]].T"
   ]
  },
  {
   "cell_type": "code",
   "execution_count": 42,
   "metadata": {},
   "outputs": [
    {
     "data": {
      "text/html": [
       "<div>\n",
       "<style scoped>\n",
       "    .dataframe tbody tr th:only-of-type {\n",
       "        vertical-align: middle;\n",
       "    }\n",
       "\n",
       "    .dataframe tbody tr th {\n",
       "        vertical-align: top;\n",
       "    }\n",
       "\n",
       "    .dataframe thead th {\n",
       "        text-align: right;\n",
       "    }\n",
       "</style>\n",
       "<table border=\"1\" class=\"dataframe\">\n",
       "  <thead>\n",
       "    <tr style=\"text-align: right;\">\n",
       "      <th></th>\n",
       "      <th>queryId</th>\n",
       "      <th>username</th>\n",
       "      <th>message</th>\n",
       "    </tr>\n",
       "  </thead>\n",
       "  <tbody>\n",
       "    <tr>\n",
       "      <th>0</th>\n",
       "      <td>query-3238</td>\n",
       "      <td>neo4j</td>\n",
       "      <td>Query found</td>\n",
       "    </tr>\n",
       "  </tbody>\n",
       "</table>\n",
       "</div>"
      ],
      "text/plain": [
       "      queryId username      message\n",
       "0  query-3238    neo4j  Query found"
      ]
     },
     "execution_count": 42,
     "metadata": {},
     "output_type": "execute_result"
    }
   ],
   "source": [
    "#remove queries\n",
    "graph.run(\"\"\"CALL dbms.killQueries([\"query-3238\"])\"\"\").to_data_frame()"
   ]
  },
  {
   "cell_type": "code",
   "execution_count": 43,
   "metadata": {},
   "outputs": [
    {
     "data": {
      "text/plain": [
       "constraints_added: 0\n",
       "constraints_removed: 0\n",
       "contains_updates: True\n",
       "indexes_added: 0\n",
       "indexes_removed: 0\n",
       "labels_added: 2\n",
       "labels_removed: 0\n",
       "nodes_created: 2\n",
       "nodes_deleted: 0\n",
       "properties_set: 2\n",
       "relationships_created: 78441\n",
       "relationships_deleted: 0"
      ]
     },
     "metadata": {},
     "output_type": "display_data"
    }
   ],
   "source": [
    "query = \"\"\"\n",
    "USING PERIODIC COMMIT 1000\n",
    "LOAD CSV WITH HEADERS FROM 'file:///\"\"\"+file+\"\"\"' AS line FIELDTERMINATOR ','\n",
    "MATCH (p:Patient {id:(line.id)})\n",
    "MERGE (g:Gender {value:(line.gender)})\n",
    "MERGE (p)-[:HAS_GENDER]->(g)\n",
    "\"\"\"\n",
    "display(graph.run(query).stats())"
   ]
  },
  {
   "cell_type": "code",
   "execution_count": 45,
   "metadata": {},
   "outputs": [
    {
     "data": {
      "text/plain": [
       "<py2neo.database.Cursor at 0x7fab67fda2b0>"
      ]
     },
     "execution_count": 45,
     "metadata": {},
     "output_type": "execute_result"
    }
   ],
   "source": [
    "graph.run(\"CREATE CONSTRAINT ON (ag:AgeGroup) ASSERT ag.value IS UNIQUE\")"
   ]
  },
  {
   "cell_type": "code",
   "execution_count": 47,
   "metadata": {},
   "outputs": [
    {
     "data": {
      "text/plain": [
       "'synthetic_data.csv'"
      ]
     },
     "execution_count": 47,
     "metadata": {},
     "output_type": "execute_result"
    }
   ],
   "source": [
    "file"
   ]
  },
  {
   "cell_type": "code",
   "execution_count": 48,
   "metadata": {},
   "outputs": [
    {
     "data": {
      "text/plain": [
       "constraints_added: 0\n",
       "constraints_removed: 0\n",
       "contains_updates: True\n",
       "indexes_added: 0\n",
       "indexes_removed: 0\n",
       "labels_added: 0\n",
       "labels_removed: 0\n",
       "nodes_created: 0\n",
       "nodes_deleted: 0\n",
       "properties_set: 0\n",
       "relationships_created: 78441\n",
       "relationships_deleted: 0"
      ]
     },
     "metadata": {},
     "output_type": "display_data"
    }
   ],
   "source": [
    "query = \"\"\"\n",
    "USING PERIODIC COMMIT 1000\n",
    "LOAD CSV WITH HEADERS FROM 'file:///\"\"\"+file+\"\"\"' AS line FIELDTERMINATOR ','\n",
    "MATCH (p:Patient {id:(line.id)})\n",
    "MERGE (ag:AgeGroup {value:(line.age)})\n",
    "MERGE (p)-[:HAS_AGE]->(ag)\n",
    "\"\"\"\n",
    "display(graph.run(query).stats())"
   ]
  }
 ],
 "metadata": {
  "kernelspec": {
   "display_name": "py38_neo4j",
   "language": "python",
   "name": "conda-env-py38_neo4j-py"
  },
  "language_info": {
   "codemirror_mode": {
    "name": "ipython",
    "version": 3
   },
   "file_extension": ".py",
   "mimetype": "text/x-python",
   "name": "python",
   "nbconvert_exporter": "python",
   "pygments_lexer": "ipython3",
   "version": "3.8.6"
  }
 },
 "nbformat": 4,
 "nbformat_minor": 4
}
