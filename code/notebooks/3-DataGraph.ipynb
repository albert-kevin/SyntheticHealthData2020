{
 "cells": [
  {
   "cell_type": "markdown",
   "metadata": {},
   "source": [
    "Author: Kevin ALBERT\n",
    "\n",
    "Created: Nov 2020"
   ]
  },
  {
   "cell_type": "code",
   "execution_count": 1,
   "metadata": {},
   "outputs": [],
   "source": [
    "from py2neo import Graph, Node, Relationship\n",
    "import pandas as pd\n",
    "from IPython.display import Javascript\n",
    "# from fuzzywuzzy import process, fuzz"
   ]
  },
  {
   "cell_type": "code",
   "execution_count": 2,
   "metadata": {},
   "outputs": [],
   "source": [
    "import platform\n",
    "import psutil\n",
    "import os"
   ]
  },
  {
   "cell_type": "code",
   "execution_count": 3,
   "metadata": {},
   "outputs": [
    {
     "name": "stdout",
     "output_type": "stream",
     "text": [
      "conda : 4.9.2\n",
      "pip   : 20.2.4\n",
      "python: 3.8.6\n",
      "pandas: 1.1.4\n",
      "py2neo: 4.2.0\n"
     ]
    }
   ],
   "source": [
    "conda_version = ! conda -V\n",
    "print(f\"conda : {conda_version[0].split()[1]}\")\n",
    "pip_version = ! pip -V\n",
    "print(f\"pip   : {pip_version[0].split()[1]}\")\n",
    "python_version = ! python -V\n",
    "print(f\"python: {python_version[0].split()[1]}\")\n",
    "pandas_version = ! pip list |grep -i pandas\n",
    "print(f\"pandas: {pandas_version[0].split()[1]}\")\n",
    "py2neo_version = ! pip list |grep -i py2neo\n",
    "print(f\"py2neo: {py2neo_version[0].split()[1]}\")"
   ]
  },
  {
   "cell_type": "code",
   "execution_count": 29,
   "metadata": {},
   "outputs": [],
   "source": [
    "server  = \"13.93.37.217\"\n",
    "port    = \"7687\"\n",
    "user    = \"neo4j\"\n",
    "passw   = \"digityser\"\n",
    "db_name = \"neo4j\"        # default name (v4.x)"
   ]
  },
  {
   "cell_type": "code",
   "execution_count": 30,
   "metadata": {},
   "outputs": [],
   "source": [
    "# load graph connection instance\n",
    "graph = Graph(host=server, auth=(user, passw), name=db_name, encrypted=False)"
   ]
  },
  {
   "cell_type": "markdown",
   "metadata": {},
   "source": [
    "### prepare data"
   ]
  },
  {
   "cell_type": "code",
   "execution_count": 6,
   "metadata": {},
   "outputs": [],
   "source": [
    "# import the dataset\n",
    "synthetic_df = pd.read_parquet(\"../../data/silver/synthetic_data_processed.parquet\")"
   ]
  },
  {
   "cell_type": "code",
   "execution_count": null,
   "metadata": {},
   "outputs": [],
   "source": [
    "# creating unique patient ID\n",
    "synthetic_df[\"id\"] = synthetic_df.index\n",
    "# real_df[\"id\"] = real_df.index"
   ]
  },
  {
   "cell_type": "code",
   "execution_count": 7,
   "metadata": {},
   "outputs": [],
   "source": [
    "meds_list = ['metformin', 'repaglinide', 'nateglinide',\n",
    "       'chlorpropamide', 'glimepiride', 'acetohexamide', 'glipizide',\n",
    "       'glyburide', 'tolbutamide', 'pioglitazone', 'rosiglitazone', 'acarbose',\n",
    "       'miglitol', 'troglitazone', 'tolazamide', 'examide', 'citoglipton',\n",
    "       'insulin', 'glyburide_metformin', 'glipizide_metformin',\n",
    "       'glimepiride_pioglitazone', 'metformin_rosiglitazone',\n",
    "       'metformin_pioglitazone']\n",
    "for meds in meds_list:\n",
    "    synthetic_df[meds+\"_medicine\"] = synthetic_df[meds].apply(lambda x: 'None' if (x=='No') else meds)"
   ]
  },
  {
   "cell_type": "code",
   "execution_count": 21,
   "metadata": {},
   "outputs": [
    {
     "data": {
      "text/plain": [
       "0        <30\n",
       "1         NO\n",
       "2        >30\n",
       "3        >30\n",
       "4        >30\n",
       "        ... \n",
       "78436    >30\n",
       "78437    <30\n",
       "78438     NO\n",
       "78439    >30\n",
       "78440     NO\n",
       "Name: readmitted, Length: 78441, dtype: object"
      ]
     },
     "execution_count": 21,
     "metadata": {},
     "output_type": "execute_result"
    }
   ],
   "source": [
    "synthetic_df['readmitted'].apply(lambda x: 'None' if (x=='No') else meds)"
   ]
  },
  {
   "cell_type": "code",
   "execution_count": 27,
   "metadata": {},
   "outputs": [],
   "source": [
    "# we make severe, normal diabetes severity levels\n",
    "hba1c = {'None':'None', 'Norm':'Normal', '>8':'Severe_Diabetes', '>7':'Diabetes'}\n",
    "synthetic_df[\"A1Cresult\"] = synthetic_df[\"A1Cresult\"].map(hba1c)"
   ]
  },
  {
   "cell_type": "code",
   "execution_count": null,
   "metadata": {},
   "outputs": [],
   "source": []
  },
  {
   "cell_type": "code",
   "execution_count": null,
   "metadata": {},
   "outputs": [],
   "source": []
  },
  {
   "cell_type": "code",
   "execution_count": null,
   "metadata": {},
   "outputs": [],
   "source": []
  },
  {
   "cell_type": "code",
   "execution_count": null,
   "metadata": {},
   "outputs": [],
   "source": []
  },
  {
   "cell_type": "code",
   "execution_count": 28,
   "metadata": {},
   "outputs": [],
   "source": [
    "# save file to /import\n",
    "file = \"synthetic_data_processed.csv\"\n",
    "synthetic_df.to_csv(\"../../neo4j/import/\"+file, sep=',', index=False)"
   ]
  },
  {
   "cell_type": "markdown",
   "metadata": {},
   "source": [
    "### import data in DB"
   ]
  },
  {
   "cell_type": "code",
   "execution_count": 10,
   "metadata": {},
   "outputs": [
    {
     "data": {
      "text/plain": [
       "<py2neo.database.Cursor at 0x7f5eca709340>"
      ]
     },
     "execution_count": 10,
     "metadata": {},
     "output_type": "execute_result"
    }
   ],
   "source": [
    "graph.run(\"CREATE CONSTRAINT ON (p:Patient) ASSERT p.id IS UNIQUE\")"
   ]
  },
  {
   "cell_type": "code",
   "execution_count": 11,
   "metadata": {},
   "outputs": [
    {
     "data": {
      "text/plain": [
       "<py2neo.database.Cursor at 0x7f5ec403f640>"
      ]
     },
     "execution_count": 11,
     "metadata": {},
     "output_type": "execute_result"
    }
   ],
   "source": [
    "graph.run(\"CREATE CONSTRAINT ON (r:Race) ASSERT r.value IS UNIQUE\")"
   ]
  },
  {
   "cell_type": "code",
   "execution_count": 12,
   "metadata": {},
   "outputs": [
    {
     "data": {
      "text/plain": [
       "constraints_added: 0\n",
       "constraints_removed: 0\n",
       "contains_updates: True\n",
       "indexes_added: 0\n",
       "indexes_removed: 0\n",
       "labels_added: 78446\n",
       "labels_removed: 0\n",
       "nodes_created: 78446\n",
       "nodes_deleted: 0\n",
       "properties_set: 78446\n",
       "relationships_created: 78441\n",
       "relationships_deleted: 0"
      ]
     },
     "metadata": {},
     "output_type": "display_data"
    }
   ],
   "source": [
    "query = \"\"\"\n",
    "USING PERIODIC COMMIT 1000\n",
    "LOAD CSV WITH HEADERS FROM 'file:///\"\"\"+file+\"\"\"' AS line FIELDTERMINATOR ','\n",
    "MERGE (p:Patient {id:(line.id)})\n",
    "MERGE (r:Race {value:(line.race)})\n",
    "MERGE (p)-[:HAS_RACE]->(r)\n",
    "\"\"\"\n",
    "display(graph.run(query).stats())"
   ]
  },
  {
   "cell_type": "code",
   "execution_count": 13,
   "metadata": {},
   "outputs": [
    {
     "data": {
      "text/plain": [
       "<py2neo.database.Cursor at 0x7f5ec403f0a0>"
      ]
     },
     "execution_count": 13,
     "metadata": {},
     "output_type": "execute_result"
    }
   ],
   "source": [
    "graph.run(\"CREATE CONSTRAINT ON (g:Gender) ASSERT g.value IS UNIQUE\")"
   ]
  },
  {
   "cell_type": "code",
   "execution_count": 14,
   "metadata": {},
   "outputs": [
    {
     "data": {
      "text/plain": [
       "constraints_added: 0\n",
       "constraints_removed: 0\n",
       "contains_updates: True\n",
       "indexes_added: 0\n",
       "indexes_removed: 0\n",
       "labels_added: 2\n",
       "labels_removed: 0\n",
       "nodes_created: 2\n",
       "nodes_deleted: 0\n",
       "properties_set: 2\n",
       "relationships_created: 78441\n",
       "relationships_deleted: 0"
      ]
     },
     "metadata": {},
     "output_type": "display_data"
    }
   ],
   "source": [
    "query = \"\"\"\n",
    "USING PERIODIC COMMIT 1000\n",
    "LOAD CSV WITH HEADERS FROM 'file:///\"\"\"+file+\"\"\"' AS line FIELDTERMINATOR ','\n",
    "MATCH (p:Patient {id:(line.id)})\n",
    "MERGE (g:Gender {value:(line.gender)})\n",
    "MERGE (p)-[:HAS_GENDER]->(g)\n",
    "\"\"\"\n",
    "display(graph.run(query).stats())"
   ]
  },
  {
   "cell_type": "code",
   "execution_count": 15,
   "metadata": {},
   "outputs": [
    {
     "data": {
      "text/plain": [
       "<py2neo.database.Cursor at 0x7f5ecbd54df0>"
      ]
     },
     "execution_count": 15,
     "metadata": {},
     "output_type": "execute_result"
    }
   ],
   "source": [
    "graph.run(\"CREATE CONSTRAINT ON (ag:AgeGroup) ASSERT ag.value IS UNIQUE\")"
   ]
  },
  {
   "cell_type": "code",
   "execution_count": 16,
   "metadata": {},
   "outputs": [
    {
     "data": {
      "text/plain": [
       "constraints_added: 0\n",
       "constraints_removed: 0\n",
       "contains_updates: True\n",
       "indexes_added: 0\n",
       "indexes_removed: 0\n",
       "labels_added: 10\n",
       "labels_removed: 0\n",
       "nodes_created: 10\n",
       "nodes_deleted: 0\n",
       "properties_set: 10\n",
       "relationships_created: 78441\n",
       "relationships_deleted: 0"
      ]
     },
     "metadata": {},
     "output_type": "display_data"
    }
   ],
   "source": [
    "query = \"\"\"\n",
    "USING PERIODIC COMMIT 1000\n",
    "LOAD CSV WITH HEADERS FROM 'file:///\"\"\"+file+\"\"\"' AS line FIELDTERMINATOR ','\n",
    "MATCH (p:Patient {id:(line.id)})\n",
    "MERGE (ag:AgeGroup {value:(line.age)})\n",
    "MERGE (p)-[:HAS_AGE]->(ag)\n",
    "\"\"\"\n",
    "display(graph.run(query).stats())"
   ]
  },
  {
   "cell_type": "code",
   "execution_count": 17,
   "metadata": {},
   "outputs": [
    {
     "data": {
      "text/plain": [
       "<py2neo.database.Cursor at 0x7f5eca709250>"
      ]
     },
     "execution_count": 17,
     "metadata": {},
     "output_type": "execute_result"
    }
   ],
   "source": [
    "# graph.run(\"CREATE CONSTRAINT ON (m:Medicine) ASSERT m.value IS UNIQUE\")\n",
    "graph.run(\"CREATE INDEX ON :Medicine(value)\")"
   ]
  },
  {
   "cell_type": "code",
   "execution_count": 18,
   "metadata": {},
   "outputs": [
    {
     "name": "stdout",
     "output_type": "stream",
     "text": [
      "metformin\n"
     ]
    },
    {
     "data": {
      "text/plain": [
       "constraints_added: 0\n",
       "constraints_removed: 0\n",
       "contains_updates: True\n",
       "indexes_added: 0\n",
       "indexes_removed: 0\n",
       "labels_added: 3\n",
       "labels_removed: 0\n",
       "nodes_created: 3\n",
       "nodes_deleted: 0\n",
       "properties_set: 6\n",
       "relationships_created: 15593\n",
       "relationships_deleted: 0"
      ]
     },
     "metadata": {},
     "output_type": "display_data"
    },
    {
     "name": "stdout",
     "output_type": "stream",
     "text": [
      "repaglinide\n"
     ]
    },
    {
     "data": {
      "text/plain": [
       "constraints_added: 0\n",
       "constraints_removed: 0\n",
       "contains_updates: True\n",
       "indexes_added: 0\n",
       "indexes_removed: 0\n",
       "labels_added: 3\n",
       "labels_removed: 0\n",
       "nodes_created: 3\n",
       "nodes_deleted: 0\n",
       "properties_set: 6\n",
       "relationships_created: 1723\n",
       "relationships_deleted: 0"
      ]
     },
     "metadata": {},
     "output_type": "display_data"
    },
    {
     "name": "stdout",
     "output_type": "stream",
     "text": [
      "nateglinide\n"
     ]
    },
    {
     "data": {
      "text/plain": [
       "constraints_added: 0\n",
       "constraints_removed: 0\n",
       "contains_updates: True\n",
       "indexes_added: 0\n",
       "indexes_removed: 0\n",
       "labels_added: 3\n",
       "labels_removed: 0\n",
       "nodes_created: 3\n",
       "nodes_deleted: 0\n",
       "properties_set: 6\n",
       "relationships_created: 1325\n",
       "relationships_deleted: 0"
      ]
     },
     "metadata": {},
     "output_type": "display_data"
    },
    {
     "name": "stdout",
     "output_type": "stream",
     "text": [
      "chlorpropamide\n"
     ]
    },
    {
     "data": {
      "text/plain": [
       "constraints_added: 0\n",
       "constraints_removed: 0\n",
       "contains_updates: True\n",
       "indexes_added: 0\n",
       "indexes_removed: 0\n",
       "labels_added: 1\n",
       "labels_removed: 0\n",
       "nodes_created: 1\n",
       "nodes_deleted: 0\n",
       "properties_set: 2\n",
       "relationships_created: 467\n",
       "relationships_deleted: 0"
      ]
     },
     "metadata": {},
     "output_type": "display_data"
    },
    {
     "name": "stdout",
     "output_type": "stream",
     "text": [
      "glimepiride\n"
     ]
    },
    {
     "data": {
      "text/plain": [
       "constraints_added: 0\n",
       "constraints_removed: 0\n",
       "contains_updates: True\n",
       "indexes_added: 0\n",
       "indexes_removed: 0\n",
       "labels_added: 3\n",
       "labels_removed: 0\n",
       "nodes_created: 3\n",
       "nodes_deleted: 0\n",
       "properties_set: 6\n",
       "relationships_created: 4305\n",
       "relationships_deleted: 0"
      ]
     },
     "metadata": {},
     "output_type": "display_data"
    },
    {
     "name": "stdout",
     "output_type": "stream",
     "text": [
      "acetohexamide\n"
     ]
    },
    {
     "data": {
      "text/plain": [
       "constraints_added: 0\n",
       "constraints_removed: 0\n",
       "contains_updates: False\n",
       "indexes_added: 0\n",
       "indexes_removed: 0\n",
       "labels_added: 0\n",
       "labels_removed: 0\n",
       "nodes_created: 0\n",
       "nodes_deleted: 0\n",
       "properties_set: 0\n",
       "relationships_created: 0\n",
       "relationships_deleted: 0"
      ]
     },
     "metadata": {},
     "output_type": "display_data"
    },
    {
     "name": "stdout",
     "output_type": "stream",
     "text": [
      "glipizide\n"
     ]
    },
    {
     "data": {
      "text/plain": [
       "constraints_added: 0\n",
       "constraints_removed: 0\n",
       "contains_updates: True\n",
       "indexes_added: 0\n",
       "indexes_removed: 0\n",
       "labels_added: 3\n",
       "labels_removed: 0\n",
       "nodes_created: 3\n",
       "nodes_deleted: 0\n",
       "properties_set: 6\n",
       "relationships_created: 11639\n",
       "relationships_deleted: 0"
      ]
     },
     "metadata": {},
     "output_type": "display_data"
    },
    {
     "name": "stdout",
     "output_type": "stream",
     "text": [
      "glyburide\n"
     ]
    },
    {
     "data": {
      "text/plain": [
       "constraints_added: 0\n",
       "constraints_removed: 0\n",
       "contains_updates: True\n",
       "indexes_added: 0\n",
       "indexes_removed: 0\n",
       "labels_added: 3\n",
       "labels_removed: 0\n",
       "nodes_created: 3\n",
       "nodes_deleted: 0\n",
       "properties_set: 6\n",
       "relationships_created: 7295\n",
       "relationships_deleted: 0"
      ]
     },
     "metadata": {},
     "output_type": "display_data"
    },
    {
     "name": "stdout",
     "output_type": "stream",
     "text": [
      "tolbutamide\n"
     ]
    },
    {
     "data": {
      "text/plain": [
       "constraints_added: 0\n",
       "constraints_removed: 0\n",
       "contains_updates: True\n",
       "indexes_added: 0\n",
       "indexes_removed: 0\n",
       "labels_added: 1\n",
       "labels_removed: 0\n",
       "nodes_created: 1\n",
       "nodes_deleted: 0\n",
       "properties_set: 2\n",
       "relationships_created: 331\n",
       "relationships_deleted: 0"
      ]
     },
     "metadata": {},
     "output_type": "display_data"
    },
    {
     "name": "stdout",
     "output_type": "stream",
     "text": [
      "pioglitazone\n"
     ]
    },
    {
     "data": {
      "text/plain": [
       "constraints_added: 0\n",
       "constraints_removed: 0\n",
       "contains_updates: True\n",
       "indexes_added: 0\n",
       "indexes_removed: 0\n",
       "labels_added: 3\n",
       "labels_removed: 0\n",
       "nodes_created: 3\n",
       "nodes_deleted: 0\n",
       "properties_set: 6\n",
       "relationships_created: 6075\n",
       "relationships_deleted: 0"
      ]
     },
     "metadata": {},
     "output_type": "display_data"
    },
    {
     "name": "stdout",
     "output_type": "stream",
     "text": [
      "rosiglitazone\n"
     ]
    },
    {
     "data": {
      "text/plain": [
       "constraints_added: 0\n",
       "constraints_removed: 0\n",
       "contains_updates: True\n",
       "indexes_added: 0\n",
       "indexes_removed: 0\n",
       "labels_added: 3\n",
       "labels_removed: 0\n",
       "nodes_created: 3\n",
       "nodes_deleted: 0\n",
       "properties_set: 6\n",
       "relationships_created: 5943\n",
       "relationships_deleted: 0"
      ]
     },
     "metadata": {},
     "output_type": "display_data"
    },
    {
     "name": "stdout",
     "output_type": "stream",
     "text": [
      "acarbose\n"
     ]
    },
    {
     "data": {
      "text/plain": [
       "constraints_added: 0\n",
       "constraints_removed: 0\n",
       "contains_updates: True\n",
       "indexes_added: 0\n",
       "indexes_removed: 0\n",
       "labels_added: 3\n",
       "labels_removed: 0\n",
       "nodes_created: 3\n",
       "nodes_deleted: 0\n",
       "properties_set: 6\n",
       "relationships_created: 955\n",
       "relationships_deleted: 0"
      ]
     },
     "metadata": {},
     "output_type": "display_data"
    },
    {
     "name": "stdout",
     "output_type": "stream",
     "text": [
      "miglitol\n"
     ]
    },
    {
     "data": {
      "text/plain": [
       "constraints_added: 0\n",
       "constraints_removed: 0\n",
       "contains_updates: True\n",
       "indexes_added: 0\n",
       "indexes_removed: 0\n",
       "labels_added: 2\n",
       "labels_removed: 0\n",
       "nodes_created: 2\n",
       "nodes_deleted: 0\n",
       "properties_set: 4\n",
       "relationships_created: 535\n",
       "relationships_deleted: 0"
      ]
     },
     "metadata": {},
     "output_type": "display_data"
    },
    {
     "name": "stdout",
     "output_type": "stream",
     "text": [
      "troglitazone\n"
     ]
    },
    {
     "data": {
      "text/plain": [
       "constraints_added: 0\n",
       "constraints_removed: 0\n",
       "contains_updates: False\n",
       "indexes_added: 0\n",
       "indexes_removed: 0\n",
       "labels_added: 0\n",
       "labels_removed: 0\n",
       "nodes_created: 0\n",
       "nodes_deleted: 0\n",
       "properties_set: 0\n",
       "relationships_created: 0\n",
       "relationships_deleted: 0"
      ]
     },
     "metadata": {},
     "output_type": "display_data"
    },
    {
     "name": "stdout",
     "output_type": "stream",
     "text": [
      "tolazamide\n"
     ]
    },
    {
     "data": {
      "text/plain": [
       "constraints_added: 0\n",
       "constraints_removed: 0\n",
       "contains_updates: True\n",
       "indexes_added: 0\n",
       "indexes_removed: 0\n",
       "labels_added: 2\n",
       "labels_removed: 0\n",
       "nodes_created: 2\n",
       "nodes_deleted: 0\n",
       "properties_set: 4\n",
       "relationships_created: 364\n",
       "relationships_deleted: 0"
      ]
     },
     "metadata": {},
     "output_type": "display_data"
    },
    {
     "name": "stdout",
     "output_type": "stream",
     "text": [
      "examide\n"
     ]
    },
    {
     "data": {
      "text/plain": [
       "constraints_added: 0\n",
       "constraints_removed: 0\n",
       "contains_updates: False\n",
       "indexes_added: 0\n",
       "indexes_removed: 0\n",
       "labels_added: 0\n",
       "labels_removed: 0\n",
       "nodes_created: 0\n",
       "nodes_deleted: 0\n",
       "properties_set: 0\n",
       "relationships_created: 0\n",
       "relationships_deleted: 0"
      ]
     },
     "metadata": {},
     "output_type": "display_data"
    },
    {
     "name": "stdout",
     "output_type": "stream",
     "text": [
      "citoglipton\n"
     ]
    },
    {
     "data": {
      "text/plain": [
       "constraints_added: 0\n",
       "constraints_removed: 0\n",
       "contains_updates: False\n",
       "indexes_added: 0\n",
       "indexes_removed: 0\n",
       "labels_added: 0\n",
       "labels_removed: 0\n",
       "nodes_created: 0\n",
       "nodes_deleted: 0\n",
       "properties_set: 0\n",
       "relationships_created: 0\n",
       "relationships_deleted: 0"
      ]
     },
     "metadata": {},
     "output_type": "display_data"
    },
    {
     "name": "stdout",
     "output_type": "stream",
     "text": [
      "insulin\n"
     ]
    },
    {
     "data": {
      "text/plain": [
       "constraints_added: 0\n",
       "constraints_removed: 0\n",
       "contains_updates: True\n",
       "indexes_added: 0\n",
       "indexes_removed: 0\n",
       "labels_added: 3\n",
       "labels_removed: 0\n",
       "nodes_created: 3\n",
       "nodes_deleted: 0\n",
       "properties_set: 6\n",
       "relationships_created: 36131\n",
       "relationships_deleted: 0"
      ]
     },
     "metadata": {},
     "output_type": "display_data"
    },
    {
     "name": "stdout",
     "output_type": "stream",
     "text": [
      "glyburide_metformin\n"
     ]
    },
    {
     "data": {
      "text/plain": [
       "constraints_added: 0\n",
       "constraints_removed: 0\n",
       "contains_updates: True\n",
       "indexes_added: 0\n",
       "indexes_removed: 0\n",
       "labels_added: 3\n",
       "labels_removed: 0\n",
       "nodes_created: 3\n",
       "nodes_deleted: 0\n",
       "properties_set: 6\n",
       "relationships_created: 1116\n",
       "relationships_deleted: 0"
      ]
     },
     "metadata": {},
     "output_type": "display_data"
    },
    {
     "name": "stdout",
     "output_type": "stream",
     "text": [
      "glipizide_metformin\n"
     ]
    },
    {
     "data": {
      "text/plain": [
       "constraints_added: 0\n",
       "constraints_removed: 0\n",
       "contains_updates: True\n",
       "indexes_added: 0\n",
       "indexes_removed: 0\n",
       "labels_added: 1\n",
       "labels_removed: 0\n",
       "nodes_created: 1\n",
       "nodes_deleted: 0\n",
       "properties_set: 2\n",
       "relationships_created: 103\n",
       "relationships_deleted: 0"
      ]
     },
     "metadata": {},
     "output_type": "display_data"
    },
    {
     "name": "stdout",
     "output_type": "stream",
     "text": [
      "glimepiride_pioglitazone\n"
     ]
    },
    {
     "data": {
      "text/plain": [
       "constraints_added: 0\n",
       "constraints_removed: 0\n",
       "contains_updates: True\n",
       "indexes_added: 0\n",
       "indexes_removed: 0\n",
       "labels_added: 1\n",
       "labels_removed: 0\n",
       "nodes_created: 1\n",
       "nodes_deleted: 0\n",
       "properties_set: 2\n",
       "relationships_created: 113\n",
       "relationships_deleted: 0"
      ]
     },
     "metadata": {},
     "output_type": "display_data"
    },
    {
     "name": "stdout",
     "output_type": "stream",
     "text": [
      "metformin_rosiglitazone\n"
     ]
    },
    {
     "data": {
      "text/plain": [
       "constraints_added: 0\n",
       "constraints_removed: 0\n",
       "contains_updates: False\n",
       "indexes_added: 0\n",
       "indexes_removed: 0\n",
       "labels_added: 0\n",
       "labels_removed: 0\n",
       "nodes_created: 0\n",
       "nodes_deleted: 0\n",
       "properties_set: 0\n",
       "relationships_created: 0\n",
       "relationships_deleted: 0"
      ]
     },
     "metadata": {},
     "output_type": "display_data"
    },
    {
     "name": "stdout",
     "output_type": "stream",
     "text": [
      "metformin_pioglitazone\n"
     ]
    },
    {
     "data": {
      "text/plain": [
       "constraints_added: 0\n",
       "constraints_removed: 0\n",
       "contains_updates: False\n",
       "indexes_added: 0\n",
       "indexes_removed: 0\n",
       "labels_added: 0\n",
       "labels_removed: 0\n",
       "nodes_created: 0\n",
       "nodes_deleted: 0\n",
       "properties_set: 0\n",
       "relationships_created: 0\n",
       "relationships_deleted: 0"
      ]
     },
     "metadata": {},
     "output_type": "display_data"
    }
   ],
   "source": [
    "for meds in meds_list:\n",
    "    print(meds)\n",
    "    query = \"\"\"\n",
    "    USING PERIODIC COMMIT 1000\n",
    "    LOAD CSV WITH HEADERS FROM 'file:///\"\"\"+file+\"\"\"' AS line FIELDTERMINATOR ','\n",
    "    WITH line.id AS id, line.\"\"\"+meds+\"\"\"_medicine AS medicine, line.\"\"\"+meds+\"\"\" AS drugdose\n",
    "    WHERE medicine <> \"None\" AND drugdose <> \"No\"\n",
    "    MATCH (p:Patient {id:(id)})\n",
    "    MERGE (m:Medicine {value:(medicine), drugdose:(drugdose)})\n",
    "    MERGE (p)-[:USE_MEDICINE]->(m)\n",
    "    \"\"\"\n",
    "    display(graph.run(query).stats())"
   ]
  },
  {
   "cell_type": "code",
   "execution_count": 19,
   "metadata": {},
   "outputs": [
    {
     "data": {
      "text/plain": [
       "<py2neo.database.Cursor at 0x7f5ecb97ceb0>"
      ]
     },
     "execution_count": 19,
     "metadata": {},
     "output_type": "execute_result"
    }
   ],
   "source": [
    "# graph.run(\"CREATE CONSTRAINT ON (hd:HospitalDays) ASSERT hd.severity IS UNIQUE\")\n",
    "graph.run(\"CREATE INDEX ON :HospitalDays(severity)\")"
   ]
  },
  {
   "cell_type": "code",
   "execution_count": 20,
   "metadata": {},
   "outputs": [
    {
     "data": {
      "text/plain": [
       "constraints_added: 0\n",
       "constraints_removed: 0\n",
       "contains_updates: True\n",
       "indexes_added: 0\n",
       "indexes_removed: 0\n",
       "labels_added: 14\n",
       "labels_removed: 0\n",
       "nodes_created: 14\n",
       "nodes_deleted: 0\n",
       "properties_set: 28\n",
       "relationships_created: 78441\n",
       "relationships_deleted: 0"
      ]
     },
     "metadata": {},
     "output_type": "display_data"
    }
   ],
   "source": [
    "query = \"\"\"\n",
    "USING PERIODIC COMMIT 1000\n",
    "LOAD CSV WITH HEADERS FROM 'file:///\"\"\"+file+\"\"\"' AS line FIELDTERMINATOR ','\n",
    "MATCH (p:Patient {id:(line.id)})\n",
    "MERGE (hd:HospitalDays {severity:(line.time_in_hospital_severitylvl), value:(line.time_in_hospital)})\n",
    "MERGE (p)-[:HOSPITAL_STAY]->(hd)\n",
    "\"\"\"\n",
    "display(graph.run(query).stats())"
   ]
  },
  {
   "cell_type": "code",
   "execution_count": 31,
   "metadata": {},
   "outputs": [
    {
     "data": {
      "text/plain": [
       "<py2neo.database.Cursor at 0x7f5e9bda6190>"
      ]
     },
     "execution_count": 31,
     "metadata": {},
     "output_type": "execute_result"
    }
   ],
   "source": [
    "graph.run(\"CREATE CONSTRAINT ON (h:HbA1c) ASSERT h.value IS UNIQUE\")"
   ]
  },
  {
   "cell_type": "code",
   "execution_count": 34,
   "metadata": {},
   "outputs": [
    {
     "data": {
      "text/plain": [
       "constraints_added: 0\n",
       "constraints_removed: 0\n",
       "contains_updates: True\n",
       "indexes_added: 0\n",
       "indexes_removed: 0\n",
       "labels_added: 3\n",
       "labels_removed: 0\n",
       "nodes_created: 3\n",
       "nodes_deleted: 0\n",
       "properties_set: 3\n",
       "relationships_created: 11634\n",
       "relationships_deleted: 0"
      ]
     },
     "metadata": {},
     "output_type": "display_data"
    }
   ],
   "source": [
    "query = \"\"\"\n",
    "USING PERIODIC COMMIT 1000\n",
    "LOAD CSV WITH HEADERS FROM 'file:///\"\"\"+file+\"\"\"' AS line FIELDTERMINATOR ','\n",
    "WITH line\n",
    "WHERE line.A1Cresult <> \"None\"\n",
    "MATCH (p:Patient {id:(line.id)})\n",
    "MERGE (h:HbA1c {value:(line.A1Cresult)})\n",
    "MERGE (p)-[:HBA1C_STATUS]->(h)\n",
    "\"\"\"\n",
    "display(graph.run(query).stats())"
   ]
  },
  {
   "cell_type": "code",
   "execution_count": 35,
   "metadata": {},
   "outputs": [
    {
     "data": {
      "text/plain": [
       "<py2neo.database.Cursor at 0x7f5e9b7779a0>"
      ]
     },
     "execution_count": 35,
     "metadata": {},
     "output_type": "execute_result"
    }
   ],
   "source": [
    "graph.run(\"CREATE CONSTRAINT ON (ra:Readmitted) ASSERT ra.value IS UNIQUE\")"
   ]
  },
  {
   "cell_type": "code",
   "execution_count": 37,
   "metadata": {},
   "outputs": [
    {
     "data": {
      "text/plain": [
       "constraints_added: 0\n",
       "constraints_removed: 0\n",
       "contains_updates: True\n",
       "indexes_added: 0\n",
       "indexes_removed: 0\n",
       "labels_added: 3\n",
       "labels_removed: 0\n",
       "nodes_created: 3\n",
       "nodes_deleted: 0\n",
       "properties_set: 3\n",
       "relationships_created: 78441\n",
       "relationships_deleted: 0"
      ]
     },
     "metadata": {},
     "output_type": "display_data"
    }
   ],
   "source": [
    "query = \"\"\"\n",
    "USING PERIODIC COMMIT 1000\n",
    "LOAD CSV WITH HEADERS FROM 'file:///\"\"\"+file+\"\"\"' AS line FIELDTERMINATOR ','\n",
    "MATCH (p:Patient {id:(line.id)})\n",
    "MERGE (ra:Readmitted {value:(line.readmitted)})\n",
    "MERGE (p)-[:RECURRENT]->(ra)\n",
    "\"\"\"\n",
    "display(graph.run(query).stats())"
   ]
  },
  {
   "cell_type": "code",
   "execution_count": null,
   "metadata": {},
   "outputs": [],
   "source": []
  },
  {
   "cell_type": "code",
   "execution_count": null,
   "metadata": {},
   "outputs": [],
   "source": []
  },
  {
   "cell_type": "code",
   "execution_count": null,
   "metadata": {},
   "outputs": [],
   "source": []
  },
  {
   "cell_type": "code",
   "execution_count": null,
   "metadata": {},
   "outputs": [],
   "source": []
  },
  {
   "cell_type": "markdown",
   "metadata": {},
   "source": [
    "## Querying"
   ]
  },
  {
   "cell_type": "code",
   "execution_count": null,
   "metadata": {},
   "outputs": [],
   "source": [
    "MATCH (n:HbA1c)<-[:HBA1C_STATUS]-(p:Patient)-[:USE_MEDICINE]->(m:Medicine)\n",
    "WHERE m.value='insulin' AND m.drugdose='Down'\n",
    "WITH m, p\n",
    "MATCH (p)-[:HAS_AGE]->(ag:AgeGroup)\n",
    "WHERE ag.value='80-90'\n",
    "WITH p, ag\n",
    "MATCH (n:HbA1c)<-[:HBA1C_STATUS]-(p)-[:USE_MEDICINE]->(m2:Medicine)\n",
    "MATCH (p)-[:RECURRENT]->(ra:Readmitted)\n",
    "WHERE m2.drugdose='Down' OR m2.drugdose='Steady' \n",
    "RETURN * ORDER BY ag.value DESC LIMIT 200"
   ]
  },
  {
   "cell_type": "code",
   "execution_count": 42,
   "metadata": {},
   "outputs": [
    {
     "name": "stdout",
     "output_type": "stream",
     "text": [
      "CPU times: user 7.19 ms, sys: 0 ns, total: 7.19 ms\n",
      "Wall time: 208 ms\n"
     ]
    },
    {
     "data": {
      "text/html": [
       "<div>\n",
       "<style scoped>\n",
       "    .dataframe tbody tr th:only-of-type {\n",
       "        vertical-align: middle;\n",
       "    }\n",
       "\n",
       "    .dataframe tbody tr th {\n",
       "        vertical-align: top;\n",
       "    }\n",
       "\n",
       "    .dataframe thead th {\n",
       "        text-align: right;\n",
       "    }\n",
       "</style>\n",
       "<table border=\"1\" class=\"dataframe\">\n",
       "  <thead>\n",
       "    <tr style=\"text-align: right;\">\n",
       "      <th></th>\n",
       "      <th>ag.value</th>\n",
       "      <th>meds</th>\n",
       "      <th>n.value</th>\n",
       "      <th>COLLECT(DISTINCT p.id)</th>\n",
       "      <th>ra.value</th>\n",
       "    </tr>\n",
       "  </thead>\n",
       "  <tbody>\n",
       "    <tr>\n",
       "      <th>0</th>\n",
       "      <td>80-90</td>\n",
       "      <td>{'drugdose': 'Down', 'value': 'insulin'}</td>\n",
       "      <td>Diabetes</td>\n",
       "      <td>[78354, 76451, 72542, 70607, 70436, 70990, 698...</td>\n",
       "      <td>NO</td>\n",
       "    </tr>\n",
       "    <tr>\n",
       "      <th>1</th>\n",
       "      <td>80-90</td>\n",
       "      <td>{'drugdose': 'Steady', 'value': 'metformin'}</td>\n",
       "      <td>Diabetes</td>\n",
       "      <td>[78354, 70607, 64366, 36449, 35523, 17308, 156...</td>\n",
       "      <td>NO</td>\n",
       "    </tr>\n",
       "    <tr>\n",
       "      <th>2</th>\n",
       "      <td>80-90</td>\n",
       "      <td>{'drugdose': 'Down', 'value': 'insulin'}</td>\n",
       "      <td>Normal</td>\n",
       "      <td>[78276, 77890, 77268, 74962, 74254, 74201, 743...</td>\n",
       "      <td>&gt;30</td>\n",
       "    </tr>\n",
       "    <tr>\n",
       "      <th>3</th>\n",
       "      <td>80-90</td>\n",
       "      <td>{'drugdose': 'Steady', 'value': 'glimepiride'}</td>\n",
       "      <td>Normal</td>\n",
       "      <td>[78276, 77268, 70722]</td>\n",
       "      <td>&gt;30</td>\n",
       "    </tr>\n",
       "    <tr>\n",
       "      <th>4</th>\n",
       "      <td>80-90</td>\n",
       "      <td>{'drugdose': 'Steady', 'value': 'metformin'}</td>\n",
       "      <td>Normal</td>\n",
       "      <td>[78276, 77268, 74254, 51548, 45795, 42139, 242...</td>\n",
       "      <td>&gt;30</td>\n",
       "    </tr>\n",
       "    <tr>\n",
       "      <th>...</th>\n",
       "      <td>...</td>\n",
       "      <td>...</td>\n",
       "      <td>...</td>\n",
       "      <td>...</td>\n",
       "      <td>...</td>\n",
       "    </tr>\n",
       "    <tr>\n",
       "      <th>108</th>\n",
       "      <td>80-90</td>\n",
       "      <td>{'drugdose': 'Up', 'value': 'pioglitazone'}</td>\n",
       "      <td>Severe_Diabetes</td>\n",
       "      <td>[5959]</td>\n",
       "      <td>NO</td>\n",
       "    </tr>\n",
       "    <tr>\n",
       "      <th>109</th>\n",
       "      <td>80-90</td>\n",
       "      <td>{'drugdose': 'Steady', 'value': 'glyburide'}</td>\n",
       "      <td>Diabetes</td>\n",
       "      <td>[2719]</td>\n",
       "      <td>NO</td>\n",
       "    </tr>\n",
       "    <tr>\n",
       "      <th>110</th>\n",
       "      <td>80-90</td>\n",
       "      <td>{'drugdose': 'Steady', 'value': 'pioglitazone'}</td>\n",
       "      <td>Normal</td>\n",
       "      <td>[2310]</td>\n",
       "      <td>NO</td>\n",
       "    </tr>\n",
       "    <tr>\n",
       "      <th>111</th>\n",
       "      <td>80-90</td>\n",
       "      <td>{'drugdose': 'Steady', 'value': 'chlorpropamide'}</td>\n",
       "      <td>Severe_Diabetes</td>\n",
       "      <td>[1899]</td>\n",
       "      <td>&gt;30</td>\n",
       "    </tr>\n",
       "    <tr>\n",
       "      <th>112</th>\n",
       "      <td>80-90</td>\n",
       "      <td>{'drugdose': 'Steady', 'value': 'repaglinide'}</td>\n",
       "      <td>Severe_Diabetes</td>\n",
       "      <td>[1137]</td>\n",
       "      <td>NO</td>\n",
       "    </tr>\n",
       "  </tbody>\n",
       "</table>\n",
       "<p>113 rows × 5 columns</p>\n",
       "</div>"
      ],
      "text/plain": [
       "    ag.value                                               meds  \\\n",
       "0      80-90           {'drugdose': 'Down', 'value': 'insulin'}   \n",
       "1      80-90       {'drugdose': 'Steady', 'value': 'metformin'}   \n",
       "2      80-90           {'drugdose': 'Down', 'value': 'insulin'}   \n",
       "3      80-90     {'drugdose': 'Steady', 'value': 'glimepiride'}   \n",
       "4      80-90       {'drugdose': 'Steady', 'value': 'metformin'}   \n",
       "..       ...                                                ...   \n",
       "108    80-90        {'drugdose': 'Up', 'value': 'pioglitazone'}   \n",
       "109    80-90       {'drugdose': 'Steady', 'value': 'glyburide'}   \n",
       "110    80-90    {'drugdose': 'Steady', 'value': 'pioglitazone'}   \n",
       "111    80-90  {'drugdose': 'Steady', 'value': 'chlorpropamide'}   \n",
       "112    80-90     {'drugdose': 'Steady', 'value': 'repaglinide'}   \n",
       "\n",
       "             n.value                             COLLECT(DISTINCT p.id)  \\\n",
       "0           Diabetes  [78354, 76451, 72542, 70607, 70436, 70990, 698...   \n",
       "1           Diabetes  [78354, 70607, 64366, 36449, 35523, 17308, 156...   \n",
       "2             Normal  [78276, 77890, 77268, 74962, 74254, 74201, 743...   \n",
       "3             Normal                              [78276, 77268, 70722]   \n",
       "4             Normal  [78276, 77268, 74254, 51548, 45795, 42139, 242...   \n",
       "..               ...                                                ...   \n",
       "108  Severe_Diabetes                                             [5959]   \n",
       "109         Diabetes                                             [2719]   \n",
       "110           Normal                                             [2310]   \n",
       "111  Severe_Diabetes                                             [1899]   \n",
       "112  Severe_Diabetes                                             [1137]   \n",
       "\n",
       "    ra.value  \n",
       "0         NO  \n",
       "1         NO  \n",
       "2        >30  \n",
       "3        >30  \n",
       "4        >30  \n",
       "..       ...  \n",
       "108       NO  \n",
       "109       NO  \n",
       "110       NO  \n",
       "111      >30  \n",
       "112       NO  \n",
       "\n",
       "[113 rows x 5 columns]"
      ]
     },
     "execution_count": 42,
     "metadata": {},
     "output_type": "execute_result"
    }
   ],
   "source": [
    "%%time\n",
    "query = \"\"\"\n",
    "MATCH (n:HbA1c)<-[:HBA1C_STATUS]-(p:Patient)-[:USE_MEDICINE]->(m:Medicine)\n",
    "WHERE m.value='insulin' AND m.drugdose='Down'\n",
    "WITH m, p\n",
    "MATCH (p)-[:HAS_AGE]->(ag:AgeGroup)\n",
    "WHERE ag.value='80-90'\n",
    "WITH p, ag\n",
    "MATCH (n:HbA1c)<-[:HBA1C_STATUS]-(p)-[:USE_MEDICINE]->(meds:Medicine)\n",
    "MATCH (p)-[:RECURRENT]->(ra:Readmitted)\n",
    "//WHERE meds.drugdose='Down' OR meds.drugdose='Steady' \n",
    "RETURN ag.value, meds, n.value, COLLECT(DISTINCT p.id), ra.value ORDER BY ag.value DESC LIMIT 200\n",
    "\"\"\"\n",
    "graph.run(query).to_data_frame()"
   ]
  },
  {
   "cell_type": "code",
   "execution_count": null,
   "metadata": {},
   "outputs": [],
   "source": []
  },
  {
   "cell_type": "markdown",
   "metadata": {},
   "source": [
    "### Can you explore which treatments are effective, and which ones are not?"
   ]
  },
  {
   "cell_type": "code",
   "execution_count": null,
   "metadata": {},
   "outputs": [],
   "source": []
  },
  {
   "cell_type": "markdown",
   "metadata": {},
   "source": [
    "### What are the most important factors for hospital readmission?"
   ]
  },
  {
   "cell_type": "code",
   "execution_count": null,
   "metadata": {},
   "outputs": [],
   "source": []
  },
  {
   "cell_type": "markdown",
   "metadata": {},
   "source": [
    "### Is the best cure insulin or a combination of drugs?"
   ]
  },
  {
   "cell_type": "code",
   "execution_count": null,
   "metadata": {},
   "outputs": [],
   "source": []
  },
  {
   "cell_type": "markdown",
   "metadata": {},
   "source": [
    "### What's the best treatment for a newly diagnosed patient based on patient's features and the response to certain drugs?"
   ]
  },
  {
   "cell_type": "code",
   "execution_count": null,
   "metadata": {},
   "outputs": [],
   "source": []
  },
  {
   "cell_type": "markdown",
   "metadata": {},
   "source": [
    "### reset DB"
   ]
  },
  {
   "cell_type": "code",
   "execution_count": null,
   "metadata": {},
   "outputs": [],
   "source": [
    "# delete database and restart (wait ~2min)\n",
    "import os\n",
    "os.system(\" cd ../.. && \\\n",
    "            sudo docker-compose down && \\\n",
    "            sudo rm -Rf neo4j/data/databases/neo4j && \\\n",
    "            sudo rm -Rf neo4j/data/transactions/neo4j && \\\n",
    "            sudo docker-compose up --build &\")"
   ]
  },
  {
   "cell_type": "code",
   "execution_count": null,
   "metadata": {},
   "outputs": [],
   "source": []
  }
 ],
 "metadata": {
  "kernelspec": {
   "display_name": "py38_neo4j",
   "language": "python",
   "name": "conda-env-py38_neo4j-py"
  },
  "language_info": {
   "codemirror_mode": {
    "name": "ipython",
    "version": 3
   },
   "file_extension": ".py",
   "mimetype": "text/x-python",
   "name": "python",
   "nbconvert_exporter": "python",
   "pygments_lexer": "ipython3",
   "version": "3.8.6"
  }
 },
 "nbformat": 4,
 "nbformat_minor": 4
}
