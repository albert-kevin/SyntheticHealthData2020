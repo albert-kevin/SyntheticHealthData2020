{
 "cells": [
  {
   "cell_type": "code",
   "execution_count": 1,
   "metadata": {},
   "outputs": [],
   "source": [
    "import pandas as pd"
   ]
  },
  {
   "cell_type": "code",
   "execution_count": 2,
   "metadata": {},
   "outputs": [],
   "source": [
    "# import the dataset\n",
    "synthetic_df = pd.read_csv(\"../../data/bronze/synthetic_data.csv\")"
   ]
  },
  {
   "cell_type": "code",
   "execution_count": 4,
   "metadata": {},
   "outputs": [],
   "source": [
    "synthetic_df[\"id\"] = synthetic_df.index"
   ]
  },
  {
   "cell_type": "code",
   "execution_count": 15,
   "metadata": {},
   "outputs": [],
   "source": [
    "synthetic_df[\"num_procedures_bin\"] = synthetic_df[\"num_procedures\"].apply(lambda x: False if (x==0) else True)"
   ]
  },
  {
   "cell_type": "code",
   "execution_count": 21,
   "metadata": {},
   "outputs": [],
   "source": [
    "synthetic_df[\"num_medications_perday\"] = synthetic_df[\"num_medications\"]/synthetic_df[\"time_in_hospital\"]"
   ]
  },
  {
   "cell_type": "code",
   "execution_count": 47,
   "metadata": {},
   "outputs": [],
   "source": [
    "# synthetic_df[\"number_outpatient_perday\"] = synthetic_df[\"number_outpatient\"]/synthetic_df[\"time_in_hospital\"]\n",
    "# synthetic_df[\"number_inpatient_perday\"] = synthetic_df[\"number_inpatient\"]/synthetic_df[\"time_in_hospital\"]"
   ]
  },
  {
   "cell_type": "code",
   "execution_count": 43,
   "metadata": {},
   "outputs": [],
   "source": [
    "bin_labels_4 = ['Normal', 'Mild', 'Moderate', 'Severe']\n",
    "synthetic_df['time_in_hospital_severitylvl'] = pd.qcut(synthetic_df['time_in_hospital'], q=[0, 0.25, 0.5, 0.75, 1], labels=bin_labels_4)"
   ]
  },
  {
   "cell_type": "code",
   "execution_count": null,
   "metadata": {},
   "outputs": [],
   "source": [
    "bin_labels_4 = ['Normal', 'Mild', 'Moderate', 'Severe']\n",
    "synthetic_df['time_in_hospital_severitylvl'] = pd.qcut(synthetic_df['time_in_hospital'], q=[0, 0.25, 0.5, 0.75, 1], labels=bin_labels_4)"
   ]
  },
  {
   "cell_type": "code",
   "execution_count": 48,
   "metadata": {},
   "outputs": [
    {
     "data": {
      "text/plain": [
       "0         1\n",
       "1         0\n",
       "2         0\n",
       "3        12\n",
       "4         0\n",
       "         ..\n",
       "78436     1\n",
       "78437     0\n",
       "78438     0\n",
       "78439     0\n",
       "78440     0\n",
       "Name: number_emergency, Length: 78441, dtype: int64"
      ]
     },
     "execution_count": 48,
     "metadata": {},
     "output_type": "execute_result"
    }
   ],
   "source": [
    "synthetic_df[\"number_emergency\"]"
   ]
  },
  {
   "cell_type": "code",
   "execution_count": 49,
   "metadata": {},
   "outputs": [
    {
     "data": {
      "text/plain": [
       "0                    1\n",
       "1        normalPatient\n",
       "2        normalPatient\n",
       "3                   12\n",
       "4        normalPatient\n",
       "             ...      \n",
       "78436                1\n",
       "78437    normalPatient\n",
       "78438    normalPatient\n",
       "78439    normalPatient\n",
       "78440    normalPatient\n",
       "Name: number_emergency, Length: 78441, dtype: object"
      ]
     },
     "execution_count": 49,
     "metadata": {},
     "output_type": "execute_result"
    }
   ],
   "source": [
    "synthetic_df[\"number_emergency\"].apply(lambda x: \"normalPatient\" if (x==0) else x)"
   ]
  },
  {
   "cell_type": "code",
   "execution_count": null,
   "metadata": {},
   "outputs": [],
   "source": []
  },
  {
   "cell_type": "code",
   "execution_count": 53,
   "metadata": {},
   "outputs": [
    {
     "data": {
      "text/plain": [
       "'[60-70)'"
      ]
     },
     "execution_count": 53,
     "metadata": {},
     "output_type": "execute_result"
    }
   ],
   "source": [
    "synthetic_df[\"age\"][0]"
   ]
  }
 ],
 "metadata": {
  "kernelspec": {
   "display_name": "py38_datareport",
   "language": "python",
   "name": "conda-env-py38_datareport-py"
  },
  "language_info": {
   "codemirror_mode": {
    "name": "ipython",
    "version": 3
   },
   "file_extension": ".py",
   "mimetype": "text/x-python",
   "name": "python",
   "nbconvert_exporter": "python",
   "pygments_lexer": "ipython3",
   "version": "3.8.6"
  }
 },
 "nbformat": 4,
 "nbformat_minor": 4
}
