{
 "cells": [
  {
   "cell_type": "markdown",
   "metadata": {},
   "source": [
    "Author: Kevin ALBERT\n",
    "\n",
    "Created: Nov 2020"
   ]
  },
  {
   "cell_type": "markdown",
   "metadata": {},
   "source": [
    "### import modules"
   ]
  },
  {
   "cell_type": "code",
   "execution_count": 1,
   "metadata": {},
   "outputs": [],
   "source": [
    "# install python modules\n",
    "# ! sudo /anaconda/bin/conda install -y --update-all --name py38_datareport -c conda-forge/label/main azure-storage-blob"
   ]
  },
  {
   "cell_type": "code",
   "execution_count": 62,
   "metadata": {},
   "outputs": [],
   "source": [
    "import pandas as pd"
   ]
  },
  {
   "cell_type": "code",
   "execution_count": 63,
   "metadata": {},
   "outputs": [],
   "source": [
    "import sys  \n",
    "sys.path.insert(0, '../scripts')\n",
    "import blobstorage\n",
    "from io import BytesIO"
   ]
  },
  {
   "cell_type": "markdown",
   "metadata": {},
   "source": [
    "### load dataset"
   ]
  },
  {
   "cell_type": "code",
   "execution_count": 64,
   "metadata": {},
   "outputs": [],
   "source": [
    "# import the dataset\n",
    "synthetic_df = pd.read_csv(\"../../data/bronze/synthetic_data.csv\")\n",
    "real_df = pd.read_csv(\"../../data/bronze/real_data.csv\")"
   ]
  },
  {
   "cell_type": "markdown",
   "metadata": {},
   "source": [
    "### data type definitions"
   ]
  },
  {
   "cell_type": "code",
   "execution_count": null,
   "metadata": {},
   "outputs": [],
   "source": []
  },
  {
   "cell_type": "markdown",
   "metadata": {},
   "source": [
    "### feature engineering"
   ]
  },
  {
   "cell_type": "code",
   "execution_count": 65,
   "metadata": {},
   "outputs": [],
   "source": [
    "# # creating unique patient ID\n",
    "# synthetic_df[\"id\"] = synthetic_df.index\n",
    "# real_df[\"id\"] = real_df.index"
   ]
  },
  {
   "cell_type": "code",
   "execution_count": 66,
   "metadata": {},
   "outputs": [],
   "source": [
    "# creating new columns, binned in binary procedures or not\n",
    "synthetic_df[\"num_procedures_bin\"] = synthetic_df[\"num_procedures\"].apply(lambda x: False if (x==0) else True)\n",
    "real_df[\"num_procedures_bin\"] = real_df[\"num_procedures\"].apply(lambda x: False if (x==0) else True)"
   ]
  },
  {
   "cell_type": "code",
   "execution_count": 67,
   "metadata": {},
   "outputs": [],
   "source": [
    "# created #meds / # days_in_hospital\n",
    "synthetic_df[\"num_medications_perday\"] = synthetic_df[\"num_medications\"]/synthetic_df[\"time_in_hospital\"]\n",
    "real_df[\"num_medications_perday\"] = real_df[\"num_medications\"]/real_df[\"time_in_hospital\"]"
   ]
  },
  {
   "cell_type": "code",
   "execution_count": 68,
   "metadata": {},
   "outputs": [],
   "source": [
    "# synthetic_df[\"number_outpatient_perday\"] = synthetic_df[\"number_outpatient\"]/synthetic_df[\"time_in_hospital\"]\n",
    "# synthetic_df[\"number_inpatient_perday\"] = synthetic_df[\"number_inpatient\"]/synthetic_df[\"time_in_hospital\"]"
   ]
  },
  {
   "cell_type": "code",
   "execution_count": 69,
   "metadata": {},
   "outputs": [],
   "source": [
    "# created a binned version - severity lvl\n",
    "bin_labels_4 = ['Normal', 'Mild', 'Moderate', 'Severe']\n",
    "synthetic_df['time_in_hospital_severitylvl'] = pd.qcut(synthetic_df['time_in_hospital'], q=[0, 0.25, 0.5, 0.75, 1], labels=bin_labels_4)\n",
    "real_df['time_in_hospital_severitylvl'] = pd.qcut(real_df['time_in_hospital'], q=[0, 0.25, 0.5, 0.75, 1], labels=bin_labels_4)"
   ]
  },
  {
   "cell_type": "code",
   "execution_count": 70,
   "metadata": {},
   "outputs": [],
   "source": [
    "# synthetic_df[\"number_emergency\"].apply(lambda x: \"normalPatient\" if (x==0) else x)"
   ]
  },
  {
   "cell_type": "code",
   "execution_count": 71,
   "metadata": {},
   "outputs": [],
   "source": [
    "# remove the [] and () from age with regex\n",
    "synthetic_df[\"age\"] = synthetic_df[\"age\"].str.replace(r'[^\\-\\w ]', '')\n",
    "real_df[\"age\"] = real_df[\"age\"].str.replace(r'[^\\-\\w ]', '')"
   ]
  },
  {
   "cell_type": "code",
   "execution_count": 73,
   "metadata": {},
   "outputs": [
    {
     "data": {
      "text/plain": [
       "Index(['race', 'gender', 'age', 'time_in_hospital', 'num_lab_procedures',\n",
       "       'num_procedures', 'num_medications', 'number_outpatient',\n",
       "       'number_emergency', 'number_inpatient', 'number_diagnoses',\n",
       "       'max_glu_serum', 'A1Cresult', 'metformin', 'repaglinide', 'nateglinide',\n",
       "       'chlorpropamide', 'glimepiride', 'acetohexamide', 'glipizide',\n",
       "       'glyburide', 'tolbutamide', 'pioglitazone', 'rosiglitazone', 'acarbose',\n",
       "       'miglitol', 'troglitazone', 'tolazamide', 'examide', 'citoglipton',\n",
       "       'insulin', 'glyburide-metformin', 'glipizide-metformin',\n",
       "       'glimepiride-pioglitazone', 'metformin-rosiglitazone',\n",
       "       'metformin-pioglitazone', 'change', 'diabetesMed', 'readmitted',\n",
       "       '_diag_1', '_diag_2', '_diag_3', 'num_procedures_bin',\n",
       "       'num_medications_perday', 'time_in_hospital_severitylvl'],\n",
       "      dtype='object')"
      ]
     },
     "execution_count": 73,
     "metadata": {},
     "output_type": "execute_result"
    }
   ],
   "source": [
    "synthetic_df.columns"
   ]
  },
  {
   "cell_type": "code",
   "execution_count": 74,
   "metadata": {},
   "outputs": [],
   "source": [
    "# rename a few columns with '_' underscores for the DB loading\n",
    "synthetic_df.columns = ['race', 'gender', 'age', 'time_in_hospital', 'num_lab_procedures',\n",
    "       'num_procedures', 'num_medications', 'number_outpatient',\n",
    "       'number_emergency', 'number_inpatient', 'number_diagnoses',\n",
    "       'max_glu_serum', 'A1Cresult', 'metformin', 'repaglinide', 'nateglinide',\n",
    "       'chlorpropamide', 'glimepiride', 'acetohexamide', 'glipizide',\n",
    "       'glyburide', 'tolbutamide', 'pioglitazone', 'rosiglitazone', 'acarbose',\n",
    "       'miglitol', 'troglitazone', 'tolazamide', 'examide', 'citoglipton',\n",
    "       'insulin', 'glyburide_metformin', 'glipizide_metformin',\n",
    "       'glimepiride_pioglitazone', 'metformin_rosiglitazone',\n",
    "       'metformin_pioglitazone', 'change', 'diabetesMed', 'readmitted',\n",
    "       '_diag_1', '_diag_2', '_diag_3', 'num_procedures_bin',\n",
    "       'num_medications_perday', 'time_in_hospital_severitylvl']\n",
    "real_df.columns = ['race', 'gender', 'age', 'time_in_hospital', 'num_lab_procedures',\n",
    "       'num_procedures', 'num_medications', 'number_outpatient',\n",
    "       'number_emergency', 'number_inpatient', 'number_diagnoses',\n",
    "       'max_glu_serum', 'A1Cresult', 'metformin', 'repaglinide', 'nateglinide',\n",
    "       'chlorpropamide', 'glimepiride', 'acetohexamide', 'glipizide',\n",
    "       'glyburide', 'tolbutamide', 'pioglitazone', 'rosiglitazone', 'acarbose',\n",
    "       'miglitol', 'troglitazone', 'tolazamide', 'examide', 'citoglipton',\n",
    "       'insulin', 'glyburide_metformin', 'glipizide_metformin',\n",
    "       'glimepiride_pioglitazone', 'metformin_rosiglitazone',\n",
    "       'metformin_pioglitazone', 'change', 'diabetesMed', 'readmitted',\n",
    "       '_diag_1', '_diag_2', '_diag_3', 'num_procedures_bin',\n",
    "       'num_medications_perday', 'time_in_hospital_severitylvl']"
   ]
  },
  {
   "cell_type": "code",
   "execution_count": null,
   "metadata": {},
   "outputs": [],
   "source": []
  },
  {
   "cell_type": "code",
   "execution_count": null,
   "metadata": {},
   "outputs": [],
   "source": []
  },
  {
   "cell_type": "code",
   "execution_count": null,
   "metadata": {},
   "outputs": [],
   "source": []
  },
  {
   "cell_type": "markdown",
   "metadata": {},
   "source": [
    "### save new dataset"
   ]
  },
  {
   "cell_type": "code",
   "execution_count": 75,
   "metadata": {},
   "outputs": [],
   "source": [
    "# store to cloud datalake as *.parquet (preserve schema)\n",
    "blobstorage.write_blob(\"silver/synthetic_data_processed.parquet\", synthetic_df)\n",
    "blobstorage.write_blob(\"silver/real_data_processed.parquet\", real_df)\n",
    "\n",
    "# store local as *.csv files\n",
    "synthetic_df.to_csv(\"../../data/silver/synthetic_data_processed.csv\", sep=',', index=False)\n",
    "real_df.to_csv(\"../../data/silver/real_data_processed.csv\", sep=',', index=False)\n",
    "# store local as *.parquet\n",
    "synthetic_df.to_parquet(\"../../data/silver/synthetic_data_processed.parquet\")\n",
    "real_df.to_parquet(\"../../data/silver/real_data_processed.parquet\")"
   ]
  },
  {
   "cell_type": "code",
   "execution_count": null,
   "metadata": {},
   "outputs": [],
   "source": []
  },
  {
   "cell_type": "markdown",
   "metadata": {},
   "source": [
    "## analyze ML model with 3 scenarios:\n",
    " * '<30'\n",
    " * '>30'\n",
    " * 'No'\n",
    " \n",
    "then use predictor variable \"change\""
   ]
  },
  {
   "cell_type": "code",
   "execution_count": 76,
   "metadata": {},
   "outputs": [],
   "source": [
    "# option 1 <30\n",
    "blobstorage.write_blob(\"silver/synthetic_data_processed_lessthan30.parquet\", synthetic_df[synthetic_df[\"readmitted\"] == '<30'])"
   ]
  },
  {
   "cell_type": "code",
   "execution_count": 80,
   "metadata": {},
   "outputs": [
    {
     "data": {
      "text/plain": [
       "(8867, 45)"
      ]
     },
     "execution_count": 80,
     "metadata": {},
     "output_type": "execute_result"
    }
   ],
   "source": [
    "synthetic_df[synthetic_df[\"readmitted\"] == '<30'].shape"
   ]
  },
  {
   "cell_type": "code",
   "execution_count": 77,
   "metadata": {},
   "outputs": [],
   "source": [
    "# option 2 >30\n",
    "blobstorage.write_blob(\"silver/synthetic_data_processed_morethan30.parquet\", synthetic_df[synthetic_df[\"readmitted\"] == '>30'])"
   ]
  },
  {
   "cell_type": "code",
   "execution_count": 81,
   "metadata": {},
   "outputs": [
    {
     "data": {
      "text/plain": [
       "(27895, 45)"
      ]
     },
     "execution_count": 81,
     "metadata": {},
     "output_type": "execute_result"
    }
   ],
   "source": [
    "synthetic_df[synthetic_df[\"readmitted\"] == '>30'].shape"
   ]
  },
  {
   "cell_type": "code",
   "execution_count": 85,
   "metadata": {},
   "outputs": [],
   "source": [
    "# option 1 No\n",
    "blobstorage.write_blob(\"silver/synthetic_data_processed_withNo.parquet\", synthetic_df[synthetic_df[\"readmitted\"] == 'NO'])"
   ]
  },
  {
   "cell_type": "code",
   "execution_count": 86,
   "metadata": {},
   "outputs": [
    {
     "data": {
      "text/plain": [
       "(41679, 45)"
      ]
     },
     "execution_count": 86,
     "metadata": {},
     "output_type": "execute_result"
    }
   ],
   "source": [
    "synthetic_df[synthetic_df[\"readmitted\"] == 'NO'].shape"
   ]
  },
  {
   "cell_type": "markdown",
   "metadata": {},
   "source": [
    "## new test - HBA1C_STATUS remove 'None'"
   ]
  },
  {
   "cell_type": "code",
   "execution_count": 91,
   "metadata": {},
   "outputs": [],
   "source": [
    "blobstorage.write_blob(\"silver/synthetic_data_processed_remove_hba1c.parquet\", synthetic_df[synthetic_df[\"A1Cresult\"] != 'None'])"
   ]
  },
  {
   "cell_type": "code",
   "execution_count": 92,
   "metadata": {},
   "outputs": [],
   "source": [
    "# synthetic_df[synthetic_df[\"A1Cresult\"] != 'None'][\"A1Cresult\"].head(20)"
   ]
  },
  {
   "cell_type": "code",
   "execution_count": null,
   "metadata": {},
   "outputs": [],
   "source": []
  },
  {
   "cell_type": "code",
   "execution_count": null,
   "metadata": {},
   "outputs": [],
   "source": []
  },
  {
   "cell_type": "code",
   "execution_count": null,
   "metadata": {},
   "outputs": [],
   "source": []
  }
 ],
 "metadata": {
  "kernelspec": {
   "display_name": "py38_datareport",
   "language": "python",
   "name": "conda-env-py38_datareport-py"
  },
  "language_info": {
   "codemirror_mode": {
    "name": "ipython",
    "version": 3
   },
   "file_extension": ".py",
   "mimetype": "text/x-python",
   "name": "python",
   "nbconvert_exporter": "python",
   "pygments_lexer": "ipython3",
   "version": "3.8.6"
  }
 },
 "nbformat": 4,
 "nbformat_minor": 4
}
