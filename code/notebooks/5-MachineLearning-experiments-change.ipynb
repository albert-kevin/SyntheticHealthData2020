{
 "cells": [
  {
   "cell_type": "markdown",
   "metadata": {},
   "source": [
    "Author: Kevin ALBERT\n",
    "\n",
    "Created: Nov 2020"
   ]
  },
  {
   "cell_type": "code",
   "execution_count": 1,
   "metadata": {},
   "outputs": [],
   "source": [
    "# import logging\n",
    "import os\n",
    "import logging\n",
    "import pandas as pd\n",
    "import numpy as np\n",
    "import json\n",
    "import requests\n",
    "import joblib"
   ]
  },
  {
   "cell_type": "code",
   "execution_count": 2,
   "metadata": {},
   "outputs": [
    {
     "name": "stdout",
     "output_type": "stream",
     "text": [
      "azureml.core version: 1.17.0\n"
     ]
    },
    {
     "name": "stderr",
     "output_type": "stream",
     "text": [
      "The azureml-explain-model package is deprecated and will be removed in a future release of the AzureML SDK. Please use the azureml-interpret and interpret-community packages which support the functionality azureml-explain-model used to provide.\n"
     ]
    }
   ],
   "source": [
    "from azureml.core import Workspace, Dataset, Datastore, Run\n",
    "from azureml.core.experiment import Experiment\n",
    "from azureml.data.datapath import DataPath\n",
    "from azureml.core.compute import ComputeTarget, AmlCompute, AksCompute\n",
    "from azureml.core.model import Model, InferenceConfig\n",
    "from azureml.train.automl import AutoMLConfig\n",
    "from azureml.train.automl.run import AutoMLRun\n",
    "from azureml.widgets import RunDetails\n",
    "from azureml.core.webservice import Webservice, AciWebservice, AksWebservice\n",
    "from azureml.exceptions import WebserviceException\n",
    "from azureml.core.environment import Environment\n",
    "from azureml.train.estimator import Estimator\n",
    "from azureml.core.conda_dependencies import CondaDependencies\n",
    "from azureml.train.hyperdrive.runconfig import HyperDriveConfig\n",
    "from azureml.train.hyperdrive.sampling import RandomParameterSampling, GridParameterSampling\n",
    "from azureml.train.hyperdrive.run import PrimaryMetricGoal\n",
    "from azureml.train.hyperdrive.parameter_expressions import choice\n",
    "from azureml.core.runconfig import RunConfiguration\n",
    "from azureml.pipeline.core import PipelineData, Pipeline\n",
    "from azureml.pipeline.steps import PythonScriptStep, EstimatorStep\n",
    "from azureml.pipeline.core.run import PipelineRun\n",
    "from azureml.core.authentication import InteractiveLoginAuthentication\n",
    "from azureml.explain.model._internal.explanation_client import ExplanationClient\n",
    "import azureml.core\n",
    "print(\"azureml.core version:\", azureml.core.__version__)"
   ]
  },
  {
   "cell_type": "code",
   "execution_count": 3,
   "metadata": {},
   "outputs": [],
   "source": [
    "# pd.describe_option('display')            # show all pandas options, parameters can slow down notebook\n",
    "pd.set_option('display.max_colwidth', 100) # default 50, the maximum width in characters of a column\n",
    "pd.set_option('display.max_columns', 40)   # default 20, the maximum amount of columns in view \n",
    "pd.set_option('display.max_rows', 60)      # default 60, the maximum amount of rows in view"
   ]
  },
  {
   "cell_type": "code",
   "execution_count": 4,
   "metadata": {},
   "outputs": [
    {
     "name": "stdout",
     "output_type": "stream",
     "text": [
      "azureml-accel-models                  1.17.0\r\n",
      "azureml-automl-core                   1.17.0\r\n",
      "azureml-automl-runtime                1.17.0\r\n",
      "azureml-cli-common                    1.17.0\r\n",
      "azureml-contrib-dataset               1.17.0\r\n",
      "azureml-contrib-fairness              1.17.0\r\n",
      "azureml-contrib-gbdt                  1.17.0\r\n",
      "azureml-contrib-interpret             1.17.0\r\n",
      "azureml-contrib-notebook              1.17.0\r\n",
      "azureml-contrib-pipeline-steps        1.17.0\r\n",
      "azureml-contrib-reinforcementlearning 1.17.0\r\n",
      "azureml-contrib-server                1.17.0\r\n",
      "azureml-contrib-services              1.17.0\r\n",
      "azureml-core                          1.17.0\r\n",
      "azureml-datadrift                     1.17.0\r\n",
      "azureml-dataprep                      2.4.2\r\n",
      "azureml-dataprep-native               24.0.0\r\n",
      "azureml-dataprep-rslex                1.2.2\r\n",
      "azureml-dataset-runtime               1.17.0\r\n",
      "azureml-defaults                      1.17.0\r\n",
      "azureml-explain-model                 1.17.0\r\n",
      "azureml-interpret                     1.17.0\r\n",
      "azureml-mlflow                        1.17.0.post1\r\n",
      "azureml-model-management-sdk          1.0.1b6.post1\r\n",
      "azureml-opendatasets                  1.17.0\r\n",
      "azureml-pipeline                      1.17.0\r\n",
      "azureml-pipeline-core                 1.17.0\r\n",
      "azureml-pipeline-steps                1.17.0\r\n",
      "azureml-sdk                           1.17.0\r\n",
      "azureml-telemetry                     1.17.0\r\n",
      "azureml-tensorboard                   1.17.0\r\n",
      "azureml-train                         1.17.0\r\n",
      "azureml-train-automl                  1.17.0\r\n",
      "azureml-train-automl-client           1.17.0\r\n",
      "azureml-train-automl-runtime          1.17.0\r\n",
      "azureml-train-core                    1.17.0\r\n",
      "azureml-train-restclients-hyperdrive  1.17.0\r\n",
      "azureml-widgets                       1.17.0\r\n"
     ]
    }
   ],
   "source": [
    "!pip list |grep -i azureml"
   ]
  },
  {
   "cell_type": "code",
   "execution_count": 5,
   "metadata": {},
   "outputs": [],
   "source": [
    "import pandas as pd\n",
    "import numpy as np\n",
    "import matplotlib.pyplot as plt\n",
    "%matplotlib inline\n",
    "import seaborn as sns\n",
    "from sklearn.model_selection import train_test_split\n",
    "from sklearn.model_selection import cross_val_score\n",
    "from sklearn.preprocessing import StandardScaler\n",
    "from sklearn.tree import DecisionTreeRegressor\n",
    "from sklearn.ensemble import RandomForestRegressor\n",
    "from sklearn.dummy import DummyRegressor\n",
    "from sklearn.linear_model import LinearRegression\n",
    "from sklearn.model_selection import KFold\n",
    "from sklearn.model_selection import StratifiedKFold\n",
    "from sklearn.model_selection import ShuffleSplit\n",
    "from sklearn.model_selection import GridSearchCV\n",
    "from sklearn.metrics import mean_squared_error\n",
    "from sklearn.metrics import mean_absolute_error\n",
    "from sklearn.metrics import r2_score\n",
    "#import eli5\n",
    "#from eli5.sklearn import PermutationImportance\n",
    "# import scikitplot as skplt\n",
    "from sklearn.decomposition import PCA\n",
    "\n",
    "sns.set_style('whitegrid')\n",
    "pd.set_option('display.max_columns', None) # display all columns\n",
    "\n",
    "import warnings\n",
    "warnings.filterwarnings('ignore')"
   ]
  },
  {
   "cell_type": "code",
   "execution_count": 6,
   "metadata": {},
   "outputs": [],
   "source": [
    "# load the workspace\n",
    "ws = Workspace.from_config()"
   ]
  },
  {
   "cell_type": "code",
   "execution_count": 7,
   "metadata": {},
   "outputs": [],
   "source": [
    "# choose an experiment name\n",
    "experiment = Experiment(ws, 'automl-classification-synthetic-health-data')"
   ]
  },
  {
   "cell_type": "code",
   "execution_count": 8,
   "metadata": {},
   "outputs": [
    {
     "data": {
      "text/plain": [
       "{'datalakestoragegen2': {\n",
       "   \"name\": \"datalakestoragegen2\",\n",
       "   \"container_name\": \"datalake\",\n",
       "   \"account_name\": \"datalake27112020\",\n",
       "   \"protocol\": \"https\",\n",
       "   \"endpoint\": \"core.windows.net\"\n",
       " },\n",
       " 'workspacefilestore': {\n",
       "   \"name\": \"workspacefilestore\",\n",
       "   \"container_name\": \"azureml-filestore-9835fb79-8b03-46ca-ba4b-b8cd0d3e846a\",\n",
       "   \"account_name\": \"machinelstorage9af0d08f1\",\n",
       "   \"protocol\": \"https\",\n",
       "   \"endpoint\": \"core.windows.net\"\n",
       " },\n",
       " 'workspaceblobstore': {\n",
       "   \"name\": \"workspaceblobstore\",\n",
       "   \"container_name\": \"azureml-blobstore-9835fb79-8b03-46ca-ba4b-b8cd0d3e846a\",\n",
       "   \"account_name\": \"machinelstorage9af0d08f1\",\n",
       "   \"protocol\": \"https\",\n",
       "   \"endpoint\": \"core.windows.net\"\n",
       " }}"
      ]
     },
     "execution_count": 8,
     "metadata": {},
     "output_type": "execute_result"
    }
   ],
   "source": [
    "ds = Datastore.register_azure_blob_container(\n",
    "    workspace=ws,\n",
    "    datastore_name=\"datalakestoragegen2\",\n",
    "    container_name=\"datalake\",\n",
    "    account_name=\"datalake27112020\",\n",
    "    account_key=\"WJ4lTl5w9ze3hberxHsnNoWON5DTZJyajggoLY3j7WgsDDFm5w/NPuDAfO4Po/bNellztxilXm2Gpo9GzEzxdA==\",\n",
    "    create_if_not_exists=False)\n",
    "# list available datastores\n",
    "ws.datastores"
   ]
  },
  {
   "cell_type": "code",
   "execution_count": 9,
   "metadata": {},
   "outputs": [
    {
     "data": {
      "text/plain": [
       "{\n",
       "  \"source\": [\n",
       "    \"('datalakestoragegen2', 'silver/synthetic_data_processed_remove_hba1c.parquet')\"\n",
       "  ],\n",
       "  \"definition\": [\n",
       "    \"GetDatastoreFiles\",\n",
       "    \"ReadParquetFile\",\n",
       "    \"DropColumns\"\n",
       "  ]\n",
       "}"
      ]
     },
     "execution_count": 9,
     "metadata": {},
     "output_type": "execute_result"
    }
   ],
   "source": [
    "# setup parquet file(s) into a tabular dataset\n",
    "ds_path = [DataPath(ds, 'silver/synthetic_data_processed_remove_hba1c.parquet')] # {path/*.parquet}\n",
    "dataset = Dataset.Tabular.from_parquet_files(path=ds_path)\n",
    "# show dataset settings\n",
    "dataset"
   ]
  },
  {
   "cell_type": "code",
   "execution_count": 11,
   "metadata": {},
   "outputs": [],
   "source": [
    "# dataset.to_pandas_dataframe()[\"A1Cresult\"]"
   ]
  },
  {
   "cell_type": "code",
   "execution_count": 12,
   "metadata": {},
   "outputs": [],
   "source": [
    "automl_settings = {\n",
    "    \"enable_early_stopping\":True,\n",
    "    \"experiment_timeout_hours\":0.5,\n",
    "    \"iterations\":10, # number of runs ex: 20\n",
    "    \"iteration_timeout_minutes\":5,\n",
    "    \"max_concurrent_iterations\":1,\n",
    "    \"max_cores_per_iteration\":-1,\n",
    "    #\"experiment_exit_score\":0.9920,\n",
    "    \"model_explainability\":True,\n",
    "    \"n_cross_validations\":5, # make 10 if small dataset, else 5\n",
    "    \"primary_metric\":'AUC_weighted',\n",
    "    \"featurization\":'auto',\n",
    "    \"verbosity\":logging.INFO, # {INFO, DEBUG, CRITICAL, ERROR, WARNING} -- debug_log=<*.log>\n",
    "    \"enable_dnn\":False,\n",
    "}\n",
    "\n",
    "automl_config = AutoMLConfig(task='classification',\n",
    "                             debug_log='automl_errors.log',\n",
    "                             compute_target='local', # {training_cluster or 'local'}\n",
    "                             #blacklist_models=['KNN','LinearSVM'],\n",
    "#                              environment_definition=training_env,\n",
    "                             enable_onnx_compatible_models=True,\n",
    "                             training_data=dataset,\n",
    "                             label_column_name=\"readmitted\",\n",
    "#                              training_data=training_data,\n",
    "#                              validation_data=validation_data,\n",
    "#                              label_column_name=\"readmitted\",\n",
    "                             **automl_settings\n",
    "                            )\n",
    "# ouputs \"model.pkl\" and \"automl_errors.log\""
   ]
  },
  {
   "cell_type": "code",
   "execution_count": 13,
   "metadata": {},
   "outputs": [
    {
     "name": "stdout",
     "output_type": "stream",
     "text": [
      "Running on local machine\n",
      "Parent Run ID: AutoML_1766ab23-4500-4668-95f2-c4cf355d7b19\n",
      "\n",
      "Current status: DatasetEvaluation. Gathering dataset statistics.\n",
      "Current status: FeaturesGeneration. Generating features for the dataset.\n",
      "Current status: DatasetFeaturization. Beginning to fit featurizers and featurize the dataset.\n",
      "Current status: DatasetFeaturizationCompleted. Completed fit featurizers and featurizing the dataset.\n",
      "Current status: DatasetCrossValidationSplit. Generating individually featurized CV splits.\n",
      "\n",
      "****************************************************************************************************\n",
      "DATA GUARDRAILS: \n",
      "\n",
      "TYPE:         Class balancing detection\n",
      "STATUS:       PASSED\n",
      "DESCRIPTION:  Your inputs were analyzed, and all classes are balanced in your training data.\n",
      "              Learn more about imbalanced data: https://aka.ms/AutomatedMLImbalancedData\n",
      "\n",
      "****************************************************************************************************\n",
      "\n",
      "TYPE:         High cardinality feature detection\n",
      "STATUS:       PASSED\n",
      "DESCRIPTION:  Your inputs were analyzed, and no high cardinality features were detected.\n",
      "              Learn more about high cardinality feature handling: https://aka.ms/AutomatedMLFeaturization\n",
      "\n",
      "****************************************************************************************************\n",
      "Current status: ModelSelection. Beginning model selection.\n",
      "\n",
      "****************************************************************************************************\n",
      "ITERATION: The iteration being evaluated.\n",
      "PIPELINE: A summary description of the pipeline being evaluated.\n",
      "DURATION: Time taken for the current iteration.\n",
      "METRIC: The result of computing score on the fitted pipeline.\n",
      "BEST: The best observed score thus far.\n",
      "****************************************************************************************************\n",
      "\n",
      " ITERATION   PIPELINE                                       DURATION      METRIC      BEST\n",
      "         0   MaxAbsScaler LightGBM                          0:00:25       0.8721    0.8721\n",
      "         1   MaxAbsScaler XGBoostClassifier                 0:00:26       0.8629    0.8721\n",
      "         2   MaxAbsScaler RandomForest                      0:00:21       0.8216    0.8721\n",
      "         3   MaxAbsScaler SGD                               0:00:19       0.8693    0.8721\n",
      "         4   MaxAbsScaler SGD                               0:00:21       0.8684    0.8721\n",
      "         5   MaxAbsScaler ExtremeRandomTrees                0:00:21       0.7975    0.8721\n",
      "         6   MaxAbsScaler ExtremeRandomTrees                0:00:21       0.7830    0.8721\n",
      "         7   MaxAbsScaler SGD                               0:00:21       0.8700    0.8721\n",
      "         8   MaxAbsScaler RandomForest                      0:00:21       0.8187    0.8721\n",
      "         9   VotingEnsemble                                 0:00:23       0.8776    0.8776\n",
      "****************************************************************************************************\n",
      "Current status: BestRunExplainModel. Best run model explanations started\n",
      "Current status: ModelExplanationDataSetSetup. Model explanations data setup completed\n",
      "Current status: PickSurrogateModel. Choosing LightGBM as the surrogate model for explanations\n",
      "Current status: EngineeredFeatureExplanations. Computation of engineered features started\n",
      "Current status: EngineeredFeatureExplanations. Computation of engineered features completed\n",
      "Current status: BestRunExplainModel. Best run model explanations completed\n",
      "****************************************************************************************************\n"
     ]
    }
   ],
   "source": [
    "automl_run = experiment.submit(automl_config, show_output=True)"
   ]
  },
  {
   "cell_type": "markdown",
   "metadata": {},
   "source": [
    "### optional: retrieve specific run"
   ]
  },
  {
   "cell_type": "code",
   "execution_count": null,
   "metadata": {},
   "outputs": [],
   "source": [
    "# runId = 'AutoML_891419fd-d69c-4a91-b536-f008adcb800c'\n",
    "# automl_run = AutoMLRun(experiment, run_id=runId)"
   ]
  },
  {
   "cell_type": "markdown",
   "metadata": {},
   "source": [
    "### results: explore the best pipeline"
   ]
  },
  {
   "cell_type": "code",
   "execution_count": 14,
   "metadata": {},
   "outputs": [
    {
     "data": {
      "application/vnd.jupyter.widget-view+json": {
       "model_id": "98b787e3d76349bf93a945908d14b9a3",
       "version_major": 2,
       "version_minor": 0
      },
      "text/plain": [
       "_AutoMLWidget(widget_settings={'childWidgetDisplay': 'popup', 'send_telemetry': False, 'log_level': 'INFO', 's…"
      ]
     },
     "metadata": {},
     "output_type": "display_data"
    },
    {
     "data": {
      "application/aml.mini.widget.v1": "{\"status\": \"Completed\", \"workbench_run_details_uri\": \"https://ml.azure.com/experiments/automl-classification-synthetic-health-data/runs/AutoML_1766ab23-4500-4668-95f2-c4cf355d7b19?wsid=/subscriptions/43c1f93a-903d-4b23-a4bf-92bd7a150627/resourcegroups/myResourceGroup02/workspaces/machine_learning_workspace02\", \"run_id\": \"AutoML_1766ab23-4500-4668-95f2-c4cf355d7b19\", \"run_properties\": {\"run_id\": \"AutoML_1766ab23-4500-4668-95f2-c4cf355d7b19\", \"created_utc\": \"2020-11-28T20:51:20.49481Z\", \"properties\": {\"num_iterations\": \"10\", \"training_type\": \"TrainFull\", \"acquisition_function\": \"EI\", \"primary_metric\": \"AUC_weighted\", \"train_split\": \"0\", \"acquisition_parameter\": \"0\", \"num_cross_validation\": \"5\", \"target\": \"local\", \"AMLSettingsJsonString\": \"{\\\"path\\\":null,\\\"name\\\":\\\"automl-classification-synthetic-health-data\\\",\\\"subscription_id\\\":\\\"43c1f93a-903d-4b23-a4bf-92bd7a150627\\\",\\\"resource_group\\\":\\\"myResourceGroup02\\\",\\\"workspace_name\\\":\\\"machine_learning_workspace02\\\",\\\"region\\\":\\\"westeurope\\\",\\\"compute_target\\\":\\\"local\\\",\\\"spark_service\\\":null,\\\"azure_service\\\":\\\"remote\\\",\\\"_local_managed_run_id\\\":null,\\\"many_models\\\":false,\\\"pipeline_fetch_max_batch_size\\\":1,\\\"iterations\\\":10,\\\"primary_metric\\\":\\\"AUC_weighted\\\",\\\"task_type\\\":\\\"classification\\\",\\\"data_script\\\":null,\\\"validation_size\\\":0.0,\\\"n_cross_validations\\\":5,\\\"y_min\\\":null,\\\"y_max\\\":null,\\\"num_classes\\\":3,\\\"featurization\\\":\\\"auto\\\",\\\"_ignore_package_version_incompatibilities\\\":false,\\\"is_timeseries\\\":false,\\\"max_cores_per_iteration\\\":-1,\\\"max_concurrent_iterations\\\":1,\\\"iteration_timeout_minutes\\\":5,\\\"mem_in_mb\\\":null,\\\"enforce_time_on_windows\\\":false,\\\"experiment_timeout_minutes\\\":30,\\\"experiment_exit_score\\\":null,\\\"whitelist_models\\\":null,\\\"blacklist_algos\\\":[\\\"TensorFlowLinearClassifier\\\",\\\"TensorFlowDNN\\\"],\\\"supported_models\\\":[\\\"ExtremeRandomTrees\\\",\\\"BernoulliNaiveBayes\\\",\\\"LightGBM\\\",\\\"XGBoostClassifier\\\",\\\"DecisionTree\\\",\\\"RandomForest\\\",\\\"SGD\\\",\\\"AveragedPerceptronClassifier\\\",\\\"TensorFlowLinearClassifier\\\",\\\"TensorFlowDNN\\\",\\\"LogisticRegression\\\",\\\"LinearSVM\\\",\\\"GradientBoosting\\\",\\\"MultinomialNaiveBayes\\\",\\\"SVM\\\",\\\"KNN\\\"],\\\"auto_blacklist\\\":true,\\\"blacklist_samples_reached\\\":false,\\\"exclude_nan_labels\\\":true,\\\"verbosity\\\":20,\\\"_debug_log\\\":\\\"automl_errors.log\\\",\\\"show_warnings\\\":false,\\\"model_explainability\\\":true,\\\"service_url\\\":null,\\\"sdk_url\\\":null,\\\"sdk_packages\\\":null,\\\"enable_onnx_compatible_models\\\":true,\\\"enable_split_onnx_featurizer_estimator_models\\\":false,\\\"vm_type\\\":null,\\\"telemetry_verbosity\\\":20,\\\"send_telemetry\\\":true,\\\"enable_dnn\\\":false,\\\"force_text_dnn\\\":false,\\\"enable_feature_sweeping\\\":false,\\\"enable_early_stopping\\\":true,\\\"early_stopping_n_iters\\\":10,\\\"metrics\\\":null,\\\"enable_ensembling\\\":true,\\\"enable_stack_ensembling\\\":false,\\\"ensemble_iterations\\\":10,\\\"enable_tf\\\":false,\\\"enable_subsampling\\\":false,\\\"subsample_seed\\\":null,\\\"enable_nimbusml\\\":false,\\\"enable_streaming\\\":false,\\\"force_streaming\\\":false,\\\"track_child_runs\\\":true,\\\"allowed_private_models\\\":[],\\\"label_column_name\\\":\\\"readmitted\\\",\\\"weight_column_name\\\":null,\\\"cv_split_column_names\\\":null,\\\"enable_local_managed\\\":false,\\\"cost_mode\\\":1,\\\"lag_length\\\":0,\\\"metric_operation\\\":\\\"maximize\\\",\\\"preprocess\\\":true,\\\"scenario\\\":\\\"SDK-1.13.0\\\"}\", \"DataPrepJsonString\": \"{\\\\\\\"training_data\\\\\\\": \\\\\\\"{\\\\\\\\\\\\\\\"blocks\\\\\\\\\\\\\\\": [{\\\\\\\\\\\\\\\"id\\\\\\\\\\\\\\\": \\\\\\\\\\\\\\\"b3d7ce4e-900f-49c6-8070-b9382b46f3c4\\\\\\\\\\\\\\\", \\\\\\\\\\\\\\\"type\\\\\\\\\\\\\\\": \\\\\\\\\\\\\\\"Microsoft.DPrep.GetDatastoreFilesBlock\\\\\\\\\\\\\\\", \\\\\\\\\\\\\\\"arguments\\\\\\\\\\\\\\\": {\\\\\\\\\\\\\\\"datastores\\\\\\\\\\\\\\\": [{\\\\\\\\\\\\\\\"datastoreName\\\\\\\\\\\\\\\": \\\\\\\\\\\\\\\"datalakestoragegen2\\\\\\\\\\\\\\\", \\\\\\\\\\\\\\\"path\\\\\\\\\\\\\\\": \\\\\\\\\\\\\\\"silver/synthetic_data_processed_remove_hba1c.parquet\\\\\\\\\\\\\\\", \\\\\\\\\\\\\\\"resourceGroup\\\\\\\\\\\\\\\": \\\\\\\\\\\\\\\"myResourceGroup02\\\\\\\\\\\\\\\", \\\\\\\\\\\\\\\"subscription\\\\\\\\\\\\\\\": \\\\\\\\\\\\\\\"43c1f93a-903d-4b23-a4bf-92bd7a150627\\\\\\\\\\\\\\\", \\\\\\\\\\\\\\\"workspaceName\\\\\\\\\\\\\\\": \\\\\\\\\\\\\\\"machine_learning_workspace02\\\\\\\\\\\\\\\"}]}, \\\\\\\\\\\\\\\"localData\\\\\\\\\\\\\\\": {}, \\\\\\\\\\\\\\\"isEnabled\\\\\\\\\\\\\\\": true, \\\\\\\\\\\\\\\"name\\\\\\\\\\\\\\\": null, \\\\\\\\\\\\\\\"annotation\\\\\\\\\\\\\\\": null}, {\\\\\\\\\\\\\\\"id\\\\\\\\\\\\\\\": \\\\\\\\\\\\\\\"bb0991a7-595c-40f7-9024-4c4654f2de0d\\\\\\\\\\\\\\\", \\\\\\\\\\\\\\\"type\\\\\\\\\\\\\\\": \\\\\\\\\\\\\\\"Microsoft.DPrep.ReadParquetFileBlock\\\\\\\\\\\\\\\", \\\\\\\\\\\\\\\"arguments\\\\\\\\\\\\\\\": {\\\\\\\\\\\\\\\"preview\\\\\\\\\\\\\\\": false}, \\\\\\\\\\\\\\\"localData\\\\\\\\\\\\\\\": {}, \\\\\\\\\\\\\\\"isEnabled\\\\\\\\\\\\\\\": true, \\\\\\\\\\\\\\\"name\\\\\\\\\\\\\\\": null, \\\\\\\\\\\\\\\"annotation\\\\\\\\\\\\\\\": null}, {\\\\\\\\\\\\\\\"id\\\\\\\\\\\\\\\": \\\\\\\\\\\\\\\"9093643f-38fb-46b9-aa23-f7840a153d22\\\\\\\\\\\\\\\", \\\\\\\\\\\\\\\"type\\\\\\\\\\\\\\\": \\\\\\\\\\\\\\\"Microsoft.DPrep.DropColumnsBlock\\\\\\\\\\\\\\\", \\\\\\\\\\\\\\\"arguments\\\\\\\\\\\\\\\": {\\\\\\\\\\\\\\\"columns\\\\\\\\\\\\\\\": {\\\\\\\\\\\\\\\"type\\\\\\\\\\\\\\\": 0, \\\\\\\\\\\\\\\"details\\\\\\\\\\\\\\\": {\\\\\\\\\\\\\\\"selectedColumns\\\\\\\\\\\\\\\": [\\\\\\\\\\\\\\\"Path\\\\\\\\\\\\\\\"]}}}, \\\\\\\\\\\\\\\"localData\\\\\\\\\\\\\\\": {}, \\\\\\\\\\\\\\\"isEnabled\\\\\\\\\\\\\\\": true, \\\\\\\\\\\\\\\"name\\\\\\\\\\\\\\\": null, \\\\\\\\\\\\\\\"annotation\\\\\\\\\\\\\\\": null}], \\\\\\\\\\\\\\\"inspectors\\\\\\\\\\\\\\\": [], \\\\\\\\\\\\\\\"meta\\\\\\\\\\\\\\\": {\\\\\\\\\\\\\\\"savedDatasetId\\\\\\\\\\\\\\\": \\\\\\\\\\\\\\\"6e33ba9c-36bd-4410-be8d-fe7e62d99c3b\\\\\\\\\\\\\\\", \\\\\\\\\\\\\\\"datasetType\\\\\\\\\\\\\\\": \\\\\\\\\\\\\\\"tabular\\\\\\\\\\\\\\\", \\\\\\\\\\\\\\\"subscriptionId\\\\\\\\\\\\\\\": \\\\\\\\\\\\\\\"43c1f93a-903d-4b23-a4bf-92bd7a150627\\\\\\\\\\\\\\\", \\\\\\\\\\\\\\\"workspaceId\\\\\\\\\\\\\\\": \\\\\\\\\\\\\\\"9835fb79-8b03-46ca-ba4b-b8cd0d3e846a\\\\\\\\\\\\\\\", \\\\\\\\\\\\\\\"workspaceLocation\\\\\\\\\\\\\\\": \\\\\\\\\\\\\\\"westeurope\\\\\\\\\\\\\\\"}}\\\\\\\", \\\\\\\"activities\\\\\\\": 0}\", \"EnableSubsampling\": \"False\", \"runTemplate\": \"AutoML\", \"azureml.runsource\": \"automl\", \"display_task_type\": \"classification\", \"dependencies_versions\": \"{\\\"azureml-widgets\\\": \\\"1.17.0\\\", \\\"azureml-train\\\": \\\"1.17.0\\\", \\\"azureml-train-restclients-hyperdrive\\\": \\\"1.17.0\\\", \\\"azureml-train-core\\\": \\\"1.17.0\\\", \\\"azureml-train-automl\\\": \\\"1.17.0\\\", \\\"azureml-train-automl-runtime\\\": \\\"1.17.0\\\", \\\"azureml-train-automl-client\\\": \\\"1.17.0\\\", \\\"azureml-tensorboard\\\": \\\"1.17.0\\\", \\\"azureml-telemetry\\\": \\\"1.17.0\\\", \\\"azureml-sdk\\\": \\\"1.17.0\\\", \\\"azureml-pipeline\\\": \\\"1.17.0\\\", \\\"azureml-pipeline-steps\\\": \\\"1.17.0\\\", \\\"azureml-pipeline-core\\\": \\\"1.17.0\\\", \\\"azureml-opendatasets\\\": \\\"1.17.0\\\", \\\"azureml-model-management-sdk\\\": \\\"1.0.1b6.post1\\\", \\\"azureml-mlflow\\\": \\\"1.17.0.post1\\\", \\\"azureml-interpret\\\": \\\"1.17.0\\\", \\\"azureml-explain-model\\\": \\\"1.17.0\\\", \\\"azureml-defaults\\\": \\\"1.17.0\\\", \\\"azureml-dataset-runtime\\\": \\\"1.17.0\\\", \\\"azureml-dataprep\\\": \\\"2.4.2\\\", \\\"azureml-dataprep-rslex\\\": \\\"1.2.2\\\", \\\"azureml-dataprep-native\\\": \\\"24.0.0\\\", \\\"azureml-datadrift\\\": \\\"1.17.0\\\", \\\"azureml-core\\\": \\\"1.17.0\\\", \\\"azureml-contrib-services\\\": \\\"1.17.0\\\", \\\"azureml-contrib-server\\\": \\\"1.17.0\\\", \\\"azureml-contrib-reinforcementlearning\\\": \\\"1.17.0\\\", \\\"azureml-contrib-pipeline-steps\\\": \\\"1.17.0\\\", \\\"azureml-contrib-notebook\\\": \\\"1.17.0\\\", \\\"azureml-contrib-interpret\\\": \\\"1.17.0\\\", \\\"azureml-contrib-gbdt\\\": \\\"1.17.0\\\", \\\"azureml-contrib-fairness\\\": \\\"1.17.0\\\", \\\"azureml-contrib-dataset\\\": \\\"1.17.0\\\", \\\"azureml-cli-common\\\": \\\"1.17.0\\\", \\\"azureml-automl-runtime\\\": \\\"1.17.0\\\", \\\"azureml-automl-core\\\": \\\"1.17.0\\\", \\\"azureml-accel-models\\\": \\\"1.17.0\\\"}\", \"_aml_system_scenario_identification\": \"Local.Parent\", \"ClientSdkVersion\": \"1.17.0\", \"ClientType\": \"SDK\", \"environment_cpu_name\": \"AzureML-AutoML\", \"environment_cpu_version\": \"44\", \"environment_gpu_name\": \"AzureML-AutoML-GPU\", \"environment_gpu_version\": \"32\", \"root_attribution\": \"automl\", \"attribution\": \"AutoML\", \"Orchestrator\": \"AutoML\", \"_azureml.ComputeTargetType\": \"local\", \"ProblemInfoJsonString\": \"{\\\"dataset_num_categorical\\\": 0, \\\"is_sparse\\\": true, \\\"subsampling\\\": false, \\\"dataset_classes\\\": 3, \\\"dataset_features\\\": 257, \\\"dataset_samples\\\": 11634, \\\"single_frequency_class_detected\\\": false}\", \"feature_skus\": \"automatedml_sdk_guardrails\", \"azureml.git.repository_uri\": \"https://github.com/albert-kevin/SyntheticHealthData2020.git\", \"mlflow.source.git.repoURL\": \"https://github.com/albert-kevin/SyntheticHealthData2020.git\", \"azureml.git.branch\": \"main\", \"mlflow.source.git.branch\": \"main\", \"azureml.git.commit\": \"6f659dc0a29be61dbdb5a6c47691657974f0c5d5\", \"mlflow.source.git.commit\": \"6f659dc0a29be61dbdb5a6c47691657974f0c5d5\", \"azureml.git.dirty\": \"True\"}, \"tags\": {\"model_explain_run\": \"best_run\", \"best_score\": \"0.8775572510294355\", \"best_pipeline\": \"VotingEnsemble\", \"automl_best_child_run_id\": \"AutoML_1766ab23-4500-4668-95f2-c4cf355d7b19_9\", \"model_explain_best_run_child_id\": \"AutoML_1766ab23-4500-4668-95f2-c4cf355d7b19_9\"}, \"end_time_utc\": \"2020-11-28T20:55:53.430654Z\", \"status\": \"Completed\", \"log_files\": {}, \"log_groups\": [], \"run_duration\": \"0:04:32\"}, \"child_runs\": [{\"run_id\": \"AutoML_1766ab23-4500-4668-95f2-c4cf355d7b19_0\", \"run_number\": 69, \"metric\": null, \"status\": \"Completed\", \"run_type\": null, \"training_percent\": \"100\", \"start_time\": \"2020-11-28T20:51:52.205953Z\", \"end_time\": \"2020-11-28T20:52:17.435849Z\", \"created_time\": \"2020-11-28T20:51:51.972859Z\", \"created_time_dt\": \"2020-11-28T20:51:51.972859Z\", \"duration\": \"0:00:25\", \"iteration\": \"0\", \"goal\": \"AUC_weighted_max\", \"run_name\": \"MaxAbsScaler, LightGBM\", \"run_properties\": \"copy=True\", \"primary_metric\": 0.8720845, \"best_metric\": 0.8720845}, {\"run_id\": \"AutoML_1766ab23-4500-4668-95f2-c4cf355d7b19_1\", \"run_number\": 70, \"metric\": null, \"status\": \"Completed\", \"run_type\": null, \"training_percent\": \"100\", \"start_time\": \"2020-11-28T20:52:17.923075Z\", \"end_time\": \"2020-11-28T20:52:44.365802Z\", \"created_time\": \"2020-11-28T20:52:17.777472Z\", \"created_time_dt\": \"2020-11-28T20:52:17.777472Z\", \"duration\": \"0:00:26\", \"iteration\": \"1\", \"goal\": \"AUC_weighted_max\", \"run_name\": \"MaxAbsScaler, XGBoostClassifier\", \"run_properties\": \"copy=True\", \"primary_metric\": 0.86291202, \"best_metric\": 0.8720845}, {\"run_id\": \"AutoML_1766ab23-4500-4668-95f2-c4cf355d7b19_2\", \"run_number\": 71, \"metric\": null, \"status\": \"Completed\", \"run_type\": null, \"training_percent\": \"100\", \"start_time\": \"2020-11-28T20:52:45.152132Z\", \"end_time\": \"2020-11-28T20:53:06.774048Z\", \"created_time\": \"2020-11-28T20:52:45.010276Z\", \"created_time_dt\": \"2020-11-28T20:52:45.010276Z\", \"duration\": \"0:00:21\", \"iteration\": \"2\", \"goal\": \"AUC_weighted_max\", \"run_name\": \"MaxAbsScaler, RandomForest\", \"run_properties\": \"copy=True\", \"primary_metric\": 0.82163533, \"best_metric\": 0.8720845}, {\"run_id\": \"AutoML_1766ab23-4500-4668-95f2-c4cf355d7b19_3\", \"run_number\": 72, \"metric\": null, \"status\": \"Completed\", \"run_type\": null, \"training_percent\": \"100\", \"start_time\": \"2020-11-28T20:53:08.275232Z\", \"end_time\": \"2020-11-28T20:53:27.73056Z\", \"created_time\": \"2020-11-28T20:53:08.148376Z\", \"created_time_dt\": \"2020-11-28T20:53:08.148376Z\", \"duration\": \"0:00:19\", \"iteration\": \"3\", \"goal\": \"AUC_weighted_max\", \"run_name\": \"MaxAbsScaler, SGD\", \"run_properties\": \"copy=True\", \"primary_metric\": 0.86927384, \"best_metric\": 0.8720845}, {\"run_id\": \"AutoML_1766ab23-4500-4668-95f2-c4cf355d7b19_4\", \"run_number\": 73, \"metric\": null, \"status\": \"Completed\", \"run_type\": null, \"training_percent\": \"100\", \"start_time\": \"2020-11-28T20:53:35.524753Z\", \"end_time\": \"2020-11-28T20:53:56.559669Z\", \"created_time\": \"2020-11-28T20:53:35.389591Z\", \"created_time_dt\": \"2020-11-28T20:53:35.389591Z\", \"duration\": \"0:00:21\", \"iteration\": \"4\", \"goal\": \"AUC_weighted_max\", \"run_name\": \"MaxAbsScaler, SGD\", \"run_properties\": \"copy=True\", \"primary_metric\": 0.86839234, \"best_metric\": 0.8720845}, {\"run_id\": \"AutoML_1766ab23-4500-4668-95f2-c4cf355d7b19_5\", \"run_number\": 74, \"metric\": null, \"status\": \"Completed\", \"run_type\": null, \"training_percent\": \"100\", \"start_time\": \"2020-11-28T20:53:58.070429Z\", \"end_time\": \"2020-11-28T20:54:19.314893Z\", \"created_time\": \"2020-11-28T20:53:57.940004Z\", \"created_time_dt\": \"2020-11-28T20:53:57.940004Z\", \"duration\": \"0:00:21\", \"iteration\": \"5\", \"goal\": \"AUC_weighted_max\", \"run_name\": \"MaxAbsScaler, ExtremeRandomTrees\", \"run_properties\": \"copy=True\", \"primary_metric\": 0.79751017, \"best_metric\": 0.8720845}, {\"run_id\": \"AutoML_1766ab23-4500-4668-95f2-c4cf355d7b19_6\", \"run_number\": 75, \"metric\": null, \"status\": \"Completed\", \"run_type\": null, \"training_percent\": \"100\", \"start_time\": \"2020-11-28T20:54:20.764458Z\", \"end_time\": \"2020-11-28T20:54:42.050854Z\", \"created_time\": \"2020-11-28T20:54:20.59772Z\", \"created_time_dt\": \"2020-11-28T20:54:20.59772Z\", \"duration\": \"0:00:21\", \"iteration\": \"6\", \"goal\": \"AUC_weighted_max\", \"run_name\": \"MaxAbsScaler, ExtremeRandomTrees\", \"run_properties\": \"copy=True\", \"primary_metric\": 0.78299589, \"best_metric\": 0.8720845}, {\"run_id\": \"AutoML_1766ab23-4500-4668-95f2-c4cf355d7b19_7\", \"run_number\": 76, \"metric\": null, \"status\": \"Completed\", \"run_type\": null, \"training_percent\": \"100\", \"start_time\": \"2020-11-28T20:54:44.545878Z\", \"end_time\": \"2020-11-28T20:55:05.743045Z\", \"created_time\": \"2020-11-28T20:54:44.311715Z\", \"created_time_dt\": \"2020-11-28T20:54:44.311715Z\", \"duration\": \"0:00:21\", \"iteration\": \"7\", \"goal\": \"AUC_weighted_max\", \"run_name\": \"MaxAbsScaler, SGD\", \"run_properties\": \"copy=True\", \"primary_metric\": 0.87000602, \"best_metric\": 0.8720845}, {\"run_id\": \"AutoML_1766ab23-4500-4668-95f2-c4cf355d7b19_8\", \"run_number\": 77, \"metric\": null, \"status\": \"Completed\", \"run_type\": null, \"training_percent\": \"100\", \"start_time\": \"2020-11-28T20:55:07.240234Z\", \"end_time\": \"2020-11-28T20:55:28.759278Z\", \"created_time\": \"2020-11-28T20:55:07.039109Z\", \"created_time_dt\": \"2020-11-28T20:55:07.039109Z\", \"duration\": \"0:00:21\", \"iteration\": \"8\", \"goal\": \"AUC_weighted_max\", \"run_name\": \"MaxAbsScaler, RandomForest\", \"run_properties\": \"copy=True\", \"primary_metric\": 0.81870374, \"best_metric\": 0.8720845}, {\"run_id\": \"AutoML_1766ab23-4500-4668-95f2-c4cf355d7b19_9\", \"run_number\": 78, \"metric\": null, \"status\": \"Completed\", \"run_type\": null, \"training_percent\": \"100\", \"start_time\": \"2020-11-28T20:55:29.28262Z\", \"end_time\": \"2020-11-28T20:55:52.670628Z\", \"created_time\": \"2020-11-28T20:55:29.147985Z\", \"created_time_dt\": \"2020-11-28T20:55:29.147985Z\", \"duration\": \"0:00:23\", \"iteration\": \"9\", \"goal\": \"AUC_weighted_max\", \"run_name\": \"VotingEnsemble\", \"run_properties\": \"classification_labels=None,\\n                              estimators=[('0',\\n                                           Pipeline(memory=None,\\n                                                    steps=[('maxabsscaler',\\n                                                            MaxAbsScaler(copy=True\", \"primary_metric\": 0.87755725, \"best_metric\": 0.87755725}], \"children_metrics\": {\"categories\": [0], \"series\": {\"f1_score_weighted\": [{\"categories\": [\"0\", \"1\", \"2\", \"3\", \"4\", \"5\", \"6\", \"7\", \"8\", \"9\"], \"mode\": \"markers\", \"name\": \"f1_score_weighted\", \"stepped\": false, \"type\": \"scatter\", \"data\": [0.7394816211333143, 0.7185579878708441, 0.6241520834696883, 0.7399128446605833, 0.7401154674094026, 0.6343121820695469, 0.6234650527945693, 0.7244573405539974, 0.589531971405355, 0.7447772502096816]}, {\"categories\": [\"0\", \"1\", \"2\", \"3\", \"4\", \"5\", \"6\", \"7\", \"8\", \"9\"], \"mode\": \"lines\", \"name\": \"f1_score_weighted_max\", \"stepped\": true, \"type\": \"scatter\", \"data\": [0.7394816211333143, 0.7394816211333143, 0.7394816211333143, 0.7399128446605833, 0.7401154674094026, 0.7401154674094026, 0.7401154674094026, 0.7401154674094026, 0.7401154674094026, 0.7447772502096816]}], \"f1_score_macro\": [{\"categories\": [\"0\", \"1\", \"2\", \"3\", \"4\", \"5\", \"6\", \"7\", \"8\", \"9\"], \"mode\": \"markers\", \"name\": \"f1_score_macro\", \"stepped\": false, \"type\": \"scatter\", \"data\": [0.6774373478264085, 0.6354499772938491, 0.4617334945533685, 0.6934743117495625, 0.6844489819076045, 0.47665399203674613, 0.4616414335916746, 0.658035604474565, 0.43125071651762026, 0.6865905114847157]}, {\"categories\": [\"0\", \"1\", \"2\", \"3\", \"4\", \"5\", \"6\", \"7\", \"8\", \"9\"], \"mode\": \"lines\", \"name\": \"f1_score_macro_max\", \"stepped\": true, \"type\": \"scatter\", \"data\": [0.6774373478264085, 0.6774373478264085, 0.6774373478264085, 0.6934743117495625, 0.6934743117495625, 0.6934743117495625, 0.6934743117495625, 0.6934743117495625, 0.6934743117495625, 0.6934743117495625]}], \"matthews_correlation\": [{\"categories\": [\"0\", \"1\", \"2\", \"3\", \"4\", \"5\", \"6\", \"7\", \"8\", \"9\"], \"mode\": \"markers\", \"name\": \"matthews_correlation\", \"stepped\": false, \"type\": \"scatter\", \"data\": [0.5519462285600409, 0.5219517610153013, 0.40125928422522106, 0.5563703872285106, 0.5574869283930395, 0.4087123069484509, 0.3896505587516592, 0.5387329667360732, 0.36441375456640657, 0.5617864259969967]}, {\"categories\": [\"0\", \"1\", \"2\", \"3\", \"4\", \"5\", \"6\", \"7\", \"8\", \"9\"], \"mode\": \"lines\", \"name\": \"matthews_correlation_max\", \"stepped\": true, \"type\": \"scatter\", \"data\": [0.5519462285600409, 0.5519462285600409, 0.5519462285600409, 0.5563703872285106, 0.5574869283930395, 0.5574869283930395, 0.5574869283930395, 0.5574869283930395, 0.5574869283930395, 0.5617864259969967]}], \"recall_score_micro\": [{\"categories\": [\"0\", \"1\", \"2\", \"3\", \"4\", \"5\", \"6\", \"7\", \"8\", \"9\"], \"mode\": \"markers\", \"name\": \"recall_score_micro\", \"stepped\": false, \"type\": \"scatter\", \"data\": [0.7458315981851242, 0.7324226314811251, 0.6725984286300748, 0.7385258698127075, 0.7481523304318329, 0.6711372829555914, 0.6656363057915582, 0.7373234536734827, 0.6493061562627365, 0.7516767720959348]}, {\"categories\": [\"0\", \"1\", \"2\", \"3\", \"4\", \"5\", \"6\", \"7\", \"8\", \"9\"], \"mode\": \"lines\", \"name\": \"recall_score_micro_max\", \"stepped\": true, \"type\": \"scatter\", \"data\": [0.7458315981851242, 0.7458315981851242, 0.7458315981851242, 0.7458315981851242, 0.7481523304318329, 0.7481523304318329, 0.7481523304318329, 0.7481523304318329, 0.7481523304318329, 0.7516767720959348]}], \"average_precision_score_macro\": [{\"categories\": [\"0\", \"1\", \"2\", \"3\", \"4\", \"5\", \"6\", \"7\", \"8\", \"9\"], \"mode\": \"markers\", \"name\": \"average_precision_score_macro\", \"stepped\": false, \"type\": \"scatter\", \"data\": [0.7573606006791102, 0.7385105017753624, 0.6498162638872839, 0.754801165189805, 0.7541915998158283, 0.598057380039484, 0.5662164752206101, 0.7566403967361935, 0.6505294968429194, 0.7695858933483806]}, {\"categories\": [\"0\", \"1\", \"2\", \"3\", \"4\", \"5\", \"6\", \"7\", \"8\", \"9\"], \"mode\": \"lines\", \"name\": \"average_precision_score_macro_max\", \"stepped\": true, \"type\": \"scatter\", \"data\": [0.7573606006791102, 0.7573606006791102, 0.7573606006791102, 0.7573606006791102, 0.7573606006791102, 0.7573606006791102, 0.7573606006791102, 0.7573606006791102, 0.7573606006791102, 0.7695858933483806]}], \"precision_score_micro\": [{\"categories\": [\"0\", \"1\", \"2\", \"3\", \"4\", \"5\", \"6\", \"7\", \"8\", \"9\"], \"mode\": \"markers\", \"name\": \"precision_score_micro\", \"stepped\": false, \"type\": \"scatter\", \"data\": [0.7458315981851242, 0.7324226314811251, 0.6725984286300748, 0.7385258698127075, 0.7481523304318329, 0.6711372829555914, 0.6656363057915582, 0.7373234536734827, 0.6493061562627365, 0.7516767720959348]}, {\"categories\": [\"0\", \"1\", \"2\", \"3\", \"4\", \"5\", \"6\", \"7\", \"8\", \"9\"], \"mode\": \"lines\", \"name\": \"precision_score_micro_max\", \"stepped\": true, \"type\": \"scatter\", \"data\": [0.7458315981851242, 0.7458315981851242, 0.7458315981851242, 0.7458315981851242, 0.7481523304318329, 0.7481523304318329, 0.7481523304318329, 0.7481523304318329, 0.7481523304318329, 0.7516767720959348]}], \"AUC_weighted\": [{\"categories\": [\"0\", \"1\", \"2\", \"3\", \"4\", \"5\", \"6\", \"7\", \"8\", \"9\"], \"mode\": \"markers\", \"name\": \"AUC_weighted\", \"stepped\": false, \"type\": \"scatter\", \"data\": [0.8720845038093092, 0.8629120151294252, 0.8216353340583729, 0.8692738397232969, 0.8683923358737111, 0.7975101692717071, 0.7829958886306037, 0.8700060160162802, 0.8187037430485123, 0.8775572510294355]}, {\"categories\": [\"0\", \"1\", \"2\", \"3\", \"4\", \"5\", \"6\", \"7\", \"8\", \"9\"], \"mode\": \"lines\", \"name\": \"AUC_weighted_max\", \"stepped\": true, \"type\": \"scatter\", \"data\": [0.8720845038093092, 0.8720845038093092, 0.8720845038093092, 0.8720845038093092, 0.8720845038093092, 0.8720845038093092, 0.8720845038093092, 0.8720845038093092, 0.8720845038093092, 0.8775572510294355]}], \"balanced_accuracy\": [{\"categories\": [\"0\", \"1\", \"2\", \"3\", \"4\", \"5\", \"6\", \"7\", \"8\", \"9\"], \"mode\": \"markers\", \"name\": \"balanced_accuracy\", \"stepped\": false, \"type\": \"scatter\", \"data\": [0.657511382325817, 0.6123198939976296, 0.48783907836489304, 0.7016736349118684, 0.663721841155717, 0.5040619442385801, 0.4907413414119658, 0.6408314893926171, 0.45761509669122047, 0.6647108348052492]}, {\"categories\": [\"0\", \"1\", \"2\", \"3\", \"4\", \"5\", \"6\", \"7\", \"8\", \"9\"], \"mode\": \"lines\", \"name\": \"balanced_accuracy_max\", \"stepped\": true, \"type\": \"scatter\", \"data\": [0.657511382325817, 0.657511382325817, 0.657511382325817, 0.7016736349118684, 0.7016736349118684, 0.7016736349118684, 0.7016736349118684, 0.7016736349118684, 0.7016736349118684, 0.7016736349118684]}], \"precision_score_macro\": [{\"categories\": [\"0\", \"1\", \"2\", \"3\", \"4\", \"5\", \"6\", \"7\", \"8\", \"9\"], \"mode\": \"markers\", \"name\": \"precision_score_macro\", \"stepped\": false, \"type\": \"scatter\", \"data\": [0.7160522420925407, 0.7219594651725193, 0.5153374188788045, 0.6918955470891215, 0.7294234664435628, 0.48844751590249125, 0.43646580506398613, 0.7248397308080661, 0.45619667399234365, 0.7294028566975033]}, {\"categories\": [\"0\", \"1\", \"2\", \"3\", \"4\", \"5\", \"6\", \"7\", \"8\", \"9\"], \"mode\": \"lines\", \"name\": \"precision_score_macro_max\", \"stepped\": true, \"type\": \"scatter\", \"data\": [0.7160522420925407, 0.7219594651725193, 0.7219594651725193, 0.7219594651725193, 0.7294234664435628, 0.7294234664435628, 0.7294234664435628, 0.7294234664435628, 0.7294234664435628, 0.7294234664435628]}], \"recall_score_macro\": [{\"categories\": [\"0\", \"1\", \"2\", \"3\", \"4\", \"5\", \"6\", \"7\", \"8\", \"9\"], \"mode\": \"markers\", \"name\": \"recall_score_macro\", \"stepped\": false, \"type\": \"scatter\", \"data\": [0.657511382325817, 0.6123198939976296, 0.48783907836489304, 0.7016736349118684, 0.663721841155717, 0.5040619442385801, 0.4907413414119658, 0.6408314893926171, 0.45761509669122047, 0.6647108348052492]}, {\"categories\": [\"0\", \"1\", \"2\", \"3\", \"4\", \"5\", \"6\", \"7\", \"8\", \"9\"], \"mode\": \"lines\", \"name\": \"recall_score_macro_max\", \"stepped\": true, \"type\": \"scatter\", \"data\": [0.657511382325817, 0.657511382325817, 0.657511382325817, 0.7016736349118684, 0.7016736349118684, 0.7016736349118684, 0.7016736349118684, 0.7016736349118684, 0.7016736349118684, 0.7016736349118684]}], \"precision_score_weighted\": [{\"categories\": [\"0\", \"1\", \"2\", \"3\", \"4\", \"5\", \"6\", \"7\", \"8\", \"9\"], \"mode\": \"markers\", \"name\": \"precision_score_weighted\", \"stepped\": false, \"type\": \"scatter\", \"data\": [0.740871101103272, 0.7296744771072914, 0.6187217829590225, 0.7449773200277164, 0.7480652227666131, 0.6142640436328645, 0.5871522221536616, 0.7414353513822215, 0.5961393584050764, 0.7479405114928387]}, {\"categories\": [\"0\", \"1\", \"2\", \"3\", \"4\", \"5\", \"6\", \"7\", \"8\", \"9\"], \"mode\": \"lines\", \"name\": \"precision_score_weighted_max\", \"stepped\": true, \"type\": \"scatter\", \"data\": [0.740871101103272, 0.740871101103272, 0.740871101103272, 0.7449773200277164, 0.7480652227666131, 0.7480652227666131, 0.7480652227666131, 0.7480652227666131, 0.7480652227666131, 0.7480652227666131]}], \"norm_macro_recall\": [{\"categories\": [\"0\", \"1\", \"2\", \"3\", \"4\", \"5\", \"6\", \"7\", \"8\", \"9\"], \"mode\": \"markers\", \"name\": \"norm_macro_recall\", \"stepped\": false, \"type\": \"scatter\", \"data\": [0.4862670734887254, 0.41847984099644453, 0.23175861754733953, 0.5525104523678025, 0.4955827617335754, 0.2560929163578701, 0.2361120121179486, 0.46124723408892565, 0.18642264503683065, 0.4970662522078738]}, {\"categories\": [\"0\", \"1\", \"2\", \"3\", \"4\", \"5\", \"6\", \"7\", \"8\", \"9\"], \"mode\": \"lines\", \"name\": \"norm_macro_recall_max\", \"stepped\": true, \"type\": \"scatter\", \"data\": [0.4862670734887254, 0.4862670734887254, 0.4862670734887254, 0.5525104523678025, 0.5525104523678025, 0.5525104523678025, 0.5525104523678025, 0.5525104523678025, 0.5525104523678025, 0.5525104523678025]}], \"f1_score_micro\": [{\"categories\": [\"0\", \"1\", \"2\", \"3\", \"4\", \"5\", \"6\", \"7\", \"8\", \"9\"], \"mode\": \"markers\", \"name\": \"f1_score_micro\", \"stepped\": false, \"type\": \"scatter\", \"data\": [0.7458315981851242, 0.7324226314811251, 0.6725984286300748, 0.7385258698127075, 0.7481523304318329, 0.6711372829555914, 0.6656363057915582, 0.7373234536734827, 0.6493061562627365, 0.7516767720959348]}, {\"categories\": [\"0\", \"1\", \"2\", \"3\", \"4\", \"5\", \"6\", \"7\", \"8\", \"9\"], \"mode\": \"lines\", \"name\": \"f1_score_micro_max\", \"stepped\": true, \"type\": \"scatter\", \"data\": [0.7458315981851242, 0.7458315981851242, 0.7458315981851242, 0.7458315981851242, 0.7481523304318329, 0.7481523304318329, 0.7481523304318329, 0.7481523304318329, 0.7481523304318329, 0.7516767720959348]}], \"accuracy\": [{\"categories\": [\"0\", \"1\", \"2\", \"3\", \"4\", \"5\", \"6\", \"7\", \"8\", \"9\"], \"mode\": \"markers\", \"name\": \"accuracy\", \"stepped\": false, \"type\": \"scatter\", \"data\": [0.7458315981851242, 0.7324226314811251, 0.6725984286300748, 0.7385258698127075, 0.7481523304318329, 0.6711372829555914, 0.6656363057915582, 0.7373234536734827, 0.6493061562627365, 0.7516767720959348]}, {\"categories\": [\"0\", \"1\", \"2\", \"3\", \"4\", \"5\", \"6\", \"7\", \"8\", \"9\"], \"mode\": \"lines\", \"name\": \"accuracy_max\", \"stepped\": true, \"type\": \"scatter\", \"data\": [0.7458315981851242, 0.7458315981851242, 0.7458315981851242, 0.7458315981851242, 0.7481523304318329, 0.7481523304318329, 0.7481523304318329, 0.7481523304318329, 0.7481523304318329, 0.7516767720959348]}], \"AUC_macro\": [{\"categories\": [\"0\", \"1\", \"2\", \"3\", \"4\", \"5\", \"6\", \"7\", \"8\", \"9\"], \"mode\": \"markers\", \"name\": \"AUC_macro\", \"stepped\": false, \"type\": \"scatter\", \"data\": [0.876744129885618, 0.865724133573807, 0.8179740341748973, 0.8756941111755076, 0.8716488536420934, 0.7834720779837637, 0.7605205308619188, 0.8763389117390655, 0.8174847289587381, 0.8829318852482348]}, {\"categories\": [\"0\", \"1\", \"2\", \"3\", \"4\", \"5\", \"6\", \"7\", \"8\", \"9\"], \"mode\": \"lines\", \"name\": \"AUC_macro_max\", \"stepped\": true, \"type\": \"scatter\", \"data\": [0.876744129885618, 0.876744129885618, 0.876744129885618, 0.876744129885618, 0.876744129885618, 0.876744129885618, 0.876744129885618, 0.876744129885618, 0.876744129885618, 0.8829318852482348]}], \"average_precision_score_micro\": [{\"categories\": [\"0\", \"1\", \"2\", \"3\", \"4\", \"5\", \"6\", \"7\", \"8\", \"9\"], \"mode\": \"markers\", \"name\": \"average_precision_score_micro\", \"stepped\": false, \"type\": \"scatter\", \"data\": [0.8268966015898915, 0.8124923865610807, 0.7404787750826384, 0.812049866356495, 0.8133589189253932, 0.7326756066769139, 0.7153185091056885, 0.8102253261779426, 0.7204703915417293, 0.8314633741843664]}, {\"categories\": [\"0\", \"1\", \"2\", \"3\", \"4\", \"5\", \"6\", \"7\", \"8\", \"9\"], \"mode\": \"lines\", \"name\": \"average_precision_score_micro_max\", \"stepped\": true, \"type\": \"scatter\", \"data\": [0.8268966015898915, 0.8268966015898915, 0.8268966015898915, 0.8268966015898915, 0.8268966015898915, 0.8268966015898915, 0.8268966015898915, 0.8268966015898915, 0.8268966015898915, 0.8314633741843664]}], \"average_precision_score_weighted\": [{\"categories\": [\"0\", \"1\", \"2\", \"3\", \"4\", \"5\", \"6\", \"7\", \"8\", \"9\"], \"mode\": \"markers\", \"name\": \"average_precision_score_weighted\", \"stepped\": false, \"type\": \"scatter\", \"data\": [0.8169914871510571, 0.803277966244288, 0.7409427857554199, 0.8099529688071982, 0.8093828275937053, 0.7074274716979999, 0.6835264631718021, 0.8116495866340667, 0.7388742332930172, 0.8240378775437387]}, {\"categories\": [\"0\", \"1\", \"2\", \"3\", \"4\", \"5\", \"6\", \"7\", \"8\", \"9\"], \"mode\": \"lines\", \"name\": \"average_precision_score_weighted_max\", \"stepped\": true, \"type\": \"scatter\", \"data\": [0.8169914871510571, 0.8169914871510571, 0.8169914871510571, 0.8169914871510571, 0.8169914871510571, 0.8169914871510571, 0.8169914871510571, 0.8169914871510571, 0.8169914871510571, 0.8240378775437387]}], \"AUC_micro\": [{\"categories\": [\"0\", \"1\", \"2\", \"3\", \"4\", \"5\", \"6\", \"7\", \"8\", \"9\"], \"mode\": \"markers\", \"name\": \"AUC_micro\", \"stepped\": false, \"type\": \"scatter\", \"data\": [0.9005222954700548, 0.8920800656375446, 0.8397837866129765, 0.8921001535993753, 0.8946103065169565, 0.8405078706326066, 0.8301777593382338, 0.8924552989865763, 0.8259971019376428, 0.9043359985156428]}, {\"categories\": [\"0\", \"1\", \"2\", \"3\", \"4\", \"5\", \"6\", \"7\", \"8\", \"9\"], \"mode\": \"lines\", \"name\": \"AUC_micro_max\", \"stepped\": true, \"type\": \"scatter\", \"data\": [0.9005222954700548, 0.9005222954700548, 0.9005222954700548, 0.9005222954700548, 0.9005222954700548, 0.9005222954700548, 0.9005222954700548, 0.9005222954700548, 0.9005222954700548, 0.9043359985156428]}], \"weighted_accuracy\": [{\"categories\": [\"0\", \"1\", \"2\", \"3\", \"4\", \"5\", \"6\", \"7\", \"8\", \"9\"], \"mode\": \"markers\", \"name\": \"weighted_accuracy\", \"stepped\": false, \"type\": \"scatter\", \"data\": [0.7874429960937052, 0.7879533235516053, 0.7622969544417552, 0.7573963279756227, 0.7934560021512432, 0.7398616387499446, 0.7431525836897094, 0.7894016475888582, 0.7534227530693693, 0.7947083791333165]}, {\"categories\": [\"0\", \"1\", \"2\", \"3\", \"4\", \"5\", \"6\", \"7\", \"8\", \"9\"], \"mode\": \"lines\", \"name\": \"weighted_accuracy_max\", \"stepped\": true, \"type\": \"scatter\", \"data\": [0.7874429960937052, 0.7879533235516053, 0.7879533235516053, 0.7879533235516053, 0.7934560021512432, 0.7934560021512432, 0.7934560021512432, 0.7934560021512432, 0.7934560021512432, 0.7947083791333165]}], \"log_loss\": [{\"categories\": [\"0\", \"1\", \"2\", \"3\", \"4\", \"5\", \"6\", \"7\", \"8\", \"9\"], \"mode\": \"markers\", \"name\": \"log_loss\", \"stepped\": false, \"type\": \"scatter\", \"data\": [0.6047788985719112, 0.6388671586546328, 0.791054642033264, 0.6337962970212894, 1.3977519747454263, 0.764850089923699, 0.7894766279166128, 0.6334240487729823, 0.8297664461170571, 0.5947824462488391]}, {\"categories\": [\"0\", \"1\", \"2\", \"3\", \"4\", \"5\", \"6\", \"7\", \"8\", \"9\"], \"mode\": \"lines\", \"name\": \"log_loss_min\", \"stepped\": true, \"type\": \"scatter\", \"data\": [0.6047788985719112, 0.6047788985719112, 0.6047788985719112, 0.6047788985719112, 0.6047788985719112, 0.6047788985719112, 0.6047788985719112, 0.6047788985719112, 0.6047788985719112, 0.5947824462488391]}], \"recall_score_weighted\": [{\"categories\": [\"0\", \"1\", \"2\", \"3\", \"4\", \"5\", \"6\", \"7\", \"8\", \"9\"], \"mode\": \"markers\", \"name\": \"recall_score_weighted\", \"stepped\": false, \"type\": \"scatter\", \"data\": [0.7458315981851242, 0.7324226314811251, 0.6725984286300748, 0.7385258698127075, 0.7481523304318329, 0.6711372829555914, 0.6656363057915582, 0.7373234536734827, 0.6493061562627365, 0.7516767720959348]}, {\"categories\": [\"0\", \"1\", \"2\", \"3\", \"4\", \"5\", \"6\", \"7\", \"8\", \"9\"], \"mode\": \"lines\", \"name\": \"recall_score_weighted_max\", \"stepped\": true, \"type\": \"scatter\", \"data\": [0.7458315981851242, 0.7458315981851242, 0.7458315981851242, 0.7458315981851242, 0.7481523304318329, 0.7481523304318329, 0.7481523304318329, 0.7481523304318329, 0.7481523304318329, 0.7516767720959348]}]}, \"metricName\": null, \"primaryMetricName\": \"AUC_weighted\", \"showLegend\": false}, \"run_metrics\": [{\"name\": \"experiment_status\", \"run_id\": \"AutoML_1766ab23-4500-4668-95f2-c4cf355d7b19\", \"categories\": [0, 1, 2, 3, 4, 5, 6, 7, 8, 9, 10, 11], \"series\": [{\"data\": [\"DatasetEvaluation\", \"FeaturesGeneration\", \"DatasetFeaturization\", \"DatasetFeaturizationCompleted\", \"DatasetCrossValidationSplit\", \"ModelSelection\", \"BestRunExplainModel\", \"ModelExplanationDataSetSetup\", \"PickSurrogateModel\", \"EngineeredFeatureExplanations\", \"EngineeredFeatureExplanations\", \"BestRunExplainModel\"]}]}, {\"name\": \"experiment_status_description\", \"run_id\": \"AutoML_1766ab23-4500-4668-95f2-c4cf355d7b19\", \"categories\": [0, 1, 2, 3, 4, 5, 6, 7, 8, 9, 10, 11], \"series\": [{\"data\": [\"Gathering dataset statistics.\", \"Generating features for the dataset.\", \"Beginning to fit featurizers and featurize the dataset.\", \"Completed fit featurizers and featurizing the dataset.\", \"Generating individually featurized CV splits.\", \"Beginning model selection.\", \"Best run model explanations started\", \"Model explanations data setup completed\", \"Choosing LightGBM as the surrogate model for explanations\", \"Computation of engineered features started\", \"Computation of engineered features completed\", \"Best run model explanations completed\"]}]}, {\"name\": \"f1_score_weighted\", \"run_id\": \"AutoML_1766ab23-4500-4668-95f2-c4cf355d7b19\", \"categories\": [0], \"series\": [{\"data\": [0.7447772502096816]}]}, {\"name\": \"f1_score_macro\", \"run_id\": \"AutoML_1766ab23-4500-4668-95f2-c4cf355d7b19\", \"categories\": [0], \"series\": [{\"data\": [0.6865905114847157]}]}, {\"name\": \"matthews_correlation\", \"run_id\": \"AutoML_1766ab23-4500-4668-95f2-c4cf355d7b19\", \"categories\": [0], \"series\": [{\"data\": [0.5617864259969967]}]}, {\"name\": \"recall_score_micro\", \"run_id\": \"AutoML_1766ab23-4500-4668-95f2-c4cf355d7b19\", \"categories\": [0], \"series\": [{\"data\": [0.7516767720959348]}]}, {\"name\": \"average_precision_score_macro\", \"run_id\": \"AutoML_1766ab23-4500-4668-95f2-c4cf355d7b19\", \"categories\": [0], \"series\": [{\"data\": [0.7695858933483806]}]}, {\"name\": \"precision_score_micro\", \"run_id\": \"AutoML_1766ab23-4500-4668-95f2-c4cf355d7b19\", \"categories\": [0], \"series\": [{\"data\": [0.7516767720959348]}]}, {\"name\": \"AUC_weighted\", \"run_id\": \"AutoML_1766ab23-4500-4668-95f2-c4cf355d7b19\", \"categories\": [0], \"series\": [{\"data\": [0.8775572510294355]}]}, {\"name\": \"balanced_accuracy\", \"run_id\": \"AutoML_1766ab23-4500-4668-95f2-c4cf355d7b19\", \"categories\": [0], \"series\": [{\"data\": [0.6647108348052492]}]}, {\"name\": \"precision_score_macro\", \"run_id\": \"AutoML_1766ab23-4500-4668-95f2-c4cf355d7b19\", \"categories\": [0], \"series\": [{\"data\": [0.7294028566975033]}]}, {\"name\": \"recall_score_macro\", \"run_id\": \"AutoML_1766ab23-4500-4668-95f2-c4cf355d7b19\", \"categories\": [0], \"series\": [{\"data\": [0.6647108348052492]}]}, {\"name\": \"precision_score_weighted\", \"run_id\": \"AutoML_1766ab23-4500-4668-95f2-c4cf355d7b19\", \"categories\": [0], \"series\": [{\"data\": [0.7479405114928387]}]}, {\"name\": \"norm_macro_recall\", \"run_id\": \"AutoML_1766ab23-4500-4668-95f2-c4cf355d7b19\", \"categories\": [0], \"series\": [{\"data\": [0.4970662522078738]}]}, {\"name\": \"f1_score_micro\", \"run_id\": \"AutoML_1766ab23-4500-4668-95f2-c4cf355d7b19\", \"categories\": [0], \"series\": [{\"data\": [0.7516767720959348]}]}, {\"name\": \"accuracy\", \"run_id\": \"AutoML_1766ab23-4500-4668-95f2-c4cf355d7b19\", \"categories\": [0], \"series\": [{\"data\": [0.7516767720959348]}]}, {\"name\": \"AUC_macro\", \"run_id\": \"AutoML_1766ab23-4500-4668-95f2-c4cf355d7b19\", \"categories\": [0], \"series\": [{\"data\": [0.8829318852482348]}]}, {\"name\": \"average_precision_score_micro\", \"run_id\": \"AutoML_1766ab23-4500-4668-95f2-c4cf355d7b19\", \"categories\": [0], \"series\": [{\"data\": [0.8314633741843664]}]}, {\"name\": \"average_precision_score_weighted\", \"run_id\": \"AutoML_1766ab23-4500-4668-95f2-c4cf355d7b19\", \"categories\": [0], \"series\": [{\"data\": [0.8240378775437387]}]}, {\"name\": \"AUC_micro\", \"run_id\": \"AutoML_1766ab23-4500-4668-95f2-c4cf355d7b19\", \"categories\": [0], \"series\": [{\"data\": [0.9043359985156428]}]}, {\"name\": \"weighted_accuracy\", \"run_id\": \"AutoML_1766ab23-4500-4668-95f2-c4cf355d7b19\", \"categories\": [0], \"series\": [{\"data\": [0.7947083791333165]}]}, {\"name\": \"log_loss\", \"run_id\": \"AutoML_1766ab23-4500-4668-95f2-c4cf355d7b19\", \"categories\": [0], \"series\": [{\"data\": [0.5947824462488391]}]}, {\"name\": \"recall_score_weighted\", \"run_id\": \"AutoML_1766ab23-4500-4668-95f2-c4cf355d7b19\", \"categories\": [0], \"series\": [{\"data\": [0.7516767720959348]}]}], \"run_logs\": \"\\nRun is completed.\", \"graph\": {}, \"widget_settings\": {\"childWidgetDisplay\": \"popup\", \"send_telemetry\": false, \"log_level\": \"INFO\", \"sdk_version\": \"1.17.0\"}, \"loading\": false}"
     },
     "metadata": {},
     "output_type": "display_data"
    },
    {
     "data": {
      "text/plain": [
       "{'runId': 'AutoML_1766ab23-4500-4668-95f2-c4cf355d7b19',\n",
       " 'target': 'local',\n",
       " 'status': 'Completed',\n",
       " 'startTimeUtc': '2020-11-28T20:51:21.027136Z',\n",
       " 'endTimeUtc': '2020-11-28T20:55:53.430654Z',\n",
       " 'properties': {'num_iterations': '10',\n",
       "  'training_type': 'TrainFull',\n",
       "  'acquisition_function': 'EI',\n",
       "  'primary_metric': 'AUC_weighted',\n",
       "  'train_split': '0',\n",
       "  'acquisition_parameter': '0',\n",
       "  'num_cross_validation': '5',\n",
       "  'target': 'local',\n",
       "  'AMLSettingsJsonString': '{\"path\":null,\"name\":\"automl-classification-synthetic-health-data\",\"subscription_id\":\"43c1f93a-903d-4b23-a4bf-92bd7a150627\",\"resource_group\":\"myResourceGroup02\",\"workspace_name\":\"machine_learning_workspace02\",\"region\":\"westeurope\",\"compute_target\":\"local\",\"spark_service\":null,\"azure_service\":\"remote\",\"_local_managed_run_id\":null,\"many_models\":false,\"pipeline_fetch_max_batch_size\":1,\"iterations\":10,\"primary_metric\":\"AUC_weighted\",\"task_type\":\"classification\",\"data_script\":null,\"validation_size\":0.0,\"n_cross_validations\":5,\"y_min\":null,\"y_max\":null,\"num_classes\":3,\"featurization\":\"auto\",\"_ignore_package_version_incompatibilities\":false,\"is_timeseries\":false,\"max_cores_per_iteration\":-1,\"max_concurrent_iterations\":1,\"iteration_timeout_minutes\":5,\"mem_in_mb\":null,\"enforce_time_on_windows\":false,\"experiment_timeout_minutes\":30,\"experiment_exit_score\":null,\"whitelist_models\":null,\"blacklist_algos\":[\"TensorFlowLinearClassifier\",\"TensorFlowDNN\"],\"supported_models\":[\"ExtremeRandomTrees\",\"BernoulliNaiveBayes\",\"LightGBM\",\"XGBoostClassifier\",\"DecisionTree\",\"RandomForest\",\"SGD\",\"AveragedPerceptronClassifier\",\"TensorFlowLinearClassifier\",\"TensorFlowDNN\",\"LogisticRegression\",\"LinearSVM\",\"GradientBoosting\",\"MultinomialNaiveBayes\",\"SVM\",\"KNN\"],\"auto_blacklist\":true,\"blacklist_samples_reached\":false,\"exclude_nan_labels\":true,\"verbosity\":20,\"_debug_log\":\"automl_errors.log\",\"show_warnings\":false,\"model_explainability\":true,\"service_url\":null,\"sdk_url\":null,\"sdk_packages\":null,\"enable_onnx_compatible_models\":true,\"enable_split_onnx_featurizer_estimator_models\":false,\"vm_type\":null,\"telemetry_verbosity\":20,\"send_telemetry\":true,\"enable_dnn\":false,\"force_text_dnn\":false,\"enable_feature_sweeping\":false,\"enable_early_stopping\":true,\"early_stopping_n_iters\":10,\"metrics\":null,\"enable_ensembling\":true,\"enable_stack_ensembling\":false,\"ensemble_iterations\":10,\"enable_tf\":false,\"enable_subsampling\":false,\"subsample_seed\":null,\"enable_nimbusml\":false,\"enable_streaming\":false,\"force_streaming\":false,\"track_child_runs\":true,\"allowed_private_models\":[],\"label_column_name\":\"readmitted\",\"weight_column_name\":null,\"cv_split_column_names\":null,\"enable_local_managed\":false,\"cost_mode\":1,\"lag_length\":0,\"metric_operation\":\"maximize\",\"preprocess\":true,\"scenario\":\"SDK-1.13.0\"}',\n",
       "  'DataPrepJsonString': '{\\\\\"training_data\\\\\": \\\\\"{\\\\\\\\\\\\\"blocks\\\\\\\\\\\\\": [{\\\\\\\\\\\\\"id\\\\\\\\\\\\\": \\\\\\\\\\\\\"b3d7ce4e-900f-49c6-8070-b9382b46f3c4\\\\\\\\\\\\\", \\\\\\\\\\\\\"type\\\\\\\\\\\\\": \\\\\\\\\\\\\"Microsoft.DPrep.GetDatastoreFilesBlock\\\\\\\\\\\\\", \\\\\\\\\\\\\"arguments\\\\\\\\\\\\\": {\\\\\\\\\\\\\"datastores\\\\\\\\\\\\\": [{\\\\\\\\\\\\\"datastoreName\\\\\\\\\\\\\": \\\\\\\\\\\\\"datalakestoragegen2\\\\\\\\\\\\\", \\\\\\\\\\\\\"path\\\\\\\\\\\\\": \\\\\\\\\\\\\"silver/synthetic_data_processed_remove_hba1c.parquet\\\\\\\\\\\\\", \\\\\\\\\\\\\"resourceGroup\\\\\\\\\\\\\": \\\\\\\\\\\\\"myResourceGroup02\\\\\\\\\\\\\", \\\\\\\\\\\\\"subscription\\\\\\\\\\\\\": \\\\\\\\\\\\\"43c1f93a-903d-4b23-a4bf-92bd7a150627\\\\\\\\\\\\\", \\\\\\\\\\\\\"workspaceName\\\\\\\\\\\\\": \\\\\\\\\\\\\"machine_learning_workspace02\\\\\\\\\\\\\"}]}, \\\\\\\\\\\\\"localData\\\\\\\\\\\\\": {}, \\\\\\\\\\\\\"isEnabled\\\\\\\\\\\\\": true, \\\\\\\\\\\\\"name\\\\\\\\\\\\\": null, \\\\\\\\\\\\\"annotation\\\\\\\\\\\\\": null}, {\\\\\\\\\\\\\"id\\\\\\\\\\\\\": \\\\\\\\\\\\\"bb0991a7-595c-40f7-9024-4c4654f2de0d\\\\\\\\\\\\\", \\\\\\\\\\\\\"type\\\\\\\\\\\\\": \\\\\\\\\\\\\"Microsoft.DPrep.ReadParquetFileBlock\\\\\\\\\\\\\", \\\\\\\\\\\\\"arguments\\\\\\\\\\\\\": {\\\\\\\\\\\\\"preview\\\\\\\\\\\\\": false}, \\\\\\\\\\\\\"localData\\\\\\\\\\\\\": {}, \\\\\\\\\\\\\"isEnabled\\\\\\\\\\\\\": true, \\\\\\\\\\\\\"name\\\\\\\\\\\\\": null, \\\\\\\\\\\\\"annotation\\\\\\\\\\\\\": null}, {\\\\\\\\\\\\\"id\\\\\\\\\\\\\": \\\\\\\\\\\\\"9093643f-38fb-46b9-aa23-f7840a153d22\\\\\\\\\\\\\", \\\\\\\\\\\\\"type\\\\\\\\\\\\\": \\\\\\\\\\\\\"Microsoft.DPrep.DropColumnsBlock\\\\\\\\\\\\\", \\\\\\\\\\\\\"arguments\\\\\\\\\\\\\": {\\\\\\\\\\\\\"columns\\\\\\\\\\\\\": {\\\\\\\\\\\\\"type\\\\\\\\\\\\\": 0, \\\\\\\\\\\\\"details\\\\\\\\\\\\\": {\\\\\\\\\\\\\"selectedColumns\\\\\\\\\\\\\": [\\\\\\\\\\\\\"Path\\\\\\\\\\\\\"]}}}, \\\\\\\\\\\\\"localData\\\\\\\\\\\\\": {}, \\\\\\\\\\\\\"isEnabled\\\\\\\\\\\\\": true, \\\\\\\\\\\\\"name\\\\\\\\\\\\\": null, \\\\\\\\\\\\\"annotation\\\\\\\\\\\\\": null}], \\\\\\\\\\\\\"inspectors\\\\\\\\\\\\\": [], \\\\\\\\\\\\\"meta\\\\\\\\\\\\\": {\\\\\\\\\\\\\"savedDatasetId\\\\\\\\\\\\\": \\\\\\\\\\\\\"6e33ba9c-36bd-4410-be8d-fe7e62d99c3b\\\\\\\\\\\\\", \\\\\\\\\\\\\"datasetType\\\\\\\\\\\\\": \\\\\\\\\\\\\"tabular\\\\\\\\\\\\\", \\\\\\\\\\\\\"subscriptionId\\\\\\\\\\\\\": \\\\\\\\\\\\\"43c1f93a-903d-4b23-a4bf-92bd7a150627\\\\\\\\\\\\\", \\\\\\\\\\\\\"workspaceId\\\\\\\\\\\\\": \\\\\\\\\\\\\"9835fb79-8b03-46ca-ba4b-b8cd0d3e846a\\\\\\\\\\\\\", \\\\\\\\\\\\\"workspaceLocation\\\\\\\\\\\\\": \\\\\\\\\\\\\"westeurope\\\\\\\\\\\\\"}}\\\\\", \\\\\"activities\\\\\": 0}',\n",
       "  'EnableSubsampling': 'False',\n",
       "  'runTemplate': 'AutoML',\n",
       "  'azureml.runsource': 'automl',\n",
       "  'display_task_type': 'classification',\n",
       "  'dependencies_versions': '{\"azureml-widgets\": \"1.17.0\", \"azureml-train\": \"1.17.0\", \"azureml-train-restclients-hyperdrive\": \"1.17.0\", \"azureml-train-core\": \"1.17.0\", \"azureml-train-automl\": \"1.17.0\", \"azureml-train-automl-runtime\": \"1.17.0\", \"azureml-train-automl-client\": \"1.17.0\", \"azureml-tensorboard\": \"1.17.0\", \"azureml-telemetry\": \"1.17.0\", \"azureml-sdk\": \"1.17.0\", \"azureml-pipeline\": \"1.17.0\", \"azureml-pipeline-steps\": \"1.17.0\", \"azureml-pipeline-core\": \"1.17.0\", \"azureml-opendatasets\": \"1.17.0\", \"azureml-model-management-sdk\": \"1.0.1b6.post1\", \"azureml-mlflow\": \"1.17.0.post1\", \"azureml-interpret\": \"1.17.0\", \"azureml-explain-model\": \"1.17.0\", \"azureml-defaults\": \"1.17.0\", \"azureml-dataset-runtime\": \"1.17.0\", \"azureml-dataprep\": \"2.4.2\", \"azureml-dataprep-rslex\": \"1.2.2\", \"azureml-dataprep-native\": \"24.0.0\", \"azureml-datadrift\": \"1.17.0\", \"azureml-core\": \"1.17.0\", \"azureml-contrib-services\": \"1.17.0\", \"azureml-contrib-server\": \"1.17.0\", \"azureml-contrib-reinforcementlearning\": \"1.17.0\", \"azureml-contrib-pipeline-steps\": \"1.17.0\", \"azureml-contrib-notebook\": \"1.17.0\", \"azureml-contrib-interpret\": \"1.17.0\", \"azureml-contrib-gbdt\": \"1.17.0\", \"azureml-contrib-fairness\": \"1.17.0\", \"azureml-contrib-dataset\": \"1.17.0\", \"azureml-cli-common\": \"1.17.0\", \"azureml-automl-runtime\": \"1.17.0\", \"azureml-automl-core\": \"1.17.0\", \"azureml-accel-models\": \"1.17.0\"}',\n",
       "  '_aml_system_scenario_identification': 'Local.Parent',\n",
       "  'ClientSdkVersion': '1.17.0',\n",
       "  'ClientType': 'SDK',\n",
       "  'environment_cpu_name': 'AzureML-AutoML',\n",
       "  'environment_cpu_version': '44',\n",
       "  'environment_gpu_name': 'AzureML-AutoML-GPU',\n",
       "  'environment_gpu_version': '32',\n",
       "  'root_attribution': 'automl',\n",
       "  'attribution': 'AutoML',\n",
       "  'Orchestrator': 'AutoML',\n",
       "  '_azureml.ComputeTargetType': 'local',\n",
       "  'ProblemInfoJsonString': '{\"dataset_num_categorical\": 0, \"is_sparse\": true, \"subsampling\": false, \"dataset_classes\": 3, \"dataset_features\": 257, \"dataset_samples\": 11634, \"single_frequency_class_detected\": false}',\n",
       "  'feature_skus': 'automatedml_sdk_guardrails',\n",
       "  'azureml.git.repository_uri': 'https://github.com/albert-kevin/SyntheticHealthData2020.git',\n",
       "  'mlflow.source.git.repoURL': 'https://github.com/albert-kevin/SyntheticHealthData2020.git',\n",
       "  'azureml.git.branch': 'main',\n",
       "  'mlflow.source.git.branch': 'main',\n",
       "  'azureml.git.commit': '6f659dc0a29be61dbdb5a6c47691657974f0c5d5',\n",
       "  'mlflow.source.git.commit': '6f659dc0a29be61dbdb5a6c47691657974f0c5d5',\n",
       "  'azureml.git.dirty': 'True'},\n",
       " 'inputDatasets': [{'dataset': {'id': '6e33ba9c-36bd-4410-be8d-fe7e62d99c3b'}, 'consumptionDetails': {'type': 'RunInput', 'inputName': 'training_data', 'mechanism': 'Direct'}}],\n",
       " 'outputDatasets': [],\n",
       " 'logFiles': {}}"
      ]
     },
     "execution_count": 14,
     "metadata": {},
     "output_type": "execute_result"
    }
   ],
   "source": [
    "RunDetails(automl_run).show()\n",
    "automl_run.wait_for_completion() # get more parameter info"
   ]
  },
  {
   "cell_type": "code",
   "execution_count": 15,
   "metadata": {},
   "outputs": [
    {
     "name": "stdout",
     "output_type": "stream",
     "text": [
      "datatransformer\n",
      "prefittedsoftvotingclassifier\n"
     ]
    }
   ],
   "source": [
    "best_run, fitted_model = automl_run.get_output()\n",
    "# pipeline steps\n",
    "for step in fitted_model.named_steps:\n",
    "    print(step)"
   ]
  },
  {
   "cell_type": "code",
   "execution_count": 16,
   "metadata": {},
   "outputs": [
    {
     "data": {
      "text/plain": [
       "{'datatransformer': DataTransformer(allow_chargram=None, enable_dnn=None,\n",
       "                 enable_feature_sweeping=None, feature_sweeping_config=None,\n",
       "                 feature_sweeping_timeout=None, featurization_config=None,\n",
       "                 force_text_dnn=None, is_cross_validation=None,\n",
       "                 is_onnx_compatible=None, logger=None, observer=None, task=None,\n",
       "                 working_dir=None),\n",
       " 'prefittedsoftvotingclassifier': PreFittedSoftVotingClassifier(classification_labels=None,\n",
       "                               estimators=[('0',\n",
       "                                            Pipeline(memory=None,\n",
       "                                                     steps=[('maxabsscaler',\n",
       "                                                             MaxAbsScaler(copy=True)),\n",
       "                                                            ('lightgbmclassifier',\n",
       "                                                             LightGBMClassifier(boosting_type='gbdt',\n",
       "                                                                                class_weight=None,\n",
       "                                                                                colsample_bytree=1.0,\n",
       "                                                                                importance_type='split',\n",
       "                                                                                learning_rate=0.1,\n",
       "                                                                                max_depth=-1,\n",
       "                                                                                min_child_samples=20,\n",
       "                                                                                min_child_weight=0.001,\n",
       "                                                                                min_spl...\n",
       "                                                                               learning_rate=0.1,\n",
       "                                                                               max_delta_step=0,\n",
       "                                                                               max_depth=3,\n",
       "                                                                               min_child_weight=1,\n",
       "                                                                               missing=nan,\n",
       "                                                                               n_estimators=100,\n",
       "                                                                               n_jobs=-1,\n",
       "                                                                               nthread=None,\n",
       "                                                                               objective='multi:softprob',\n",
       "                                                                               random_state=0,\n",
       "                                                                               reg_alpha=0,\n",
       "                                                                               reg_lambda=1,\n",
       "                                                                               scale_pos_weight=1,\n",
       "                                                                               seed=None,\n",
       "                                                                               silent=None,\n",
       "                                                                               subsample=1,\n",
       "                                                                               tree_method='auto',\n",
       "                                                                               verbose=-10,\n",
       "                                                                               verbosity=0))],\n",
       "                                                     verbose=False))],\n",
       "                               flatten_transform=None,\n",
       "                               weights=[0.4, 0.1, 0.1, 0.3, 0.1])}"
      ]
     },
     "execution_count": 16,
     "metadata": {},
     "output_type": "execute_result"
    }
   ],
   "source": [
    "# model properties\n",
    "fitted_model.named_steps"
   ]
  },
  {
   "cell_type": "code",
   "execution_count": 17,
   "metadata": {},
   "outputs": [
    {
     "data": {
      "text/plain": [
       "{'f1_score_weighted': 0.7447772502096816,\n",
       " 'f1_score_macro': 0.6865905114847157,\n",
       " 'matthews_correlation': 0.5617864259969967,\n",
       " 'recall_score_micro': 0.7516767720959348,\n",
       " 'average_precision_score_macro': 0.7695858933483806,\n",
       " 'precision_score_micro': 0.7516767720959348,\n",
       " 'AUC_weighted': 0.8775572510294355,\n",
       " 'balanced_accuracy': 0.6647108348052492,\n",
       " 'precision_score_macro': 0.7294028566975033,\n",
       " 'recall_score_macro': 0.6647108348052492,\n",
       " 'precision_score_weighted': 0.7479405114928387,\n",
       " 'norm_macro_recall': 0.4970662522078738,\n",
       " 'f1_score_micro': 0.7516767720959348,\n",
       " 'accuracy': 0.7516767720959348,\n",
       " 'AUC_macro': 0.8829318852482348,\n",
       " 'average_precision_score_micro': 0.8314633741843664,\n",
       " 'average_precision_score_weighted': 0.8240378775437387,\n",
       " 'AUC_micro': 0.9043359985156428,\n",
       " 'weighted_accuracy': 0.7947083791333165,\n",
       " 'log_loss': 0.5947824462488391,\n",
       " 'recall_score_weighted': 0.7516767720959348,\n",
       " 'accuracy_table': 'aml://artifactId/ExperimentRun/dcid.AutoML_1766ab23-4500-4668-95f2-c4cf355d7b19_9/accuracy_table',\n",
       " 'confusion_matrix': 'aml://artifactId/ExperimentRun/dcid.AutoML_1766ab23-4500-4668-95f2-c4cf355d7b19_9/confusion_matrix'}"
      ]
     },
     "execution_count": 17,
     "metadata": {},
     "output_type": "execute_result"
    }
   ],
   "source": [
    "# show all metrics\n",
    "best_run.get_metrics()"
   ]
  },
  {
   "cell_type": "code",
   "execution_count": 18,
   "metadata": {},
   "outputs": [],
   "source": [
    "# best_run.download_file('residuals')"
   ]
  },
  {
   "cell_type": "code",
   "execution_count": 19,
   "metadata": {},
   "outputs": [],
   "source": [
    "# best_run.download_file('predicted_true')"
   ]
  },
  {
   "cell_type": "code",
   "execution_count": 20,
   "metadata": {},
   "outputs": [
    {
     "data": {
      "text/plain": [
       "{'runId': 'AutoML_1766ab23-4500-4668-95f2-c4cf355d7b19_9',\n",
       " 'status': 'Completed',\n",
       " 'startTimeUtc': '2020-11-28T20:55:29.28262Z',\n",
       " 'endTimeUtc': '2020-11-28T20:55:52.670628Z',\n",
       " 'properties': {'runTemplate': 'automl_child',\n",
       "  'pipeline_id': '__AutoML_Ensemble__',\n",
       "  'pipeline_spec': '{\"pipeline_id\":\"__AutoML_Ensemble__\",\"objects\":[{\"module\":\"azureml.train.automl.ensemble\",\"class_name\":\"Ensemble\",\"spec_class\":\"sklearn\",\"param_args\":[],\"param_kwargs\":{\"automl_settings\":\"{\\'task_type\\':\\'classification\\',\\'primary_metric\\':\\'AUC_weighted\\',\\'verbosity\\':20,\\'ensemble_iterations\\':10,\\'is_timeseries\\':False,\\'name\\':\\'automl-classification-synthetic-health-data\\',\\'compute_target\\':\\'local\\',\\'subscription_id\\':\\'43c1f93a-903d-4b23-a4bf-92bd7a150627\\',\\'region\\':\\'westeurope\\',\\'spark_service\\':None}\",\"ensemble_run_id\":\"AutoML_1766ab23-4500-4668-95f2-c4cf355d7b19_9\",\"experiment_name\":null,\"workspace_name\":\"machine_learning_workspace02\",\"subscription_id\":\"43c1f93a-903d-4b23-a4bf-92bd7a150627\",\"resource_group_name\":\"myResourceGroup02\"}}]}',\n",
       "  'training_percent': '100',\n",
       "  'predicted_cost': None,\n",
       "  'iteration': '9',\n",
       "  '_azureml.ComputeTargetType': 'local',\n",
       "  '_aml_system_scenario_identification': 'Local.Child',\n",
       "  'run_template': 'automl_child',\n",
       "  'run_preprocessor': '',\n",
       "  'run_algorithm': 'VotingEnsemble',\n",
       "  'conda_env_data_location': 'aml://artifact/ExperimentRun/dcid.AutoML_1766ab23-4500-4668-95f2-c4cf355d7b19_9/outputs/conda_env_v_1_0_0.yml',\n",
       "  'model_data_location': 'aml://artifact/ExperimentRun/dcid.AutoML_1766ab23-4500-4668-95f2-c4cf355d7b19_9/outputs/model.pkl',\n",
       "  'model_size_on_disk': '1380106',\n",
       "  'scoring_data_location': 'aml://artifact/ExperimentRun/dcid.AutoML_1766ab23-4500-4668-95f2-c4cf355d7b19_9/outputs/scoring_file_v_1_0_0.py',\n",
       "  'model_exp_support': 'True',\n",
       "  'pipeline_graph_version': '1.0.0',\n",
       "  'model_name': 'AutoML1766ab2349',\n",
       "  'staticProperties': '{}',\n",
       "  'score': '0.8775572510294355',\n",
       "  'run_properties': \"classification_labels=None,\\n                              estimators=[('0',\\n                                           Pipeline(memory=None,\\n                                                    steps=[('maxabsscaler',\\n                                                            MaxAbsScaler(copy=True\",\n",
       "  'pipeline_script': '{\"pipeline_id\":\"__AutoML_Ensemble__\",\"objects\":[{\"module\":\"azureml.train.automl.ensemble\",\"class_name\":\"Ensemble\",\"spec_class\":\"sklearn\",\"param_args\":[],\"param_kwargs\":{\"automl_settings\":\"{\\'task_type\\':\\'classification\\',\\'primary_metric\\':\\'AUC_weighted\\',\\'verbosity\\':20,\\'ensemble_iterations\\':10,\\'is_timeseries\\':False,\\'name\\':\\'automl-classification-synthetic-health-data\\',\\'compute_target\\':\\'local\\',\\'subscription_id\\':\\'43c1f93a-903d-4b23-a4bf-92bd7a150627\\',\\'region\\':\\'westeurope\\',\\'spark_service\\':None}\",\"ensemble_run_id\":\"AutoML_1766ab23-4500-4668-95f2-c4cf355d7b19_9\",\"experiment_name\":null,\"workspace_name\":\"machine_learning_workspace02\",\"subscription_id\":\"43c1f93a-903d-4b23-a4bf-92bd7a150627\",\"resource_group_name\":\"myResourceGroup02\"}}]}',\n",
       "  'training_type': 'MeanCrossValidation',\n",
       "  'num_classes': '3',\n",
       "  'framework': 'sklearn',\n",
       "  'fit_time': '7',\n",
       "  'goal': 'AUC_weighted_max',\n",
       "  'class_labels': '',\n",
       "  'primary_metric': 'AUC_weighted',\n",
       "  'errors': '{}',\n",
       "  'fitted_pipeline': \"Pipeline(memory=None,\\n         steps=[('datatransformer',\\n                 DataTransformer(allow_chargram=None, enable_dnn=None,\\n                                 enable_feature_sweeping=None,\\n                                 feature_sweeping_config=None,\\n                                 feature_sweeping_timeout=None,\\n                                 featurization_config=None, force_text_dnn=None,\\n                                 is_cross_validation=None,\\n                                 is_onnx_compatible=None, logger=None,\\n                                 observer=None, task=None, working_dir=None)),\\n                ('prefittedso...\\n                                                                                               max_delta_step=0,\\n                                                                                               max_depth=3,\\n                                                                                               min_child_weight=1,\\n                                                                                               missing=nan,\\n                                                                                               n_estimators=100,\\n                                                                                               n_jobs=-1,\\n                                                                                               nthread=None,\\n                                                                                               objective='multi:softprob',\\n                                                                                               random_state=0,\\n                                                                                               reg_alpha=0,\\n                                                                                               reg_lambda=1,\\n                                                                                               scale_pos_weight=1,\\n                                                                                               seed=None,\\n                                                                                               silent=None,\\n                                                                                               subsample=1,\\n                                                                                               tree_method='auto',\\n                                                                                               verbose=-10,\\n                                                                                               verbosity=0))],\\n                                                                     verbose=False))],\\n                                               flatten_transform=None,\\n                                               weights=[0.4, 0.1, 0.1, 0.3,\\n                                                        0.1]))],\\n         verbose=False)\\nY_transformer(['LabelEncoder', LabelEncoder()])\",\n",
       "  'friendly_errors': '{}',\n",
       "  'onnx_model_resource': \"{'RawColumnNameToOnnxNameMap': {'race': 'race', 'gender': 'gender', 'age': 'age', 'time_in_hospital': 'time_in_hospital', 'num_lab_procedures': 'num_lab_procedures', 'num_procedures': 'num_procedures', 'num_medications': 'num_medications', 'number_outpatient': 'number_outpatient', 'number_emergency': 'number_emergency', 'number_inpatient': 'number_inpatient', 'number_diagnoses': 'number_diagnoses', 'max_glu_serum': 'max_glu_serum', 'A1Cresult': 'A1Cresult', 'metformin': 'metformin', 'repaglinide': 'repaglinide', 'nateglinide': 'nateglinide', 'chlorpropamide': 'chlorpropamide', 'glimepiride': 'glimepiride', 'glipizide': 'glipizide', 'glyburide': 'glyburide', 'tolbutamide': 'tolbutamide', 'pioglitazone': 'pioglitazone', 'rosiglitazone': 'rosiglitazone', 'acarbose': 'acarbose', 'miglitol': 'miglitol', 'tolazamide': 'tolazamide', 'insulin': 'insulin', 'glyburide_metformin': 'glyburide_metformin', 'glipizide_metformin': 'glipizide_metformin', 'glimepiride_pioglitazone': 'glimepiride_pioglitazone', 'change': 'change', 'diabetesMed': 'diabetesMed', '_diag_1': '_diag_1', '_diag_2': '_diag_2', '_diag_3': '_diag_3', 'num_procedures_bin': 'num_procedures_bin', 'num_medications_perday': 'num_medications_perday', 'time_in_hospital_severitylvl': 'time_in_hospital_severitylvl', '__index_level_0__': '__index_level_0__'}, 'InputRawColumnSchema': {'race': 'string', 'gender': 'string', 'age': 'string', 'time_in_hospital': 'integer', 'num_lab_procedures': 'integer', 'num_procedures': 'integer', 'num_medications': 'integer', 'number_outpatient': 'integer', 'number_emergency': 'integer', 'number_inpatient': 'integer', 'number_diagnoses': 'integer', 'max_glu_serum': 'string', 'A1Cresult': 'string', 'metformin': 'string', 'repaglinide': 'string', 'nateglinide': 'string', 'chlorpropamide': 'string', 'glimepiride': 'string', 'glipizide': 'string', 'glyburide': 'string', 'tolbutamide': 'string', 'pioglitazone': 'string', 'rosiglitazone': 'string', 'acarbose': 'string', 'miglitol': 'string', 'tolazamide': 'string', 'insulin': 'string', 'glyburide_metformin': 'string', 'glipizide_metformin': 'string', 'glimepiride_pioglitazone': 'string', 'change': 'string', 'diabetesMed': 'string', '_diag_1': 'string', '_diag_2': 'string', '_diag_3': 'string', 'num_procedures_bin': 'boolean', 'num_medications_perday': 'floating', 'time_in_hospital_severitylvl': 'string', '__index_level_0__': 'integer'}, 'InputOnnxColumnSchema': {'race': 'StringTensorType', 'gender': 'StringTensorType', 'age': 'StringTensorType', 'time_in_hospital': 'Int64TensorType', 'num_lab_procedures': 'Int64TensorType', 'num_procedures': 'Int64TensorType', 'num_medications': 'Int64TensorType', 'number_outpatient': 'Int64TensorType', 'number_emergency': 'Int64TensorType', 'number_inpatient': 'Int64TensorType', 'number_diagnoses': 'Int64TensorType', 'max_glu_serum': 'StringTensorType', 'A1Cresult': 'StringTensorType', 'metformin': 'StringTensorType', 'repaglinide': 'StringTensorType', 'nateglinide': 'StringTensorType', 'chlorpropamide': 'StringTensorType', 'glimepiride': 'StringTensorType', 'glipizide': 'StringTensorType', 'glyburide': 'StringTensorType', 'tolbutamide': 'StringTensorType', 'pioglitazone': 'StringTensorType', 'rosiglitazone': 'StringTensorType', 'acarbose': 'StringTensorType', 'miglitol': 'StringTensorType', 'tolazamide': 'StringTensorType', 'insulin': 'StringTensorType', 'glyburide_metformin': 'StringTensorType', 'glipizide_metformin': 'StringTensorType', 'glimepiride_pioglitazone': 'StringTensorType', 'change': 'StringTensorType', 'diabetesMed': 'StringTensorType', '_diag_1': 'StringTensorType', '_diag_2': 'StringTensorType', '_diag_3': 'StringTensorType', 'num_procedures_bin': 'StringTensorType', 'num_medications_perday': 'FloatTensorType', 'time_in_hospital_severitylvl': 'StringTensorType', '__index_level_0__': 'Int64TensorType'}, 'CanEnableBatchMode': True}\",\n",
       "  'error_code': '',\n",
       "  'failure_reason': '',\n",
       "  'feature_skus': 'automatedml_sdk_guardrails',\n",
       "  'dependencies_versions': '{\"azureml-widgets\": \"1.17.0\", \"azureml-train\": \"1.17.0\", \"azureml-train-restclients-hyperdrive\": \"1.17.0\", \"azureml-train-core\": \"1.17.0\", \"azureml-train-automl\": \"1.17.0\", \"azureml-train-automl-runtime\": \"1.17.0\", \"azureml-train-automl-client\": \"1.17.0\", \"azureml-tensorboard\": \"1.17.0\", \"azureml-telemetry\": \"1.17.0\", \"azureml-sdk\": \"1.17.0\", \"azureml-pipeline\": \"1.17.0\", \"azureml-pipeline-steps\": \"1.17.0\", \"azureml-pipeline-core\": \"1.17.0\", \"azureml-opendatasets\": \"1.17.0\", \"azureml-model-management-sdk\": \"1.0.1b6.post1\", \"azureml-mlflow\": \"1.17.0.post1\", \"azureml-interpret\": \"1.17.0\", \"azureml-explain-model\": \"1.17.0\", \"azureml-defaults\": \"1.17.0\", \"azureml-dataset-runtime\": \"1.17.0\", \"azureml-dataprep\": \"2.4.2\", \"azureml-dataprep-rslex\": \"1.2.2\", \"azureml-dataprep-native\": \"24.0.0\", \"azureml-datadrift\": \"1.17.0\", \"azureml-core\": \"1.17.0\", \"azureml-contrib-services\": \"1.17.0\", \"azureml-contrib-server\": \"1.17.0\", \"azureml-contrib-reinforcementlearning\": \"1.17.0\", \"azureml-contrib-pipeline-steps\": \"1.17.0\", \"azureml-contrib-notebook\": \"1.17.0\", \"azureml-contrib-interpret\": \"1.17.0\", \"azureml-contrib-gbdt\": \"1.17.0\", \"azureml-contrib-fairness\": \"1.17.0\", \"azureml-contrib-dataset\": \"1.17.0\", \"azureml-cli-common\": \"1.17.0\", \"azureml-automl-runtime\": \"1.17.0\", \"azureml-automl-core\": \"1.17.0\", \"azureml-accel-models\": \"1.17.0\"}',\n",
       "  'num_cores': '2',\n",
       "  'num_logical_cores': '4',\n",
       "  'peak_memory_usage': '2494952',\n",
       "  'vm_configuration': 'Intel(R) Xeon(R) Platinum 8272CL CPU @ 2.60GHz',\n",
       "  'core_hours': '0.0037284622222222294'},\n",
       " 'inputDatasets': [],\n",
       " 'outputDatasets': [],\n",
       " 'logFiles': {}}"
      ]
     },
     "execution_count": 20,
     "metadata": {},
     "output_type": "execute_result"
    }
   ],
   "source": [
    "best_run.get_details()"
   ]
  },
  {
   "cell_type": "code",
   "execution_count": 21,
   "metadata": {},
   "outputs": [
    {
     "data": {
      "text/plain": [
       "{'number_inpatient_CharGramCountVectorizer_0': 0.7772008069962925,\n",
       " 'change_ModeCatImputer_LabelEncoder': 0.3801518351807926,\n",
       " '_diag_1_CharGramCountVectorizer_Diseases of the circulatory system': 0.27387390988417126,\n",
       " 'age_CharGramCountVectorizer_80-90': 0.19182798967702477,\n",
       " '_diag_1_CharGramCountVectorizer_Diseases of the respiratory system': 0.1500073796332051,\n",
       " '_diag_3_CharGramCountVectorizer_Diabetes mellitus': 0.14128871524204825,\n",
       " 'number_diagnoses_CharGramCountVectorizer_9': 0.13275789346747544,\n",
       " '_diag_3_CharGramCountVectorizer_Diseases of the circulatory system': 0.1259235152860604,\n",
       " '_diag_2_CharGramCountVectorizer_Diabetes mellitus': 0.1181136603027101,\n",
       " 'time_in_hospital_severitylvl_CharGramCountVectorizer_Normal': 0.11593947177044918,\n",
       " 'number_inpatient_CharGramCountVectorizer_2': 0.11537379265322602,\n",
       " '_diag_2_CharGramCountVectorizer_Diseases of the circulatory system': 0.11496547044462507,\n",
       " '_diag_2_CharGramCountVectorizer_Endocrine, nutritional, and metabolic diseases and immunity disorders, without diabetes': 0.09749567636115573,\n",
       " 'number_diagnoses_CharGramCountVectorizer_6': 0.09590606729431439,\n",
       " 'num_medications_MeanImputer': 0.0906823264874687,\n",
       " 'glipizide_CharGramCountVectorizer_Steady': 0.08846164937043653,\n",
       " '_diag_1_CharGramCountVectorizer_Injury and poisoning': 0.08345900135783424,\n",
       " 'glipizide_CharGramCountVectorizer_No': 0.08136240842083861,\n",
       " 'number_outpatient_CharGramCountVectorizer_0': 0.08109648159427908,\n",
       " 'number_inpatient_CharGramCountVectorizer_1': 0.07147778524231387,\n",
       " 'age_CharGramCountVectorizer_60-70': 0.06518461909566252,\n",
       " 'A1Cresult_CharGramCountVectorizer_Norm': 0.06442869240379641,\n",
       " 'num_lab_procedures_MeanImputer': 0.06128430958948603,\n",
       " 'metformin_CharGramCountVectorizer_Steady': 0.060117084593387216,\n",
       " 'age_CharGramCountVectorizer_50-60': 0.05516726443831064,\n",
       " '_diag_1_CharGramCountVectorizer_Diseases of the genitourinary system': 0.05314861276816268,\n",
       " 'number_diagnoses_CharGramCountVectorizer_8': 0.05168277117818304,\n",
       " 'time_in_hospital_CharGramCountVectorizer_1': 0.05054244119810733,\n",
       " 'diabetesMed_ModeCatImputer_LabelEncoder': 0.04937249437657106,\n",
       " 'metformin_CharGramCountVectorizer_No': 0.047505114863592685,\n",
       " '_diag_3_CharGramCountVectorizer_Diseases of the respiratory system': 0.046412623507216144,\n",
       " '_diag_3_CharGramCountVectorizer_Diseases of the genitourinary system': 0.04636586712601479,\n",
       " 'number_outpatient_CharGramCountVectorizer_1': 0.04459578756659482,\n",
       " 'time_in_hospital_CharGramCountVectorizer_2': 0.044510398577970615,\n",
       " '_diag_2_CharGramCountVectorizer_Diseases of the respiratory system': 0.04190926251838175,\n",
       " '_diag_3_CharGramCountVectorizer_Endocrine, nutritional, and metabolic diseases and immunity disorders, without diabetes': 0.04163973556348303,\n",
       " '_diag_2_CharGramCountVectorizer_Diseases of the genitourinary system': 0.036924030938148535,\n",
       " 'number_diagnoses_CharGramCountVectorizer_7': 0.03630017374106235,\n",
       " 'num_medications_perday_MeanImputer': 0.03539602212881355,\n",
       " '_diag_1_CharGramCountVectorizer_Neoplasms': 0.03367147019178565,\n",
       " 'race_CharGramCountVectorizer_Caucasian': 0.03364456931719468,\n",
       " '_diag_3_CharGramCountVectorizer_Diseases of the digestive system': 0.03335701589480263,\n",
       " '_diag_1_CharGramCountVectorizer_Diseases of the digestive system': 0.03188289890626125,\n",
       " 'number_diagnoses_CharGramCountVectorizer_5': 0.030960637900626396,\n",
       " 'A1Cresult_CharGramCountVectorizer_>8': 0.02608312502689891,\n",
       " 'time_in_hospital_severitylvl_CharGramCountVectorizer_Severe': 0.024721733575724786,\n",
       " 'gender_ModeCatImputer_LabelEncoder': 0.02458534834266661,\n",
       " 'insulin_CharGramCountVectorizer_No': 0.023676028186770542,\n",
       " 'pioglitazone_CharGramCountVectorizer_No': 0.022778847852732136,\n",
       " 'number_emergency_CharGramCountVectorizer_2': 0.022118048051564726,\n",
       " '__index_level_0___MeanImputer': 0.021740370089259275,\n",
       " 'glyburide_CharGramCountVectorizer_No': 0.021301538065165132,\n",
       " 'time_in_hospital_CharGramCountVectorizer_7': 0.01923580164092575,\n",
       " 'time_in_hospital_CharGramCountVectorizer_9': 0.019192125081215528,\n",
       " 'number_inpatient_CharGramCountVectorizer_3': 0.018694033087595485,\n",
       " '_diag_2_CharGramCountVectorizer_Neoplasms': 0.016860341887542,\n",
       " 'time_in_hospital_CharGramCountVectorizer_3': 0.01622103809345676,\n",
       " '_diag_2_CharGramCountVectorizer_Diseases of the skin and subcutaneous tissue': 0.01602352290290871,\n",
       " 'insulin_CharGramCountVectorizer_Up': 0.015547519650817547,\n",
       " 'num_procedures_CharGramCountVectorizer_6': 0.01499119756707404,\n",
       " '_diag_1_CharGramCountVectorizer_Mental disorders': 0.014967982125610164,\n",
       " 'number_emergency_CharGramCountVectorizer_0': 0.014754378680912365,\n",
       " 'num_procedures_CharGramCountVectorizer_3': 0.01456458882715881,\n",
       " 'glyburide_CharGramCountVectorizer_Steady': 0.014305615407695043,\n",
       " 'time_in_hospital_CharGramCountVectorizer_4': 0.013997392321415532,\n",
       " 'time_in_hospital_CharGramCountVectorizer_5': 0.013218931192262732,\n",
       " 'pioglitazone_CharGramCountVectorizer_Steady': 0.013125729820947297,\n",
       " 'number_diagnoses_CharGramCountVectorizer_4': 0.013018880652156915,\n",
       " '_diag_2_CharGramCountVectorizer_Other symptoms, signs, and ill-defined conditions': 0.012168231884362729,\n",
       " 'time_in_hospital_CharGramCountVectorizer_6': 0.011591976372546666,\n",
       " 'max_glu_serum_CharGramCountVectorizer_None': 0.011163498843285059,\n",
       " 'insulin_CharGramCountVectorizer_Down': 0.010278243671725818,\n",
       " 'age_CharGramCountVectorizer_40-50': 0.009614727498728078,\n",
       " 'number_emergency_CharGramCountVectorizer_1': 0.009565838893296407,\n",
       " 'time_in_hospital_CharGramCountVectorizer_8': 0.00949100209912928,\n",
       " '_diag_1_CharGramCountVectorizer_Endocrine, nutritional, and metabolic diseases and immunity disorders, without diabetes': 0.008279444098676295,\n",
       " 'time_in_hospital_CharGramCountVectorizer_12': 0.008233404571806094,\n",
       " 'nateglinide_CharGramCountVectorizer_No': 0.00819473306701541,\n",
       " 'glimepiride_CharGramCountVectorizer_No': 0.007973164151834146,\n",
       " '_diag_2_CharGramCountVectorizer_Diseases of the blood and blood-forming organs': 0.007636848651338846,\n",
       " 'number_diagnoses_CharGramCountVectorizer_3': 0.006608884152622999,\n",
       " 'num_procedures_CharGramCountVectorizer_1': 0.005503854237119052,\n",
       " '_diag_2_CharGramCountVectorizer_Diseases of the digestive system': 0.005480054929175451,\n",
       " 'num_procedures_CharGramCountVectorizer_5': 0.004848218597133699,\n",
       " '_diag_2_CharGramCountVectorizer_Complications of pregnancy, childbirth, and the puerperium': 0.00461109816128147,\n",
       " 'age_CharGramCountVectorizer_70-80': 0.00451355393530947,\n",
       " 'number_outpatient_CharGramCountVectorizer_3': 0.004429370771014309,\n",
       " 'num_procedures_CharGramCountVectorizer_0': 0.00426844986072786,\n",
       " '_diag_2_CharGramCountVectorizer_Supplemental classification': 0.004083573659973385,\n",
       " 'race_CharGramCountVectorizer_AfricanAmerican': 0.004074529183724869,\n",
       " 'time_in_hospital_severitylvl_CharGramCountVectorizer_Moderate': 0.003920388041388095,\n",
       " 'rosiglitazone_CharGramCountVectorizer_No': 0.003771704595865056,\n",
       " '_diag_1_CharGramCountVectorizer_Diseases of the musculoskeletal system and connective tissue': 0.003711401603874285,\n",
       " 'number_outpatient_CharGramCountVectorizer_2': 0.0036385456928602453,\n",
       " '_diag_3_CharGramCountVectorizer_Neoplasms': 0.0035841249524104137,\n",
       " '_diag_1_CharGramCountVectorizer_Diseases of the skin and subcutaneous tissue': 0.003552031746450878,\n",
       " 'insulin_CharGramCountVectorizer_Steady': 0.003413985422239784,\n",
       " '_diag_3_CharGramCountVectorizer_Infectious and parasitic diseases': 0.0032359429653013305,\n",
       " 'repaglinide_CharGramCountVectorizer_Steady': 0.00322311557465532,\n",
       " 'repaglinide_CharGramCountVectorizer_No': 0.0030805006385842015}"
      ]
     },
     "execution_count": 21,
     "metadata": {},
     "output_type": "execute_result"
    }
   ],
   "source": [
    "client = ExplanationClient.from_run(best_run)\n",
    "engineered_explanations = client.download_model_explanation(raw=False)\n",
    "feature_importance = engineered_explanations.get_feature_importance_dict() # get model feature importance values\n",
    "feature_importance"
   ]
  },
  {
   "cell_type": "code",
   "execution_count": 22,
   "metadata": {},
   "outputs": [
    {
     "data": {
      "text/html": [
       "<div>\n",
       "<style scoped>\n",
       "    .dataframe tbody tr th:only-of-type {\n",
       "        vertical-align: middle;\n",
       "    }\n",
       "\n",
       "    .dataframe tbody tr th {\n",
       "        vertical-align: top;\n",
       "    }\n",
       "\n",
       "    .dataframe thead th {\n",
       "        text-align: right;\n",
       "    }\n",
       "</style>\n",
       "<table border=\"1\" class=\"dataframe\">\n",
       "  <thead>\n",
       "    <tr style=\"text-align: right;\">\n",
       "      <th></th>\n",
       "      <th>modelFeatureImportance_name</th>\n",
       "      <th>modelFeatureImportance_value</th>\n",
       "    </tr>\n",
       "  </thead>\n",
       "  <tbody>\n",
       "    <tr>\n",
       "      <th>0</th>\n",
       "      <td>number_inpatient_CharGramCountVectorizer_0</td>\n",
       "      <td>0.78</td>\n",
       "    </tr>\n",
       "    <tr>\n",
       "      <th>1</th>\n",
       "      <td>change_ModeCatImputer_LabelEncoder</td>\n",
       "      <td>0.38</td>\n",
       "    </tr>\n",
       "    <tr>\n",
       "      <th>2</th>\n",
       "      <td>_diag_1_CharGramCountVectorizer_Diseases of the circulatory system</td>\n",
       "      <td>0.27</td>\n",
       "    </tr>\n",
       "    <tr>\n",
       "      <th>3</th>\n",
       "      <td>age_CharGramCountVectorizer_80-90</td>\n",
       "      <td>0.19</td>\n",
       "    </tr>\n",
       "    <tr>\n",
       "      <th>4</th>\n",
       "      <td>_diag_1_CharGramCountVectorizer_Diseases of the respiratory system</td>\n",
       "      <td>0.15</td>\n",
       "    </tr>\n",
       "    <tr>\n",
       "      <th>...</th>\n",
       "      <td>...</td>\n",
       "      <td>...</td>\n",
       "    </tr>\n",
       "    <tr>\n",
       "      <th>95</th>\n",
       "      <td>_diag_1_CharGramCountVectorizer_Diseases of the skin and subcutaneous tissue</td>\n",
       "      <td>0.00</td>\n",
       "    </tr>\n",
       "    <tr>\n",
       "      <th>96</th>\n",
       "      <td>insulin_CharGramCountVectorizer_Steady</td>\n",
       "      <td>0.00</td>\n",
       "    </tr>\n",
       "    <tr>\n",
       "      <th>97</th>\n",
       "      <td>_diag_3_CharGramCountVectorizer_Infectious and parasitic diseases</td>\n",
       "      <td>0.00</td>\n",
       "    </tr>\n",
       "    <tr>\n",
       "      <th>98</th>\n",
       "      <td>repaglinide_CharGramCountVectorizer_Steady</td>\n",
       "      <td>0.00</td>\n",
       "    </tr>\n",
       "    <tr>\n",
       "      <th>99</th>\n",
       "      <td>repaglinide_CharGramCountVectorizer_No</td>\n",
       "      <td>0.00</td>\n",
       "    </tr>\n",
       "  </tbody>\n",
       "</table>\n",
       "<p>100 rows × 2 columns</p>\n",
       "</div>"
      ],
      "text/plain": [
       "                                                     modelFeatureImportance_name  \\\n",
       "0                                     number_inpatient_CharGramCountVectorizer_0   \n",
       "1                                             change_ModeCatImputer_LabelEncoder   \n",
       "2             _diag_1_CharGramCountVectorizer_Diseases of the circulatory system   \n",
       "3                                              age_CharGramCountVectorizer_80-90   \n",
       "4             _diag_1_CharGramCountVectorizer_Diseases of the respiratory system   \n",
       "..                                                                           ...   \n",
       "95  _diag_1_CharGramCountVectorizer_Diseases of the skin and subcutaneous tissue   \n",
       "96                                        insulin_CharGramCountVectorizer_Steady   \n",
       "97             _diag_3_CharGramCountVectorizer_Infectious and parasitic diseases   \n",
       "98                                    repaglinide_CharGramCountVectorizer_Steady   \n",
       "99                                        repaglinide_CharGramCountVectorizer_No   \n",
       "\n",
       "    modelFeatureImportance_value  \n",
       "0                           0.78  \n",
       "1                           0.38  \n",
       "2                           0.27  \n",
       "3                           0.19  \n",
       "4                           0.15  \n",
       "..                           ...  \n",
       "95                          0.00  \n",
       "96                          0.00  \n",
       "97                          0.00  \n",
       "98                          0.00  \n",
       "99                          0.00  \n",
       "\n",
       "[100 rows x 2 columns]"
      ]
     },
     "execution_count": 22,
     "metadata": {},
     "output_type": "execute_result"
    }
   ],
   "source": [
    "columns = [\"modelFeatureImportance_name\", \"modelFeatureImportance_value\"]\n",
    "fi = pd.DataFrame(list(feature_importance.items()), columns=columns) # transform dict into DataFrame\n",
    "fi"
   ]
  },
  {
   "cell_type": "code",
   "execution_count": 23,
   "metadata": {},
   "outputs": [
    {
     "data": {
      "text/html": [
       "<div>\n",
       "<style scoped>\n",
       "    .dataframe tbody tr th:only-of-type {\n",
       "        vertical-align: middle;\n",
       "    }\n",
       "\n",
       "    .dataframe tbody tr th {\n",
       "        vertical-align: top;\n",
       "    }\n",
       "\n",
       "    .dataframe thead th {\n",
       "        text-align: right;\n",
       "    }\n",
       "</style>\n",
       "<table border=\"1\" class=\"dataframe\">\n",
       "  <thead>\n",
       "    <tr style=\"text-align: right;\">\n",
       "      <th></th>\n",
       "      <th>modelFeatureImportance_name</th>\n",
       "      <th>modelFeatureImportance_value</th>\n",
       "    </tr>\n",
       "  </thead>\n",
       "  <tbody>\n",
       "    <tr>\n",
       "      <th>0</th>\n",
       "      <td>number_inpatient_CharGramCountVectorizer_0</td>\n",
       "      <td>0.78</td>\n",
       "    </tr>\n",
       "    <tr>\n",
       "      <th>1</th>\n",
       "      <td>change_ModeCatImputer_LabelEncoder</td>\n",
       "      <td>0.38</td>\n",
       "    </tr>\n",
       "    <tr>\n",
       "      <th>2</th>\n",
       "      <td>_diag_1_CharGramCountVectorizer_Diseases of the circulatory system</td>\n",
       "      <td>0.27</td>\n",
       "    </tr>\n",
       "    <tr>\n",
       "      <th>3</th>\n",
       "      <td>age_CharGramCountVectorizer_80-90</td>\n",
       "      <td>0.19</td>\n",
       "    </tr>\n",
       "    <tr>\n",
       "      <th>4</th>\n",
       "      <td>_diag_1_CharGramCountVectorizer_Diseases of the respiratory system</td>\n",
       "      <td>0.15</td>\n",
       "    </tr>\n",
       "    <tr>\n",
       "      <th>...</th>\n",
       "      <td>...</td>\n",
       "      <td>...</td>\n",
       "    </tr>\n",
       "    <tr>\n",
       "      <th>67</th>\n",
       "      <td>number_diagnoses_CharGramCountVectorizer_4</td>\n",
       "      <td>0.01</td>\n",
       "    </tr>\n",
       "    <tr>\n",
       "      <th>68</th>\n",
       "      <td>_diag_2_CharGramCountVectorizer_Other symptoms, signs, and ill-defined conditions</td>\n",
       "      <td>0.01</td>\n",
       "    </tr>\n",
       "    <tr>\n",
       "      <th>69</th>\n",
       "      <td>time_in_hospital_CharGramCountVectorizer_6</td>\n",
       "      <td>0.01</td>\n",
       "    </tr>\n",
       "    <tr>\n",
       "      <th>70</th>\n",
       "      <td>max_glu_serum_CharGramCountVectorizer_None</td>\n",
       "      <td>0.01</td>\n",
       "    </tr>\n",
       "    <tr>\n",
       "      <th>71</th>\n",
       "      <td>insulin_CharGramCountVectorizer_Down</td>\n",
       "      <td>0.01</td>\n",
       "    </tr>\n",
       "  </tbody>\n",
       "</table>\n",
       "<p>72 rows × 2 columns</p>\n",
       "</div>"
      ],
      "text/plain": [
       "                                                          modelFeatureImportance_name  \\\n",
       "0                                          number_inpatient_CharGramCountVectorizer_0   \n",
       "1                                                  change_ModeCatImputer_LabelEncoder   \n",
       "2                  _diag_1_CharGramCountVectorizer_Diseases of the circulatory system   \n",
       "3                                                   age_CharGramCountVectorizer_80-90   \n",
       "4                  _diag_1_CharGramCountVectorizer_Diseases of the respiratory system   \n",
       "..                                                                                ...   \n",
       "67                                         number_diagnoses_CharGramCountVectorizer_4   \n",
       "68  _diag_2_CharGramCountVectorizer_Other symptoms, signs, and ill-defined conditions   \n",
       "69                                         time_in_hospital_CharGramCountVectorizer_6   \n",
       "70                                         max_glu_serum_CharGramCountVectorizer_None   \n",
       "71                                               insulin_CharGramCountVectorizer_Down   \n",
       "\n",
       "    modelFeatureImportance_value  \n",
       "0                           0.78  \n",
       "1                           0.38  \n",
       "2                           0.27  \n",
       "3                           0.19  \n",
       "4                           0.15  \n",
       "..                           ...  \n",
       "67                          0.01  \n",
       "68                          0.01  \n",
       "69                          0.01  \n",
       "70                          0.01  \n",
       "71                          0.01  \n",
       "\n",
       "[72 rows x 2 columns]"
      ]
     },
     "execution_count": 23,
     "metadata": {},
     "output_type": "execute_result"
    }
   ],
   "source": [
    "fi = fi[fi.iloc[:,1] >= 0.01] # remove small or zero values\n",
    "fi"
   ]
  },
  {
   "cell_type": "code",
   "execution_count": 24,
   "metadata": {},
   "outputs": [
    {
     "data": {
      "text/html": [
       "<div>\n",
       "<style scoped>\n",
       "    .dataframe tbody tr th:only-of-type {\n",
       "        vertical-align: middle;\n",
       "    }\n",
       "\n",
       "    .dataframe tbody tr th {\n",
       "        vertical-align: top;\n",
       "    }\n",
       "\n",
       "    .dataframe thead th {\n",
       "        text-align: right;\n",
       "    }\n",
       "</style>\n",
       "<table border=\"1\" class=\"dataframe\">\n",
       "  <thead>\n",
       "    <tr style=\"text-align: right;\">\n",
       "      <th></th>\n",
       "      <th>modelFeatureImportance_name</th>\n",
       "      <th>modelFeatureImportance_value</th>\n",
       "      <th>modelFeatureImportance_relativeWeight</th>\n",
       "    </tr>\n",
       "  </thead>\n",
       "  <tbody>\n",
       "    <tr>\n",
       "      <th>0</th>\n",
       "      <td>number_inpatient_CharGramCountVectorizer_0</td>\n",
       "      <td>0.78</td>\n",
       "      <td>0.16</td>\n",
       "    </tr>\n",
       "    <tr>\n",
       "      <th>1</th>\n",
       "      <td>change_ModeCatImputer_LabelEncoder</td>\n",
       "      <td>0.38</td>\n",
       "      <td>0.08</td>\n",
       "    </tr>\n",
       "    <tr>\n",
       "      <th>2</th>\n",
       "      <td>_diag_1_CharGramCountVectorizer_Diseases of the circulatory system</td>\n",
       "      <td>0.27</td>\n",
       "      <td>0.06</td>\n",
       "    </tr>\n",
       "    <tr>\n",
       "      <th>3</th>\n",
       "      <td>age_CharGramCountVectorizer_80-90</td>\n",
       "      <td>0.19</td>\n",
       "      <td>0.04</td>\n",
       "    </tr>\n",
       "    <tr>\n",
       "      <th>4</th>\n",
       "      <td>_diag_1_CharGramCountVectorizer_Diseases of the respiratory system</td>\n",
       "      <td>0.15</td>\n",
       "      <td>0.03</td>\n",
       "    </tr>\n",
       "    <tr>\n",
       "      <th>...</th>\n",
       "      <td>...</td>\n",
       "      <td>...</td>\n",
       "      <td>...</td>\n",
       "    </tr>\n",
       "    <tr>\n",
       "      <th>67</th>\n",
       "      <td>number_diagnoses_CharGramCountVectorizer_4</td>\n",
       "      <td>0.01</td>\n",
       "      <td>0.00</td>\n",
       "    </tr>\n",
       "    <tr>\n",
       "      <th>68</th>\n",
       "      <td>_diag_2_CharGramCountVectorizer_Other symptoms, signs, and ill-defined conditions</td>\n",
       "      <td>0.01</td>\n",
       "      <td>0.00</td>\n",
       "    </tr>\n",
       "    <tr>\n",
       "      <th>69</th>\n",
       "      <td>time_in_hospital_CharGramCountVectorizer_6</td>\n",
       "      <td>0.01</td>\n",
       "      <td>0.00</td>\n",
       "    </tr>\n",
       "    <tr>\n",
       "      <th>70</th>\n",
       "      <td>max_glu_serum_CharGramCountVectorizer_None</td>\n",
       "      <td>0.01</td>\n",
       "      <td>0.00</td>\n",
       "    </tr>\n",
       "    <tr>\n",
       "      <th>71</th>\n",
       "      <td>insulin_CharGramCountVectorizer_Down</td>\n",
       "      <td>0.01</td>\n",
       "      <td>0.00</td>\n",
       "    </tr>\n",
       "  </tbody>\n",
       "</table>\n",
       "<p>72 rows × 3 columns</p>\n",
       "</div>"
      ],
      "text/plain": [
       "                                                          modelFeatureImportance_name  \\\n",
       "0                                          number_inpatient_CharGramCountVectorizer_0   \n",
       "1                                                  change_ModeCatImputer_LabelEncoder   \n",
       "2                  _diag_1_CharGramCountVectorizer_Diseases of the circulatory system   \n",
       "3                                                   age_CharGramCountVectorizer_80-90   \n",
       "4                  _diag_1_CharGramCountVectorizer_Diseases of the respiratory system   \n",
       "..                                                                                ...   \n",
       "67                                         number_diagnoses_CharGramCountVectorizer_4   \n",
       "68  _diag_2_CharGramCountVectorizer_Other symptoms, signs, and ill-defined conditions   \n",
       "69                                         time_in_hospital_CharGramCountVectorizer_6   \n",
       "70                                         max_glu_serum_CharGramCountVectorizer_None   \n",
       "71                                               insulin_CharGramCountVectorizer_Down   \n",
       "\n",
       "    modelFeatureImportance_value  modelFeatureImportance_relativeWeight  \n",
       "0                           0.78                                   0.16  \n",
       "1                           0.38                                   0.08  \n",
       "2                           0.27                                   0.06  \n",
       "3                           0.19                                   0.04  \n",
       "4                           0.15                                   0.03  \n",
       "..                           ...                                    ...  \n",
       "67                          0.01                                   0.00  \n",
       "68                          0.01                                   0.00  \n",
       "69                          0.01                                   0.00  \n",
       "70                          0.01                                   0.00  \n",
       "71                          0.01                                   0.00  \n",
       "\n",
       "[72 rows x 3 columns]"
      ]
     },
     "execution_count": 24,
     "metadata": {},
     "output_type": "execute_result"
    }
   ],
   "source": [
    "fi_sum = fi.iloc[:,1].sum()\n",
    "relativeWeight = lambda x: x/fi_sum # normalize percentage values of weights\n",
    "fi[\"modelFeatureImportance_relativeWeight\"] = fi.iloc[:,1].apply(relativeWeight)\n",
    "fi"
   ]
  },
  {
   "cell_type": "code",
   "execution_count": null,
   "metadata": {},
   "outputs": [],
   "source": []
  },
  {
   "cell_type": "markdown",
   "metadata": {},
   "source": [
    "# second run on >30"
   ]
  },
  {
   "cell_type": "code",
   "execution_count": null,
   "metadata": {},
   "outputs": [],
   "source": [
    "# setup parquet file(s) into a tabular dataset\n",
    "ds_path = [DataPath(ds, 'silver/synthetic_data_processed_morethan30.parquet')] # {path/*.parquet}\n",
    "dataset = Dataset.Tabular.from_parquet_files(path=ds_path)\n",
    "# show dataset settings\n",
    "dataset"
   ]
  },
  {
   "cell_type": "code",
   "execution_count": null,
   "metadata": {},
   "outputs": [],
   "source": [
    "# choose an experiment name\n",
    "experiment = Experiment(ws, 'automl-classification-synthetic-change')"
   ]
  },
  {
   "cell_type": "code",
   "execution_count": null,
   "metadata": {},
   "outputs": [],
   "source": [
    "automl_settings = {\n",
    "    \"enable_early_stopping\":True,\n",
    "    \"experiment_timeout_hours\":0.5,\n",
    "    \"iterations\":10, # number of runs ex: 20\n",
    "    \"iteration_timeout_minutes\":5,\n",
    "    \"max_concurrent_iterations\":1,\n",
    "    \"max_cores_per_iteration\":-1,\n",
    "    #\"experiment_exit_score\":0.9920,\n",
    "    \"model_explainability\":True,\n",
    "    \"n_cross_validations\":5, # make 10 if small dataset, else 5\n",
    "    \"primary_metric\":'AUC_weighted',\n",
    "    \"featurization\":'auto',\n",
    "    \"verbosity\":logging.INFO, # {INFO, DEBUG, CRITICAL, ERROR, WARNING} -- debug_log=<*.log>\n",
    "    \"enable_dnn\":False,\n",
    "}\n",
    "\n",
    "automl_config = AutoMLConfig(task='classification',\n",
    "                             debug_log='automl_errors.log',\n",
    "                             compute_target='local', # {training_cluster or 'local'}\n",
    "                             #blacklist_models=['KNN','LinearSVM'],\n",
    "#                              environment_definition=training_env,\n",
    "                             enable_onnx_compatible_models=True,\n",
    "                             training_data=dataset,\n",
    "                             label_column_name=\"change\",\n",
    "#                              training_data=training_data,\n",
    "#                              validation_data=validation_data,\n",
    "#                              label_column_name=\"readmitted\",\n",
    "                             **automl_settings\n",
    "                            )\n",
    "# ouputs \"model.pkl\" and \"automl_errors.log\""
   ]
  },
  {
   "cell_type": "code",
   "execution_count": null,
   "metadata": {},
   "outputs": [],
   "source": [
    "automl_run = experiment.submit(automl_config, show_output=True)"
   ]
  },
  {
   "cell_type": "code",
   "execution_count": null,
   "metadata": {},
   "outputs": [],
   "source": [
    "RunDetails(automl_run).show()\n",
    "automl_run.wait_for_completion() # get more parameter info"
   ]
  },
  {
   "cell_type": "code",
   "execution_count": null,
   "metadata": {},
   "outputs": [],
   "source": [
    "best_run, fitted_model = automl_run.get_output()"
   ]
  },
  {
   "cell_type": "code",
   "execution_count": null,
   "metadata": {},
   "outputs": [],
   "source": [
    "# pipeline steps\n",
    "for step in fitted_model.named_steps:\n",
    "    print(step)"
   ]
  },
  {
   "cell_type": "code",
   "execution_count": null,
   "metadata": {},
   "outputs": [],
   "source": [
    "# model properties\n",
    "fitted_model.named_steps"
   ]
  },
  {
   "cell_type": "code",
   "execution_count": null,
   "metadata": {},
   "outputs": [],
   "source": [
    "# show all metrics\n",
    "best_run.get_metrics()"
   ]
  },
  {
   "cell_type": "code",
   "execution_count": null,
   "metadata": {},
   "outputs": [],
   "source": [
    "best_run.get_details()"
   ]
  },
  {
   "cell_type": "code",
   "execution_count": null,
   "metadata": {},
   "outputs": [],
   "source": [
    "client = ExplanationClient.from_run(best_run)\n",
    "engineered_explanations = client.download_model_explanation(raw=False)\n",
    "feature_importance = engineered_explanations.get_feature_importance_dict() # get model feature importance values\n",
    "feature_importance"
   ]
  },
  {
   "cell_type": "code",
   "execution_count": null,
   "metadata": {},
   "outputs": [],
   "source": [
    "columns = [\"modelFeatureImportance_name\", \"modelFeatureImportance_value\"]\n",
    "fi = pd.DataFrame(list(feature_importance.items()), columns=columns) # transform dict into DataFrame\n",
    "fi"
   ]
  },
  {
   "cell_type": "code",
   "execution_count": null,
   "metadata": {},
   "outputs": [],
   "source": [
    "fi = fi[fi.iloc[:,1] >= 0.01] # remove small or zero values\n",
    "fi"
   ]
  },
  {
   "cell_type": "code",
   "execution_count": null,
   "metadata": {},
   "outputs": [],
   "source": [
    "fi_sum = fi.iloc[:,1].sum()\n",
    "relativeWeight = lambda x: x/fi_sum # normalize percentage values of weights\n",
    "fi[\"modelFeatureImportance_relativeWeight\"] = fi.iloc[:,1].apply(relativeWeight)\n",
    "fi"
   ]
  },
  {
   "cell_type": "code",
   "execution_count": null,
   "metadata": {},
   "outputs": [],
   "source": []
  },
  {
   "cell_type": "markdown",
   "metadata": {},
   "source": [
    "# third run on No"
   ]
  },
  {
   "cell_type": "code",
   "execution_count": null,
   "metadata": {},
   "outputs": [],
   "source": [
    "# setup parquet file(s) into a tabular dataset\n",
    "ds_path = [DataPath(ds, 'silver/synthetic_data_processed_withNo.parquet')] # {path/*.parquet}\n",
    "dataset = Dataset.Tabular.from_parquet_files(path=ds_path)\n",
    "# show dataset settings\n",
    "dataset"
   ]
  },
  {
   "cell_type": "code",
   "execution_count": null,
   "metadata": {},
   "outputs": [],
   "source": [
    "dataset.to_pandas_dataframe().shape"
   ]
  },
  {
   "cell_type": "code",
   "execution_count": null,
   "metadata": {},
   "outputs": [],
   "source": [
    "# choose an experiment name\n",
    "experiment = Experiment(ws, 'automl-classification-synthetic-change')"
   ]
  },
  {
   "cell_type": "code",
   "execution_count": null,
   "metadata": {},
   "outputs": [],
   "source": [
    "automl_settings = {\n",
    "    \"enable_early_stopping\":True,\n",
    "    \"experiment_timeout_hours\":0.5,\n",
    "    \"iterations\":10, # number of runs ex: 20\n",
    "    \"iteration_timeout_minutes\":5,\n",
    "    \"max_concurrent_iterations\":1,\n",
    "    \"max_cores_per_iteration\":-1,\n",
    "    #\"experiment_exit_score\":0.9920,\n",
    "    \"model_explainability\":True,\n",
    "    \"n_cross_validations\":5, # make 10 if small dataset, else 5\n",
    "    \"primary_metric\":'AUC_weighted',\n",
    "    \"featurization\":'auto',\n",
    "    \"verbosity\":logging.INFO, # {INFO, DEBUG, CRITICAL, ERROR, WARNING} -- debug_log=<*.log>\n",
    "    \"enable_dnn\":False,\n",
    "}\n",
    "\n",
    "automl_config = AutoMLConfig(task='classification',\n",
    "                             debug_log='automl_errors.log',\n",
    "                             compute_target='local', # {training_cluster or 'local'}\n",
    "                             #blacklist_models=['KNN','LinearSVM'],\n",
    "#                              environment_definition=training_env,\n",
    "                             enable_onnx_compatible_models=True,\n",
    "                             training_data=dataset,\n",
    "                             label_column_name=\"change\",\n",
    "#                              training_data=training_data,\n",
    "#                              validation_data=validation_data,\n",
    "#                              label_column_name=\"readmitted\",\n",
    "                             **automl_settings\n",
    "                            )\n",
    "# ouputs \"model.pkl\" and \"automl_errors.log\""
   ]
  },
  {
   "cell_type": "code",
   "execution_count": null,
   "metadata": {},
   "outputs": [],
   "source": [
    "automl_run = experiment.submit(automl_config, show_output=True)"
   ]
  },
  {
   "cell_type": "code",
   "execution_count": null,
   "metadata": {},
   "outputs": [],
   "source": [
    "RunDetails(automl_run).show()\n",
    "automl_run.wait_for_completion() # get more parameter info"
   ]
  },
  {
   "cell_type": "code",
   "execution_count": null,
   "metadata": {},
   "outputs": [],
   "source": [
    "best_run, fitted_model = automl_run.get_output()"
   ]
  },
  {
   "cell_type": "code",
   "execution_count": null,
   "metadata": {},
   "outputs": [],
   "source": [
    "# pipeline steps\n",
    "for step in fitted_model.named_steps:\n",
    "    print(step)"
   ]
  },
  {
   "cell_type": "code",
   "execution_count": null,
   "metadata": {},
   "outputs": [],
   "source": [
    "# model properties\n",
    "fitted_model.named_steps"
   ]
  },
  {
   "cell_type": "code",
   "execution_count": null,
   "metadata": {},
   "outputs": [],
   "source": [
    "# show all metrics\n",
    "best_run.get_metrics()"
   ]
  },
  {
   "cell_type": "code",
   "execution_count": null,
   "metadata": {},
   "outputs": [],
   "source": [
    "best_run.get_details()"
   ]
  },
  {
   "cell_type": "code",
   "execution_count": null,
   "metadata": {},
   "outputs": [],
   "source": [
    "client = ExplanationClient.from_run(best_run)\n",
    "engineered_explanations = client.download_model_explanation(raw=False)\n",
    "feature_importance = engineered_explanations.get_feature_importance_dict() # get model feature importance values\n",
    "feature_importance"
   ]
  },
  {
   "cell_type": "code",
   "execution_count": null,
   "metadata": {},
   "outputs": [],
   "source": [
    "columns = [\"modelFeatureImportance_name\", \"modelFeatureImportance_value\"]\n",
    "fi = pd.DataFrame(list(feature_importance.items()), columns=columns) # transform dict into DataFrame\n",
    "fi"
   ]
  },
  {
   "cell_type": "code",
   "execution_count": null,
   "metadata": {},
   "outputs": [],
   "source": [
    "fi = fi[fi.iloc[:,1] >= 0.01] # remove small or zero values\n",
    "fi"
   ]
  },
  {
   "cell_type": "code",
   "execution_count": null,
   "metadata": {},
   "outputs": [],
   "source": [
    "fi_sum = fi.iloc[:,1].sum()\n",
    "relativeWeight = lambda x: x/fi_sum # normalize percentage values of weights\n",
    "fi[\"modelFeatureImportance_relativeWeight\"] = fi.iloc[:,1].apply(relativeWeight)\n",
    "fi"
   ]
  },
  {
   "cell_type": "code",
   "execution_count": null,
   "metadata": {},
   "outputs": [],
   "source": []
  }
 ],
 "metadata": {
  "kernelspec": {
   "display_name": "azureml_py36_automl",
   "language": "python",
   "name": "conda-env-azureml_py36_automl-py"
  },
  "language_info": {
   "codemirror_mode": {
    "name": "ipython",
    "version": 3
   },
   "file_extension": ".py",
   "mimetype": "text/x-python",
   "name": "python",
   "nbconvert_exporter": "python",
   "pygments_lexer": "ipython3",
   "version": "3.6.9"
  }
 },
 "nbformat": 4,
 "nbformat_minor": 4
}
