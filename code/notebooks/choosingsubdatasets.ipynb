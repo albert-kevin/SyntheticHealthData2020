{
 "cells": [
  {
   "cell_type": "markdown",
   "metadata": {},
   "source": [
    "extra notebook worked by: Andre Fontes"
   ]
  },
  {
   "cell_type": "code",
   "execution_count": 1,
   "metadata": {},
   "outputs": [],
   "source": [
    "import pandas as pd\n",
    "import dtale\n",
    "import pandas_profiling as pp\n",
    "from IPython.display import Javascript"
   ]
  },
  {
   "cell_type": "code",
   "execution_count": 2,
   "metadata": {},
   "outputs": [
    {
     "name": "stdout",
     "output_type": "stream",
     "text": [
      "conda 4.9.2\n",
      "Python 3.8.6\n",
      "pandas                    1.1.4            py38h0ef3d22_0    conda-forge/label/main\n",
      "pandas-profiling          2.9.0              pyh9f0ad1d_0    conda-forge/label/main\n",
      "dtale                     1.24.0             pyhd3deb0d_0    conda-forge/label/main\n"
     ]
    }
   ],
   "source": [
    "# check versions\n",
    "!conda -V\n",
    "!python -V\n",
    "!conda list |grep pandas\n",
    "!conda list |grep pandas_profiling\n",
    "!conda list |grep dtale"
   ]
  },
  {
   "cell_type": "markdown",
   "metadata": {},
   "source": [
    "### load data"
   ]
  },
  {
   "cell_type": "code",
   "execution_count": 3,
   "metadata": {},
   "outputs": [],
   "source": [
    "# https://biolib.com/shd2020/Diabetes-Bioinformatics-Data/\n",
    "# manually copied files into these folders\n",
    "synthetic_df = pd.read_csv(\"../../data/bronze/synthetic_data.csv\")\n",
    "features_description = pd.read_csv(\"../../data/bronze/feature_descriptions.csv\")"
   ]
  },
  {
   "cell_type": "markdown",
   "metadata": {},
   "source": [
    "### summary"
   ]
  },
  {
   "cell_type": "code",
   "execution_count": 4,
   "metadata": {},
   "outputs": [
    {
     "name": "stdout",
     "output_type": "stream",
     "text": [
      "<class 'pandas.core.frame.DataFrame'>\n",
      "RangeIndex: 78441 entries, 0 to 78440\n",
      "Data columns (total 42 columns):\n",
      " #   Column                    Non-Null Count  Dtype \n",
      "---  ------                    --------------  ----- \n",
      " 0   race                      78441 non-null  object\n",
      " 1   gender                    78441 non-null  object\n",
      " 2   age                       78441 non-null  object\n",
      " 3   time_in_hospital          78441 non-null  int64 \n",
      " 4   num_lab_procedures        78441 non-null  int64 \n",
      " 5   num_procedures            78441 non-null  int64 \n",
      " 6   num_medications           78441 non-null  int64 \n",
      " 7   number_outpatient         78441 non-null  int64 \n",
      " 8   number_emergency          78441 non-null  int64 \n",
      " 9   number_inpatient          78441 non-null  int64 \n",
      " 10  number_diagnoses          78441 non-null  int64 \n",
      " 11  max_glu_serum             78441 non-null  object\n",
      " 12  A1Cresult                 78441 non-null  object\n",
      " 13  metformin                 78441 non-null  object\n",
      " 14  repaglinide               78441 non-null  object\n",
      " 15  nateglinide               78441 non-null  object\n",
      " 16  chlorpropamide            78441 non-null  object\n",
      " 17  glimepiride               78441 non-null  object\n",
      " 18  acetohexamide             78441 non-null  object\n",
      " 19  glipizide                 78441 non-null  object\n",
      " 20  glyburide                 78441 non-null  object\n",
      " 21  tolbutamide               78441 non-null  object\n",
      " 22  pioglitazone              78441 non-null  object\n",
      " 23  rosiglitazone             78441 non-null  object\n",
      " 24  acarbose                  78441 non-null  object\n",
      " 25  miglitol                  78441 non-null  object\n",
      " 26  troglitazone              78441 non-null  object\n",
      " 27  tolazamide                78441 non-null  object\n",
      " 28  examide                   78441 non-null  object\n",
      " 29  citoglipton               78441 non-null  object\n",
      " 30  insulin                   78441 non-null  object\n",
      " 31  glyburide-metformin       78441 non-null  object\n",
      " 32  glipizide-metformin       78441 non-null  object\n",
      " 33  glimepiride-pioglitazone  78441 non-null  object\n",
      " 34  metformin-rosiglitazone   78441 non-null  object\n",
      " 35  metformin-pioglitazone    78441 non-null  object\n",
      " 36  change                    78441 non-null  object\n",
      " 37  diabetesMed               78441 non-null  object\n",
      " 38  readmitted                78441 non-null  object\n",
      " 39  _diag_1                   78441 non-null  object\n",
      " 40  _diag_2                   78441 non-null  object\n",
      " 41  _diag_3                   78441 non-null  object\n",
      "dtypes: int64(8), object(34)\n",
      "memory usage: 25.1+ MB\n"
     ]
    }
   ],
   "source": [
    "# concise summary (shape, memory use, data types, nan's)\n",
    "synthetic_df.info()"
   ]
  },
  {
   "cell_type": "markdown",
   "metadata": {},
   "source": [
    "### static report"
   ]
  },
  {
   "cell_type": "code",
   "execution_count": 5,
   "metadata": {},
   "outputs": [],
   "source": [
    "reportFile = \"../../data/report/synthetic_diabetes_report.html\""
   ]
  },
  {
   "cell_type": "code",
   "execution_count": 6,
   "metadata": {},
   "outputs": [],
   "source": [
    "%%time\n",
    "# full report on 100% records (no correlation matrix stuff)\n",
    "pp.ProfileReport(df=synthetic_df.sample(frac=1),\n",
    "                 minimal=False,\n",
    "                 progress_bar=False,\n",
    "                 correlations={\"cramers\": {\"calculate\": False}}).to_file(reportFile)"
   ]
  },
  {
   "cell_type": "code",
   "execution_count": 7,
   "metadata": {},
   "outputs": [
    {
     "data": {
      "application/javascript": [
       "window.open(\"../../data/report/synthetic_diabetes_report.html\");"
      ],
      "text/plain": [
       "<IPython.core.display.Javascript object>"
      ]
     },
     "metadata": {},
     "output_type": "display_data"
    }
   ],
   "source": [
    "# open the report (*.html)\n",
    "display(Javascript('window.open(\"{url}\");'.format(url=reportFile)))"
   ]
  },
  {
   "cell_type": "markdown",
   "metadata": {},
   "source": [
    "### interactive report"
   ]
  },
  {
   "cell_type": "code",
   "execution_count": 8,
   "metadata": {},
   "outputs": [],
   "source": [
    "# start webapp (change IP, port)\n",
    "d = dtale.show(synthetic_df, host=\"13.93.37.217\", port=\"40000\", ignore_duplicate=True, drop_index=True, reaper_on=False)"
   ]
  },
  {
   "cell_type": "code",
   "execution_count": 9,
   "metadata": {},
   "outputs": [
    {
     "name": "stdout",
     "output_type": "stream",
     "text": [
      "http://13.93.37.217:40000/dtale/main/1\n"
     ]
    }
   ],
   "source": [
    "# show all running instances\n",
    "d.main_url()"
   ]
  },
  {
   "cell_type": "code",
   "execution_count": null,
   "metadata": {},
   "outputs": [],
   "source": [
    "# stop webapp\n",
    "# d.kill()"
   ]
  },
  {
   "cell_type": "markdown",
   "metadata": {},
   "source": [
    "### data checks"
   ]
  },
  {
   "cell_type": "code",
   "execution_count": 10,
   "metadata": {},
   "outputs": [
    {
     "data": {
      "text/plain": [
       "num_lab_procedures          109\n",
       "num_medications              71\n",
       "number_outpatient            27\n",
       "number_emergency             25\n",
       "_diag_3                      22\n",
       "_diag_2                      22\n",
       "_diag_1                      22\n",
       "number_inpatient             18\n",
       "time_in_hospital             14\n",
       "number_diagnoses             14\n",
       "age                          10\n",
       "num_procedures                7\n",
       "race                          5\n",
       "repaglinide                   4\n",
       "glipizide                     4\n",
       "glyburide-metformin           4\n",
       "insulin                       4\n",
       "max_glu_serum                 4\n",
       "A1Cresult                     4\n",
       "metformin                     4\n",
       "nateglinide                   4\n",
       "glimepiride                   4\n",
       "glyburide                     4\n",
       "pioglitazone                  4\n",
       "rosiglitazone                 4\n",
       "acarbose                      4\n",
       "tolazamide                    3\n",
       "miglitol                      3\n",
       "readmitted                    3\n",
       "change                        2\n",
       "chlorpropamide                2\n",
       "tolbutamide                   2\n",
       "gender                        2\n",
       "glipizide-metformin           2\n",
       "glimepiride-pioglitazone      2\n",
       "diabetesMed                   2\n",
       "acetohexamide                 1\n",
       "troglitazone                  1\n",
       "metformin-pioglitazone        1\n",
       "metformin-rosiglitazone       1\n",
       "citoglipton                   1\n",
       "examide                       1\n",
       "dtype: int64"
      ]
     },
     "execution_count": 10,
     "metadata": {},
     "output_type": "execute_result"
    }
   ],
   "source": [
    "# count distinct (=unique) observations (+ missing), sorted (high cardinality > 390)\n",
    "synthetic_df.nunique(dropna=False).sort_values(ascending=False)"
   ]
  },
  {
   "cell_type": "code",
   "execution_count": null,
   "metadata": {},
   "outputs": [],
   "source": [
    "# def is_outlier(s):\n",
    "   # lower_limit = s.mean() - (s.std() * 3)\n",
    "   # upper_limit = s.mean() + (s.std() * 3)\n",
    "   # return ~s.between(lower_limit, upper_limit)\n",
    "\n",
    "#df = df[~df.groupby('Group')['count'].apply(is_outlier)]"
   ]
  },
  {
   "cell_type": "code",
   "execution_count": null,
   "metadata": {},
   "outputs": [],
   "source": [
    "synthetic_df[synthetic_df[\"readmitted\"] == '<30'].shape"
   ]
  }
 ],
 "metadata": {
  "kernelspec": {
   "display_name": "py38_datareport",
   "language": "python",
   "name": "conda-env-py38_datareport-py"
  },
  "language_info": {
   "codemirror_mode": {
    "name": "ipython",
    "version": 3
   },
   "file_extension": ".py",
   "mimetype": "text/x-python",
   "name": "python",
   "nbconvert_exporter": "python",
   "pygments_lexer": "ipython3",
   "version": "3.8.6"
  }
 },
 "nbformat": 4,
 "nbformat_minor": 4
}
